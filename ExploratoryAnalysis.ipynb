{
 "cells": [
  {
   "cell_type": "markdown",
   "metadata": {},
   "source": [
    "<h1> Exploratory Analysis of </h2>\n",
    "  - Overall Dataset MBE/MAE/SD\n",
    "  - Mapbox Scatter plots\n",
    "  - Introductory time series plots\n",
    "  - Matplotlib image heatplots"
   ]
  },
  {
   "cell_type": "code",
   "execution_count": 38,
   "metadata": {},
   "outputs": [
    {
     "data": {
      "text/html": [
       "<div>\n",
       "<style scoped>\n",
       "    .dataframe tbody tr th:only-of-type {\n",
       "        vertical-align: middle;\n",
       "    }\n",
       "\n",
       "    .dataframe tbody tr th {\n",
       "        vertical-align: top;\n",
       "    }\n",
       "\n",
       "    .dataframe thead th {\n",
       "        text-align: right;\n",
       "    }\n",
       "</style>\n",
       "<table border=\"1\" class=\"dataframe\">\n",
       "  <thead>\n",
       "    <tr style=\"text-align: right;\">\n",
       "      <th></th>\n",
       "      <th>key</th>\n",
       "      <th>start_date</th>\n",
       "      <th>lat</th>\n",
       "      <th>lon</th>\n",
       "      <th>xgboost_tmp2m_pred_zscore</th>\n",
       "      <th>tmp2m_daily_mean</th>\n",
       "      <th>tmp2m_daily_std</th>\n",
       "      <th>tmp2m_zscore</th>\n",
       "      <th>tmp2m</th>\n",
       "      <th>xgboost_tmp2m_pred</th>\n",
       "      <th>err</th>\n",
       "      <th>phys</th>\n",
       "      <th>phys_err</th>\n",
       "      <th>latlon</th>\n",
       "    </tr>\n",
       "  </thead>\n",
       "  <tbody>\n",
       "    <tr>\n",
       "      <th>0</th>\n",
       "      <td>2019-10-01|27.25|261.75</td>\n",
       "      <td>2019-10-01</td>\n",
       "      <td>27.25</td>\n",
       "      <td>261.75</td>\n",
       "      <td>1.028229</td>\n",
       "      <td>22.870967</td>\n",
       "      <td>2.045002</td>\n",
       "      <td>-0.014837</td>\n",
       "      <td>22.840626</td>\n",
       "      <td>24.973697</td>\n",
       "      <td>2.133071</td>\n",
       "      <td>17.826860</td>\n",
       "      <td>-5.013765</td>\n",
       "      <td>27.25|261.75</td>\n",
       "    </tr>\n",
       "    <tr>\n",
       "      <th>1</th>\n",
       "      <td>2019-10-01|27.25|277.75</td>\n",
       "      <td>2019-10-01</td>\n",
       "      <td>27.25</td>\n",
       "      <td>277.75</td>\n",
       "      <td>0.602405</td>\n",
       "      <td>23.886820</td>\n",
       "      <td>1.095936</td>\n",
       "      <td>3.186881</td>\n",
       "      <td>27.379438</td>\n",
       "      <td>24.547017</td>\n",
       "      <td>2.832422</td>\n",
       "      <td>19.966705</td>\n",
       "      <td>-7.412733</td>\n",
       "      <td>27.25|277.75</td>\n",
       "    </tr>\n",
       "    <tr>\n",
       "      <th>2</th>\n",
       "      <td>2019-10-01|27.25|279.75</td>\n",
       "      <td>2019-10-01</td>\n",
       "      <td>27.25</td>\n",
       "      <td>279.75</td>\n",
       "      <td>0.285290</td>\n",
       "      <td>24.353932</td>\n",
       "      <td>0.992701</td>\n",
       "      <td>2.720873</td>\n",
       "      <td>27.054945</td>\n",
       "      <td>24.637140</td>\n",
       "      <td>2.417805</td>\n",
       "      <td>21.474310</td>\n",
       "      <td>-5.580635</td>\n",
       "      <td>27.25|279.75</td>\n",
       "    </tr>\n",
       "    <tr>\n",
       "      <th>3</th>\n",
       "      <td>2019-10-01|29.25|259.75</td>\n",
       "      <td>2019-10-01</td>\n",
       "      <td>29.25</td>\n",
       "      <td>259.75</td>\n",
       "      <td>0.677093</td>\n",
       "      <td>21.986072</td>\n",
       "      <td>2.040617</td>\n",
       "      <td>-0.325284</td>\n",
       "      <td>21.322292</td>\n",
       "      <td>23.367759</td>\n",
       "      <td>2.045467</td>\n",
       "      <td>14.625558</td>\n",
       "      <td>-6.696734</td>\n",
       "      <td>29.25|259.75</td>\n",
       "    </tr>\n",
       "    <tr>\n",
       "      <th>4</th>\n",
       "      <td>2019-10-01|29.25|261.75</td>\n",
       "      <td>2019-10-01</td>\n",
       "      <td>29.25</td>\n",
       "      <td>261.75</td>\n",
       "      <td>1.178884</td>\n",
       "      <td>21.320222</td>\n",
       "      <td>2.163752</td>\n",
       "      <td>-0.391424</td>\n",
       "      <td>20.473276</td>\n",
       "      <td>23.871034</td>\n",
       "      <td>3.397758</td>\n",
       "      <td>14.187637</td>\n",
       "      <td>-6.285639</td>\n",
       "      <td>29.25|261.75</td>\n",
       "    </tr>\n",
       "    <tr>\n",
       "      <th>...</th>\n",
       "      <td>...</td>\n",
       "      <td>...</td>\n",
       "      <td>...</td>\n",
       "      <td>...</td>\n",
       "      <td>...</td>\n",
       "      <td>...</td>\n",
       "      <td>...</td>\n",
       "      <td>...</td>\n",
       "      <td>...</td>\n",
       "      <td>...</td>\n",
       "      <td>...</td>\n",
       "      <td>...</td>\n",
       "      <td>...</td>\n",
       "      <td>...</td>\n",
       "    </tr>\n",
       "    <tr>\n",
       "      <th>26393</th>\n",
       "      <td>2020-07-28|47.25|265.75</td>\n",
       "      <td>2020-07-28</td>\n",
       "      <td>47.25</td>\n",
       "      <td>265.75</td>\n",
       "      <td>-0.024450</td>\n",
       "      <td>18.610993</td>\n",
       "      <td>1.730824</td>\n",
       "      <td>0.599149</td>\n",
       "      <td>19.648014</td>\n",
       "      <td>18.568675</td>\n",
       "      <td>1.079339</td>\n",
       "      <td>8.760571</td>\n",
       "      <td>-10.887443</td>\n",
       "      <td>47.25|265.75</td>\n",
       "    </tr>\n",
       "    <tr>\n",
       "      <th>26394</th>\n",
       "      <td>2020-07-28|47.25|267.75</td>\n",
       "      <td>2020-07-28</td>\n",
       "      <td>47.25</td>\n",
       "      <td>267.75</td>\n",
       "      <td>0.352289</td>\n",
       "      <td>17.596814</td>\n",
       "      <td>1.729239</td>\n",
       "      <td>0.772011</td>\n",
       "      <td>18.931807</td>\n",
       "      <td>18.206006</td>\n",
       "      <td>0.725801</td>\n",
       "      <td>8.714696</td>\n",
       "      <td>-10.217111</td>\n",
       "      <td>47.25|267.75</td>\n",
       "    </tr>\n",
       "    <tr>\n",
       "      <th>26395</th>\n",
       "      <td>2020-07-28|47.25|269.75</td>\n",
       "      <td>2020-07-28</td>\n",
       "      <td>47.25</td>\n",
       "      <td>269.75</td>\n",
       "      <td>0.450236</td>\n",
       "      <td>17.672248</td>\n",
       "      <td>1.595401</td>\n",
       "      <td>0.765863</td>\n",
       "      <td>18.894106</td>\n",
       "      <td>18.390556</td>\n",
       "      <td>0.503550</td>\n",
       "      <td>8.962629</td>\n",
       "      <td>-9.931477</td>\n",
       "      <td>47.25|269.75</td>\n",
       "    </tr>\n",
       "    <tr>\n",
       "      <th>26396</th>\n",
       "      <td>2020-07-28|47.25|271.75</td>\n",
       "      <td>2020-07-28</td>\n",
       "      <td>47.25</td>\n",
       "      <td>271.75</td>\n",
       "      <td>0.269793</td>\n",
       "      <td>17.870772</td>\n",
       "      <td>1.474947</td>\n",
       "      <td>1.511164</td>\n",
       "      <td>20.099659</td>\n",
       "      <td>18.268703</td>\n",
       "      <td>1.830956</td>\n",
       "      <td>9.780845</td>\n",
       "      <td>-10.318814</td>\n",
       "      <td>47.25|271.75</td>\n",
       "    </tr>\n",
       "    <tr>\n",
       "      <th>26397</th>\n",
       "      <td>2020-07-28|47.25|273.75</td>\n",
       "      <td>2020-07-28</td>\n",
       "      <td>47.25</td>\n",
       "      <td>273.75</td>\n",
       "      <td>-0.275458</td>\n",
       "      <td>16.575582</td>\n",
       "      <td>1.936354</td>\n",
       "      <td>0.671992</td>\n",
       "      <td>17.876797</td>\n",
       "      <td>16.042197</td>\n",
       "      <td>1.834599</td>\n",
       "      <td>9.978860</td>\n",
       "      <td>-7.897937</td>\n",
       "      <td>47.25|273.75</td>\n",
       "    </tr>\n",
       "  </tbody>\n",
       "</table>\n",
       "<p>26398 rows × 14 columns</p>\n",
       "</div>"
      ],
      "text/plain": [
       "                           key  start_date    lat     lon  \\\n",
       "0      2019-10-01|27.25|261.75  2019-10-01  27.25  261.75   \n",
       "1      2019-10-01|27.25|277.75  2019-10-01  27.25  277.75   \n",
       "2      2019-10-01|27.25|279.75  2019-10-01  27.25  279.75   \n",
       "3      2019-10-01|29.25|259.75  2019-10-01  29.25  259.75   \n",
       "4      2019-10-01|29.25|261.75  2019-10-01  29.25  261.75   \n",
       "...                        ...         ...    ...     ...   \n",
       "26393  2020-07-28|47.25|265.75  2020-07-28  47.25  265.75   \n",
       "26394  2020-07-28|47.25|267.75  2020-07-28  47.25  267.75   \n",
       "26395  2020-07-28|47.25|269.75  2020-07-28  47.25  269.75   \n",
       "26396  2020-07-28|47.25|271.75  2020-07-28  47.25  271.75   \n",
       "26397  2020-07-28|47.25|273.75  2020-07-28  47.25  273.75   \n",
       "\n",
       "       xgboost_tmp2m_pred_zscore  tmp2m_daily_mean  tmp2m_daily_std  \\\n",
       "0                       1.028229         22.870967         2.045002   \n",
       "1                       0.602405         23.886820         1.095936   \n",
       "2                       0.285290         24.353932         0.992701   \n",
       "3                       0.677093         21.986072         2.040617   \n",
       "4                       1.178884         21.320222         2.163752   \n",
       "...                          ...               ...              ...   \n",
       "26393                  -0.024450         18.610993         1.730824   \n",
       "26394                   0.352289         17.596814         1.729239   \n",
       "26395                   0.450236         17.672248         1.595401   \n",
       "26396                   0.269793         17.870772         1.474947   \n",
       "26397                  -0.275458         16.575582         1.936354   \n",
       "\n",
       "       tmp2m_zscore      tmp2m  xgboost_tmp2m_pred       err       phys  \\\n",
       "0         -0.014837  22.840626           24.973697  2.133071  17.826860   \n",
       "1          3.186881  27.379438           24.547017  2.832422  19.966705   \n",
       "2          2.720873  27.054945           24.637140  2.417805  21.474310   \n",
       "3         -0.325284  21.322292           23.367759  2.045467  14.625558   \n",
       "4         -0.391424  20.473276           23.871034  3.397758  14.187637   \n",
       "...             ...        ...                 ...       ...        ...   \n",
       "26393      0.599149  19.648014           18.568675  1.079339   8.760571   \n",
       "26394      0.772011  18.931807           18.206006  0.725801   8.714696   \n",
       "26395      0.765863  18.894106           18.390556  0.503550   8.962629   \n",
       "26396      1.511164  20.099659           18.268703  1.830956   9.780845   \n",
       "26397      0.671992  17.876797           16.042197  1.834599   9.978860   \n",
       "\n",
       "        phys_err        latlon  \n",
       "0      -5.013765  27.25|261.75  \n",
       "1      -7.412733  27.25|277.75  \n",
       "2      -5.580635  27.25|279.75  \n",
       "3      -6.696734  29.25|259.75  \n",
       "4      -6.285639  29.25|261.75  \n",
       "...          ...           ...  \n",
       "26393 -10.887443  47.25|265.75  \n",
       "26394 -10.217111  47.25|267.75  \n",
       "26395  -9.931477  47.25|269.75  \n",
       "26396 -10.318814  47.25|271.75  \n",
       "26397  -7.897937  47.25|273.75  \n",
       "\n",
       "[26398 rows x 14 columns]"
      ]
     },
     "execution_count": 38,
     "metadata": {},
     "output_type": "execute_result"
    }
   ],
   "source": [
    "#01 - Import and consolidate the results for analysis\n",
    "import pandas as pd\n",
    "import numpy as np\n",
    "\n",
    "df = pd.read_csv(\"results_test.csv\", encoding=\"utf-8\")\n",
    "df['latlon'] = df['lat'].astype(str) + \"|\" + df['lon'].astype(str)\n",
    "df"
   ]
  },
  {
   "cell_type": "code",
   "execution_count": 12,
   "metadata": {},
   "outputs": [
    {
     "data": {
      "text/plain": [
       "28"
      ]
     },
     "execution_count": 12,
     "metadata": {},
     "output_type": "execute_result"
    }
   ],
   "source": [
    "df.lon.nunique()"
   ]
  },
  {
   "cell_type": "code",
   "execution_count": 3,
   "metadata": {},
   "outputs": [
    {
     "name": "stdout",
     "output_type": "stream",
     "text": [
      "Unique Dates: 134\n",
      "First Dat: 2019-01-01\n",
      "Last Date: 2021-07-20\n",
      "Unique Locations: 197\n"
     ]
    }
   ],
   "source": [
    "#02 - Dataset Characteristics\n",
    "print(\"Unique Dates: \" + str(df.start_date.nunique()))\n",
    "print(\"First Dat: \" + df.start_date.min())\n",
    "print(\"Last Date: \" + df.start_date.max())\n",
    "print(\"Unique Locations: \" + str(df.latlon.nunique()))"
   ]
  },
  {
   "cell_type": "code",
   "execution_count": 4,
   "metadata": {},
   "outputs": [
    {
     "name": "stdout",
     "output_type": "stream",
     "text": [
      "phys mbe = -3.779\n",
      "phys mae = 8.279\n",
      "phys sd = 10.335\n",
      "ml mbe = 1.988\n",
      "ml mae = 1.988\n",
      "ml sd = 1.937\n"
     ]
    }
   ],
   "source": [
    "#03 - High level summary statistics\n",
    "phys_mbe = round(df['phys_err'].mean(),3)\n",
    "print('phys mbe = ' + str(phys_mbe))\n",
    "phys_mae = round(df['phys_err'].abs().mean(),3)\n",
    "print('phys mae = ' + str(phys_mae))\n",
    "phys_sd = round(df['phys_err'].std(),3)\n",
    "print('phys sd = ' + str(phys_sd))\n",
    "\n",
    "ml_mbe = round(df['err'].mean(),3)\n",
    "print('ml mbe = ' + str(ml_mbe))\n",
    "ml_mae = round(df['err'].abs().mean(),3)\n",
    "print('ml mae = ' + str(ml_mae))\n",
    "ml_sd = round(df['err'].std(),3)\n",
    "print('ml sd = ' + str(ml_sd))"
   ]
  },
  {
   "cell_type": "code",
   "execution_count": 6,
   "metadata": {},
   "outputs": [
    {
     "data": {
      "text/html": [
       "<div>\n",
       "<style scoped>\n",
       "    .dataframe tbody tr th:only-of-type {\n",
       "        vertical-align: middle;\n",
       "    }\n",
       "\n",
       "    .dataframe tbody tr th {\n",
       "        vertical-align: top;\n",
       "    }\n",
       "\n",
       "    .dataframe thead th {\n",
       "        text-align: right;\n",
       "    }\n",
       "</style>\n",
       "<table border=\"1\" class=\"dataframe\">\n",
       "  <thead>\n",
       "    <tr style=\"text-align: right;\">\n",
       "      <th></th>\n",
       "      <th>latlon</th>\n",
       "      <th>ml_mbe</th>\n",
       "      <th>ml_mae</th>\n",
       "      <th>ml_sd</th>\n",
       "      <th>phys_mbe</th>\n",
       "      <th>phys_mae</th>\n",
       "      <th>phys_sd</th>\n",
       "      <th>lat</th>\n",
       "      <th>lon</th>\n",
       "      <th>ml_outperforms</th>\n",
       "      <th>phys_outperforms</th>\n",
       "    </tr>\n",
       "  </thead>\n",
       "  <tbody>\n",
       "    <tr>\n",
       "      <th>0</th>\n",
       "      <td>27.25|261.75</td>\n",
       "      <td>1.411512</td>\n",
       "      <td>1.411512</td>\n",
       "      <td>1.459878</td>\n",
       "      <td>-2.548818</td>\n",
       "      <td>5.347528</td>\n",
       "      <td>6.653903</td>\n",
       "      <td>27.25</td>\n",
       "      <td>261.75</td>\n",
       "      <td>True</td>\n",
       "      <td>False</td>\n",
       "    </tr>\n",
       "    <tr>\n",
       "      <th>1</th>\n",
       "      <td>27.25|277.75</td>\n",
       "      <td>1.233993</td>\n",
       "      <td>1.233993</td>\n",
       "      <td>1.119246</td>\n",
       "      <td>-2.271220</td>\n",
       "      <td>4.196729</td>\n",
       "      <td>4.796151</td>\n",
       "      <td>27.25</td>\n",
       "      <td>277.75</td>\n",
       "      <td>True</td>\n",
       "      <td>False</td>\n",
       "    </tr>\n",
       "    <tr>\n",
       "      <th>2</th>\n",
       "      <td>27.25|279.75</td>\n",
       "      <td>1.198907</td>\n",
       "      <td>1.198907</td>\n",
       "      <td>1.146496</td>\n",
       "      <td>-1.419927</td>\n",
       "      <td>3.483729</td>\n",
       "      <td>4.158915</td>\n",
       "      <td>27.25</td>\n",
       "      <td>279.75</td>\n",
       "      <td>True</td>\n",
       "      <td>False</td>\n",
       "    </tr>\n",
       "    <tr>\n",
       "      <th>3</th>\n",
       "      <td>29.25|259.75</td>\n",
       "      <td>1.463632</td>\n",
       "      <td>1.463632</td>\n",
       "      <td>1.468805</td>\n",
       "      <td>-4.439074</td>\n",
       "      <td>7.105868</td>\n",
       "      <td>7.951840</td>\n",
       "      <td>29.25</td>\n",
       "      <td>259.75</td>\n",
       "      <td>True</td>\n",
       "      <td>False</td>\n",
       "    </tr>\n",
       "    <tr>\n",
       "      <th>4</th>\n",
       "      <td>29.25|261.75</td>\n",
       "      <td>1.696690</td>\n",
       "      <td>1.696690</td>\n",
       "      <td>1.719548</td>\n",
       "      <td>-3.768113</td>\n",
       "      <td>6.525271</td>\n",
       "      <td>7.609261</td>\n",
       "      <td>29.25</td>\n",
       "      <td>261.75</td>\n",
       "      <td>True</td>\n",
       "      <td>False</td>\n",
       "    </tr>\n",
       "    <tr>\n",
       "      <th>...</th>\n",
       "      <td>...</td>\n",
       "      <td>...</td>\n",
       "      <td>...</td>\n",
       "      <td>...</td>\n",
       "      <td>...</td>\n",
       "      <td>...</td>\n",
       "      <td>...</td>\n",
       "      <td>...</td>\n",
       "      <td>...</td>\n",
       "      <td>...</td>\n",
       "      <td>...</td>\n",
       "    </tr>\n",
       "    <tr>\n",
       "      <th>192</th>\n",
       "      <td>47.25|265.75</td>\n",
       "      <td>2.776868</td>\n",
       "      <td>2.776868</td>\n",
       "      <td>2.476570</td>\n",
       "      <td>-3.252181</td>\n",
       "      <td>10.577301</td>\n",
       "      <td>13.418391</td>\n",
       "      <td>47.25</td>\n",
       "      <td>265.75</td>\n",
       "      <td>True</td>\n",
       "      <td>False</td>\n",
       "    </tr>\n",
       "    <tr>\n",
       "      <th>193</th>\n",
       "      <td>47.25|267.75</td>\n",
       "      <td>2.483786</td>\n",
       "      <td>2.483786</td>\n",
       "      <td>2.276213</td>\n",
       "      <td>-2.962738</td>\n",
       "      <td>10.073353</td>\n",
       "      <td>13.049879</td>\n",
       "      <td>47.25</td>\n",
       "      <td>267.75</td>\n",
       "      <td>True</td>\n",
       "      <td>False</td>\n",
       "    </tr>\n",
       "    <tr>\n",
       "      <th>194</th>\n",
       "      <td>47.25|269.75</td>\n",
       "      <td>2.549160</td>\n",
       "      <td>2.549160</td>\n",
       "      <td>2.099996</td>\n",
       "      <td>-3.665645</td>\n",
       "      <td>9.617920</td>\n",
       "      <td>11.855126</td>\n",
       "      <td>47.25</td>\n",
       "      <td>269.75</td>\n",
       "      <td>True</td>\n",
       "      <td>False</td>\n",
       "    </tr>\n",
       "    <tr>\n",
       "      <th>195</th>\n",
       "      <td>47.25|271.75</td>\n",
       "      <td>2.296741</td>\n",
       "      <td>2.296741</td>\n",
       "      <td>1.787659</td>\n",
       "      <td>-4.196594</td>\n",
       "      <td>9.110361</td>\n",
       "      <td>10.769689</td>\n",
       "      <td>47.25</td>\n",
       "      <td>271.75</td>\n",
       "      <td>True</td>\n",
       "      <td>False</td>\n",
       "    </tr>\n",
       "    <tr>\n",
       "      <th>196</th>\n",
       "      <td>47.25|273.75</td>\n",
       "      <td>1.925876</td>\n",
       "      <td>1.925876</td>\n",
       "      <td>1.481577</td>\n",
       "      <td>-3.312995</td>\n",
       "      <td>6.834300</td>\n",
       "      <td>8.166737</td>\n",
       "      <td>47.25</td>\n",
       "      <td>273.75</td>\n",
       "      <td>True</td>\n",
       "      <td>False</td>\n",
       "    </tr>\n",
       "  </tbody>\n",
       "</table>\n",
       "<p>197 rows × 11 columns</p>\n",
       "</div>"
      ],
      "text/plain": [
       "           latlon    ml_mbe    ml_mae     ml_sd  phys_mbe   phys_mae  \\\n",
       "0    27.25|261.75  1.411512  1.411512  1.459878 -2.548818   5.347528   \n",
       "1    27.25|277.75  1.233993  1.233993  1.119246 -2.271220   4.196729   \n",
       "2    27.25|279.75  1.198907  1.198907  1.146496 -1.419927   3.483729   \n",
       "3    29.25|259.75  1.463632  1.463632  1.468805 -4.439074   7.105868   \n",
       "4    29.25|261.75  1.696690  1.696690  1.719548 -3.768113   6.525271   \n",
       "..            ...       ...       ...       ...       ...        ...   \n",
       "192  47.25|265.75  2.776868  2.776868  2.476570 -3.252181  10.577301   \n",
       "193  47.25|267.75  2.483786  2.483786  2.276213 -2.962738  10.073353   \n",
       "194  47.25|269.75  2.549160  2.549160  2.099996 -3.665645   9.617920   \n",
       "195  47.25|271.75  2.296741  2.296741  1.787659 -4.196594   9.110361   \n",
       "196  47.25|273.75  1.925876  1.925876  1.481577 -3.312995   6.834300   \n",
       "\n",
       "       phys_sd    lat     lon  ml_outperforms  phys_outperforms  \n",
       "0     6.653903  27.25  261.75            True             False  \n",
       "1     4.796151  27.25  277.75            True             False  \n",
       "2     4.158915  27.25  279.75            True             False  \n",
       "3     7.951840  29.25  259.75            True             False  \n",
       "4     7.609261  29.25  261.75            True             False  \n",
       "..         ...    ...     ...             ...               ...  \n",
       "192  13.418391  47.25  265.75            True             False  \n",
       "193  13.049879  47.25  267.75            True             False  \n",
       "194  11.855126  47.25  269.75            True             False  \n",
       "195  10.769689  47.25  271.75            True             False  \n",
       "196   8.166737  47.25  273.75            True             False  \n",
       "\n",
       "[197 rows x 11 columns]"
      ]
     },
     "execution_count": 6,
     "metadata": {},
     "output_type": "execute_result"
    }
   ],
   "source": [
    "#04 - Condense results by lat lon\n",
    "unique_latlon = df.latlon.unique()\n",
    "uniquell = pd.DataFrame(unique_latlon, columns = ['latlon'])\n",
    "uniquell['ml_mbe'] = \"\"; uniquell['ml_mae'] = \"\"; uniquell['ml_sd'] = \"\"\n",
    "uniquell['phys_mbe'] = \"\"; uniquell['phys_mae'] = \"\"; uniquell['phys_sd'] = \"\"\n",
    "\n",
    "for ind, row in uniquell.iterrows():\n",
    "    ll = row['latlon']\n",
    "    df_subset = df[df['latlon']==ll]\n",
    "\n",
    "    ml_mbe = df_subset['err'].mean()\n",
    "    ml_mae = df_subset['err'].abs().mean()\n",
    "    ml_sd = df_subset['err'].std()\n",
    "    uniquell.loc[uniquell['latlon']==ll,'ml_mbe'] = ml_mbe\n",
    "    uniquell.loc[uniquell['latlon']==ll,'ml_mae'] = ml_mae\n",
    "    uniquell.loc[uniquell['latlon']==ll,'ml_sd'] = ml_sd    \n",
    "    phys_mbe = df_subset['phys_err'].mean()\n",
    "    phys_mae = df_subset['phys_err'].abs().mean()\n",
    "    phys_sd = df_subset['phys_err'].std()\n",
    "    uniquell.loc[uniquell['latlon']==ll,'phys_mbe'] = phys_mbe\n",
    "    uniquell.loc[uniquell['latlon']==ll,'phys_mae'] = phys_mae\n",
    "    uniquell.loc[uniquell['latlon']==ll,'phys_sd'] = phys_sd\n",
    "uniquell['lat'] = uniquell['latlon'].str.split('|').str[0].astype(float)\n",
    "uniquell['lon'] = uniquell['latlon'].str.split('|').str[1].astype(float)\n",
    "uniquell['ml_outperforms'] = uniquell['ml_mae'] < uniquell['phys_mae']\n",
    "uniquell['phys_outperforms'] = uniquell['phys_mae'] < uniquell['ml_mae']\n",
    "uniquell['ml_mbe'] = uniquell['ml_mbe'].astype(float); uniquell['ml_mae'] = uniquell['ml_mae'].astype(float); uniquell['ml_sd'] = uniquell['ml_sd'].astype(float)\n",
    "uniquell['phys_mbe'] = uniquell['phys_mbe'].astype(float); uniquell['phys_mae'] = uniquell['phys_mae'].astype(float); uniquell['phys_sd'] = uniquell['phys_sd'].astype(float)\n",
    "uniquell\n",
    "#uniquell.to_csv('./results_byll.csv')\n",
    "#uniquell.to_hdf('results_byll.h5', key='uniquell', mode='w')"
   ]
  },
  {
   "cell_type": "code",
   "execution_count": 7,
   "metadata": {},
   "outputs": [
    {
     "data": {
      "text/html": [
       "<div>\n",
       "<style scoped>\n",
       "    .dataframe tbody tr th:only-of-type {\n",
       "        vertical-align: middle;\n",
       "    }\n",
       "\n",
       "    .dataframe tbody tr th {\n",
       "        vertical-align: top;\n",
       "    }\n",
       "\n",
       "    .dataframe thead th {\n",
       "        text-align: right;\n",
       "    }\n",
       "</style>\n",
       "<table border=\"1\" class=\"dataframe\">\n",
       "  <thead>\n",
       "    <tr style=\"text-align: right;\">\n",
       "      <th></th>\n",
       "      <th>start_date</th>\n",
       "      <th>ml_mbe</th>\n",
       "      <th>ml_mae</th>\n",
       "      <th>ml_sd</th>\n",
       "      <th>phys_mbe</th>\n",
       "      <th>phys_mae</th>\n",
       "      <th>phys_sd</th>\n",
       "      <th>ml_outperforms</th>\n",
       "      <th>phys_outperforms</th>\n",
       "    </tr>\n",
       "  </thead>\n",
       "  <tbody>\n",
       "    <tr>\n",
       "      <th>66</th>\n",
       "      <td>2019-01-01</td>\n",
       "      <td>1.695858</td>\n",
       "      <td>1.695858</td>\n",
       "      <td>1.792921</td>\n",
       "      <td>2.038148</td>\n",
       "      <td>2.921977</td>\n",
       "      <td>3.920364</td>\n",
       "      <td>True</td>\n",
       "      <td>False</td>\n",
       "    </tr>\n",
       "    <tr>\n",
       "      <th>67</th>\n",
       "      <td>2019-01-08</td>\n",
       "      <td>2.155811</td>\n",
       "      <td>2.155811</td>\n",
       "      <td>2.362155</td>\n",
       "      <td>2.044086</td>\n",
       "      <td>3.244955</td>\n",
       "      <td>4.461135</td>\n",
       "      <td>True</td>\n",
       "      <td>False</td>\n",
       "    </tr>\n",
       "    <tr>\n",
       "      <th>68</th>\n",
       "      <td>2019-01-15</td>\n",
       "      <td>3.392222</td>\n",
       "      <td>3.392222</td>\n",
       "      <td>3.202141</td>\n",
       "      <td>2.408851</td>\n",
       "      <td>4.403226</td>\n",
       "      <td>5.446806</td>\n",
       "      <td>True</td>\n",
       "      <td>False</td>\n",
       "    </tr>\n",
       "    <tr>\n",
       "      <th>69</th>\n",
       "      <td>2019-01-22</td>\n",
       "      <td>4.651939</td>\n",
       "      <td>4.651939</td>\n",
       "      <td>3.778545</td>\n",
       "      <td>2.478019</td>\n",
       "      <td>5.155162</td>\n",
       "      <td>6.172842</td>\n",
       "      <td>True</td>\n",
       "      <td>False</td>\n",
       "    </tr>\n",
       "    <tr>\n",
       "      <th>70</th>\n",
       "      <td>2019-01-29</td>\n",
       "      <td>4.320264</td>\n",
       "      <td>4.320264</td>\n",
       "      <td>3.605777</td>\n",
       "      <td>0.565806</td>\n",
       "      <td>2.945867</td>\n",
       "      <td>3.41975</td>\n",
       "      <td>False</td>\n",
       "      <td>True</td>\n",
       "    </tr>\n",
       "    <tr>\n",
       "      <th>...</th>\n",
       "      <td>...</td>\n",
       "      <td>...</td>\n",
       "      <td>...</td>\n",
       "      <td>...</td>\n",
       "      <td>...</td>\n",
       "      <td>...</td>\n",
       "      <td>...</td>\n",
       "      <td>...</td>\n",
       "      <td>...</td>\n",
       "    </tr>\n",
       "    <tr>\n",
       "      <th>128</th>\n",
       "      <td>2021-06-22</td>\n",
       "      <td>1.458838</td>\n",
       "      <td>1.458838</td>\n",
       "      <td>0.931676</td>\n",
       "      <td>-11.312552</td>\n",
       "      <td>11.312552</td>\n",
       "      <td>3.183594</td>\n",
       "      <td>True</td>\n",
       "      <td>False</td>\n",
       "    </tr>\n",
       "    <tr>\n",
       "      <th>129</th>\n",
       "      <td>2021-06-29</td>\n",
       "      <td>1.125577</td>\n",
       "      <td>1.125577</td>\n",
       "      <td>0.951431</td>\n",
       "      <td>-11.580278</td>\n",
       "      <td>11.580278</td>\n",
       "      <td>3.100487</td>\n",
       "      <td>True</td>\n",
       "      <td>False</td>\n",
       "    </tr>\n",
       "    <tr>\n",
       "      <th>97</th>\n",
       "      <td>2021-07-06</td>\n",
       "      <td>0.827254</td>\n",
       "      <td>0.827254</td>\n",
       "      <td>0.631423</td>\n",
       "      <td>-22.062991</td>\n",
       "      <td>22.062991</td>\n",
       "      <td>3.921975</td>\n",
       "      <td>True</td>\n",
       "      <td>False</td>\n",
       "    </tr>\n",
       "    <tr>\n",
       "      <th>98</th>\n",
       "      <td>2021-07-13</td>\n",
       "      <td>0.791664</td>\n",
       "      <td>0.791664</td>\n",
       "      <td>0.647192</td>\n",
       "      <td>-21.632578</td>\n",
       "      <td>21.632578</td>\n",
       "      <td>3.674078</td>\n",
       "      <td>True</td>\n",
       "      <td>False</td>\n",
       "    </tr>\n",
       "    <tr>\n",
       "      <th>99</th>\n",
       "      <td>2021-07-20</td>\n",
       "      <td>1.042021</td>\n",
       "      <td>1.042021</td>\n",
       "      <td>0.78898</td>\n",
       "      <td>-21.72662</td>\n",
       "      <td>21.72662</td>\n",
       "      <td>3.656617</td>\n",
       "      <td>True</td>\n",
       "      <td>False</td>\n",
       "    </tr>\n",
       "  </tbody>\n",
       "</table>\n",
       "<p>134 rows × 9 columns</p>\n",
       "</div>"
      ],
      "text/plain": [
       "     start_date    ml_mbe    ml_mae     ml_sd   phys_mbe   phys_mae   phys_sd  \\\n",
       "66   2019-01-01  1.695858  1.695858  1.792921   2.038148   2.921977  3.920364   \n",
       "67   2019-01-08  2.155811  2.155811  2.362155   2.044086   3.244955  4.461135   \n",
       "68   2019-01-15  3.392222  3.392222  3.202141   2.408851   4.403226  5.446806   \n",
       "69   2019-01-22  4.651939  4.651939  3.778545   2.478019   5.155162  6.172842   \n",
       "70   2019-01-29  4.320264  4.320264  3.605777   0.565806   2.945867   3.41975   \n",
       "..          ...       ...       ...       ...        ...        ...       ...   \n",
       "128  2021-06-22  1.458838  1.458838  0.931676 -11.312552  11.312552  3.183594   \n",
       "129  2021-06-29  1.125577  1.125577  0.951431 -11.580278  11.580278  3.100487   \n",
       "97   2021-07-06  0.827254  0.827254  0.631423 -22.062991  22.062991  3.921975   \n",
       "98   2021-07-13  0.791664  0.791664  0.647192 -21.632578  21.632578  3.674078   \n",
       "99   2021-07-20  1.042021  1.042021   0.78898  -21.72662   21.72662  3.656617   \n",
       "\n",
       "     ml_outperforms  phys_outperforms  \n",
       "66             True             False  \n",
       "67             True             False  \n",
       "68             True             False  \n",
       "69             True             False  \n",
       "70            False              True  \n",
       "..              ...               ...  \n",
       "128            True             False  \n",
       "129            True             False  \n",
       "97             True             False  \n",
       "98             True             False  \n",
       "99             True             False  \n",
       "\n",
       "[134 rows x 9 columns]"
      ]
     },
     "execution_count": 7,
     "metadata": {},
     "output_type": "execute_result"
    }
   ],
   "source": [
    "#05 - Condense results by start date\n",
    "unique_sd = df.start_date.unique()\n",
    "uniquesd = pd.DataFrame(unique_sd, columns = ['start_date'])\n",
    "uniquesd['ml_mbe'] = \"\"; uniquesd['ml_mae'] = \"\"; uniquesd['ml_sd'] = \"\"\n",
    "uniquesd['phys_mbe'] = \"\"; uniquesd['phys_mae'] = \"\"; uniquesd['phys_sd'] = \"\"\n",
    "\n",
    "for ind, row in uniquesd.iterrows():\n",
    "    sd = row['start_date']\n",
    "    df_subset = df[df['start_date']==sd]\n",
    "\n",
    "    ml_mbe = df_subset['err'].mean()\n",
    "    ml_mae = df_subset['err'].abs().mean()\n",
    "    ml_sd = df_subset['err'].std()\n",
    "    uniquesd.loc[uniquesd['start_date']==sd,'ml_mbe'] = ml_mbe\n",
    "    uniquesd.loc[uniquesd['start_date']==sd,'ml_mae'] = ml_mae\n",
    "    uniquesd.loc[uniquesd['start_date']==sd,'ml_sd'] = ml_sd\n",
    "    phys_mbe = df_subset['phys_err'].mean()\n",
    "    phys_mae = df_subset['phys_err'].abs().mean()\n",
    "    phys_sd = df_subset['phys_err'].std()\n",
    "    uniquesd.loc[uniquesd['start_date']==sd,'phys_mbe'] = phys_mbe\n",
    "    uniquesd.loc[uniquesd['start_date']==sd,'phys_mae'] = phys_mae\n",
    "    uniquesd.loc[uniquesd['start_date']==sd,'phys_sd'] = phys_sd\n",
    "\n",
    "uniquesd['ml_outperforms'] = uniquesd['ml_mae'] < uniquesd['phys_mae']\n",
    "uniquesd['phys_outperforms'] = uniquesd['phys_mae'] < uniquesd['ml_mae']\n",
    "uniquesd = uniquesd.sort_values(by=\"start_date\")\n",
    "uniquesd\n",
    "#uniquesd.to_csv('./results_bysd.csv')\n",
    "#uniquesd.to_hdf('results_bysd.h5', key='uniquesd', mode='w')"
   ]
  },
  {
   "cell_type": "code",
   "execution_count": 8,
   "metadata": {},
   "outputs": [],
   "source": [
    "#06 - Import plotting libraries and other dependencies to be able to plots  (Pi) to follow\n",
    "#import geoplot as gplt\n",
    "#import geoplot.crs as gcrs\n",
    "#import geopandas as gpd\n",
    "import seaborn as sns\n",
    "import matplotlib.pyplot as plt\n",
    "import matplotlib.patches as mpatches\n",
    "#import cartopy.crs as ccrs\n",
    "from matplotlib.cm import get_cmap\n",
    "#from cartopy.feature import NaturalEarthFeature\n",
    "import plotly\n",
    "import plotly_express as px\n",
    "#from osgeo import gdal as gd\n",
    "import argparse\n",
    "import tables\n",
    "import pdb\n",
    "from scipy import spatial"
   ]
  },
  {
   "cell_type": "code",
   "execution_count": 9,
   "metadata": {},
   "outputs": [
    {
     "name": "stdout",
     "output_type": "stream",
     "text": [
      "Requirement already satisfied: plotly_express in /home/pranav/.local/lib/python3.8/site-packages (0.4.1)\n",
      "Requirement already satisfied: statsmodels>=0.9.0 in /home/pranav/.local/lib/python3.8/site-packages (from plotly_express) (0.13.0)\n",
      "Requirement already satisfied: pandas>=0.20.0 in /home/pranav/.local/lib/python3.8/site-packages (from plotly_express) (1.3.3)\n",
      "Requirement already satisfied: patsy>=0.5 in /home/pranav/.local/lib/python3.8/site-packages (from plotly_express) (0.5.2)\n",
      "Requirement already satisfied: plotly>=4.1.0 in /home/pranav/.local/lib/python3.8/site-packages (from plotly_express) (5.3.1)\n",
      "Requirement already satisfied: scipy>=0.18 in /home/pranav/.local/lib/python3.8/site-packages (from plotly_express) (1.7.1)\n",
      "Requirement already satisfied: numpy>=1.11 in /home/pranav/.local/lib/python3.8/site-packages (from plotly_express) (1.21.2)\n",
      "Requirement already satisfied: python-dateutil>=2.7.3 in /home/pranav/anaconda3/envs/newconda/lib/python3.8/site-packages (from pandas>=0.20.0->plotly_express) (2.8.2)\n",
      "Requirement already satisfied: pytz>=2017.3 in /home/pranav/anaconda3/envs/newconda/lib/python3.8/site-packages (from pandas>=0.20.0->plotly_express) (2021.1)\n",
      "Requirement already satisfied: six in /home/pranav/anaconda3/envs/newconda/lib/python3.8/site-packages (from patsy>=0.5->plotly_express) (1.16.0)\n",
      "Requirement already satisfied: tenacity>=6.2.0 in /home/pranav/.local/lib/python3.8/site-packages (from plotly>=4.1.0->plotly_express) (8.0.1)\n",
      "Requirement already satisfied: kaleido in /home/pranav/anaconda3/envs/newconda/lib/python3.8/site-packages (0.2.1)\n"
     ]
    }
   ],
   "source": [
    "!pip install plotly_express\n",
    "!pip install kaleido"
   ]
  },
  {
   "cell_type": "code",
   "execution_count": 26,
   "metadata": {},
   "outputs": [
    {
     "data": {
      "text/plain": [
       "<AxesSubplot:xlabel='lon', ylabel='latlon'>"
      ]
     },
     "execution_count": 26,
     "metadata": {},
     "output_type": "execute_result"
    },
    {
     "data": {
      "image/png": "[encoded data removed]",
      "text/plain": [
       "<Figure size 792x2016 with 2 Axes>"
      ]
     },
     "metadata": {},
     "output_type": "display_data"
    }
   ],
   "source": [
    "#P1 - Plotting ground truth 2m forecast or ML (xgboost) 2m forecast or Phys(cfs) 2m forecast on map for a particular date\n",
    "#https://www.nws.noaa.gov/ost/CTB/Documents/CFS_Strategy_12July2012.pdf and \n",
    "#https://www.cpc.ncep.noaa.gov/products/CFSv2/CFSv2seasonal.shtml\n",
    "import matplotlib.pyplot as plt\n",
    "import seaborn as sns\n",
    "import plotly_express as px\n",
    "import plotly\n",
    "mapbox_token = 'pk.eyJ1IjoibXVra2F2aWxsaSIsImEiOiJja3JoOG1yYm02ZWRrMnBtZmc3cTlycHQwIn0.OOg5KGUGMDM-t7vf3ez1FQ'\n",
    "px.set_mapbox_access_token(mapbox_token)\n",
    "\n",
    "#edit date\n",
    "date = '2020-10-13'\n",
    "#Which forecast to view\n",
    "column = 'err' #'tmp2m' 'xgboost_tmp2m_pred' or 'phys'\n",
    "df_subset = df[df['start_date']==date]\n",
    "#range_list = [-15,35]\n",
    "range_list = [df_subset[column].min(),df_subset[column].max()]\n",
    "\n",
    "\n",
    "df_pivot = pd.pivot_table(df_subset, index='latlon', columns='lon', values='tmp2m', aggfunc=np.sum)\n",
    "f, ax = plt.subplots(figsize=(11, 28))\n",
    "#sns.heatmap(df_pivot, cmap=\"YlGnBu\")\n",
    "sns.heatmap(df_pivot, annot=True, linewidths=.5, ax=ax)"
   ]
  },
  {
   "cell_type": "code",
   "execution_count": 37,
   "metadata": {},
   "outputs": [
    {
     "name": "stderr",
     "output_type": "stream",
     "text": [
      "/home/pranav/.local/lib/python3.8/site-packages/scipy/interpolate/_fitpack_impl.py:977: RuntimeWarning: No more knots can be added because the number of B-spline\n",
      "coefficients already exceeds the number of data points m.\n",
      "Probable causes: either s or m too small. (fp>s)\n",
      "\tkx,ky=1,1 nx,ny=15,18 m=197 fp=33.040934 s=0.000000\n",
      "  warnings.warn(RuntimeWarning(_iermess2[ierm][0] + _mess))\n"
     ]
    },
    {
     "data": {
      "image/png": "[encoded data removed]",
      "text/plain": [
       "<Figure size 432x288 with 2 Axes>"
      ]
     },
     "metadata": {},
     "output_type": "display_data"
    },
    {
     "ename": "AttributeError",
     "evalue": "'AxesImage' object has no attribute 'savefig'",
     "output_type": "error",
     "traceback": [
      "\u001b[0;31m---------------------------------------------------------------------------\u001b[0m",
      "\u001b[0;31mAttributeError\u001b[0m                            Traceback (most recent call last)",
      "\u001b[0;32m/tmp/ipykernel_48021/1778421643.py\u001b[0m in \u001b[0;36m<module>\u001b[0;34m\u001b[0m\n\u001b[1;32m     33\u001b[0m \u001b[0mplt\u001b[0m\u001b[0;34m.\u001b[0m\u001b[0mcolorbar\u001b[0m\u001b[0;34m(\u001b[0m\u001b[0;34m)\u001b[0m\u001b[0;34m\u001b[0m\u001b[0;34m\u001b[0m\u001b[0m\n\u001b[1;32m     34\u001b[0m \u001b[0mplt\u001b[0m\u001b[0;34m.\u001b[0m\u001b[0mshow\u001b[0m\u001b[0;34m(\u001b[0m\u001b[0;34m)\u001b[0m\u001b[0;34m\u001b[0m\u001b[0;34m\u001b[0m\u001b[0m\n\u001b[0;32m---> 35\u001b[0;31m \u001b[0mfig\u001b[0m\u001b[0;34m.\u001b[0m\u001b[0msavefig\u001b[0m\u001b[0;34m(\u001b[0m\u001b[0;34m'figs/'\u001b[0m\u001b[0;34m+\u001b[0m\u001b[0mparameter\u001b[0m\u001b[0;34m+\u001b[0m\u001b[0;34m'_heatplot.png'\u001b[0m\u001b[0;34m,\u001b[0m \u001b[0mdpi\u001b[0m \u001b[0;34m=\u001b[0m \u001b[0;36m300\u001b[0m\u001b[0;34m)\u001b[0m\u001b[0;34m\u001b[0m\u001b[0;34m\u001b[0m\u001b[0m\n\u001b[0m",
      "\u001b[0;31mAttributeError\u001b[0m: 'AxesImage' object has no attribute 'savefig'"
     ]
    }
   ],
   "source": [
    "import matplotlib.pyplot as plt\n",
    "import numpy as np\n",
    "from matplotlib.colors import LogNorm\n",
    "from scipy.interpolate import interp2d\n",
    "\n",
    "#edit date\n",
    "date = '2019-10-01'\n",
    "#Which forecast to view\n",
    "df_subset = df[df['start_date']==date]\n",
    "parameter = 'tmp2m' #'tmp2m' 'xgboost_tmp2m_pred' or 'phys'\n",
    "\n",
    "x_list = np.array(df_subset.lat)\n",
    "z_list = np.array(df_subset.lon-360)\n",
    "C_I_list = np.array(df_subset['tmp2m'])\n",
    "\n",
    "#   f will be a function with two arguments (x and z coordinates),\n",
    "# but those can be array_like structures too, in which case the\n",
    "# result will be a matrix representing the values in the grid \n",
    "# specified by those arguments\n",
    "f = interp2d(x_list,z_list,C_I_list,kind=\"linear\")\n",
    "\n",
    "x_coords = np.arange(min(x_list),max(x_list)+1)\n",
    "z_coords = np.arange(min(z_list),max(z_list)+1)\n",
    "c_i = f(x_coords,z_coords)\n",
    "\n",
    "fig = plt.imshow(c_i,\n",
    "           extent=[min(x_list),max(x_list),min(z_list),max(z_list)],\n",
    "           origin=\"lower\", interpolation='bicubic')\n",
    "\n",
    "# Show the positions of the sample points, just to have some reference\n",
    "fig.axes.set_autoscale_on(False)\n",
    "plt.scatter(x_list,z_list,400,facecolors='none')\n",
    "plt.colorbar()\n",
    "plt.show()\n",
    "fig.savefig('figs/'+parameter+'_heatplot.png', dpi = 300)"
   ]
  },
  {
   "cell_type": "code",
   "execution_count": 13,
   "metadata": {},
   "outputs": [
    {
     "data": {
      "application/vnd.plotly.v1+json": {
       "config": {
        "plotlyServerURL": "https://plot.ly"
       },
       "data": [
        {
         "hovertemplate": "Vayuh.ai outperforms=True<br>lat=%{lat}<br>lon=%{lon}<extra></extra>",
         "lat": [
          27.25,
          27.25,
          27.25,
          29.25,
          29.25,
          29.25,
          29.25,
          31.25,
          31.25,
          31.25,
          31.25,
          31.25,
          31.25,
          31.25,
          31.25,
          31.25,
          31.25,
          31.25,
          31.25,
          33.25,
          33.25,
          33.25,
          33.25,
          33.25,
          33.25,
          33.25,
          33.25,
          33.25,
          33.25,
          33.25,
          33.25,
          33.25,
          33.25,
          33.25,
          33.25,
          33.25,
          33.25,
          33.25,
          35.25,
          35.25,
          35.25,
          35.25,
          35.25,
          35.25,
          35.25,
          35.25,
          35.25,
          35.25,
          35.25,
          35.25,
          35.25,
          35.25,
          35.25,
          35.25,
          35.25,
          35.25,
          35.25,
          35.25,
          35.25,
          35.25,
          37.25,
          37.25,
          37.25,
          37.25,
          37.25,
          37.25,
          37.25,
          37.25,
          37.25,
          37.25,
          37.25,
          37.25,
          37.25,
          37.25,
          37.25,
          37.25,
          37.25,
          37.25,
          37.25,
          37.25,
          37.25,
          37.25,
          39.25,
          39.25,
          39.25,
          39.25,
          39.25,
          39.25,
          39.25,
          39.25,
          39.25,
          39.25,
          39.25,
          39.25,
          39.25,
          39.25,
          39.25,
          39.25,
          39.25,
          39.25,
          39.25,
          39.25,
          39.25,
          39.25,
          39.25,
          39.25,
          41.25,
          41.25,
          41.25,
          41.25,
          41.25,
          41.25,
          41.25,
          41.25,
          41.25,
          41.25,
          41.25,
          41.25,
          41.25,
          41.25,
          41.25,
          41.25,
          41.25,
          41.25,
          41.25,
          41.25,
          41.25,
          41.25,
          41.25,
          41.25,
          41.25,
          41.25,
          43.25,
          43.25,
          43.25,
          43.25,
          43.25,
          43.25,
          43.25,
          43.25,
          43.25,
          43.25,
          43.25,
          43.25,
          43.25,
          43.25,
          43.25,
          43.25,
          43.25,
          43.25,
          43.25,
          43.25,
          43.25,
          43.25,
          43.25,
          43.25,
          45.25,
          45.25,
          45.25,
          45.25,
          45.25,
          45.25,
          45.25,
          45.25,
          45.25,
          45.25,
          45.25,
          45.25,
          45.25,
          45.25,
          45.25,
          45.25,
          45.25,
          45.25,
          45.25,
          45.25,
          45.25,
          45.25,
          47.25,
          47.25,
          47.25,
          47.25,
          47.25,
          47.25,
          47.25,
          47.25,
          47.25,
          47.25,
          47.25,
          47.25,
          47.25,
          47.25,
          47.25,
          47.25,
          47.25,
          47.25,
          47.25
         ],
         "legendgroup": "True",
         "lon": [
          261.75,
          277.75,
          279.75,
          259.75,
          261.75,
          263.75,
          277.75,
          255.75,
          257.75,
          259.75,
          261.75,
          263.75,
          265.75,
          267.75,
          269.75,
          271.75,
          273.75,
          275.75,
          277.75,
          243.75,
          245.75,
          247.75,
          249.75,
          251.75,
          253.75,
          255.75,
          257.75,
          259.75,
          261.75,
          263.75,
          265.75,
          267.75,
          269.75,
          271.75,
          273.75,
          275.75,
          277.75,
          279.75,
          239.75,
          241.75,
          243.75,
          245.75,
          247.75,
          249.75,
          251.75,
          253.75,
          255.75,
          257.75,
          259.75,
          261.75,
          263.75,
          265.75,
          267.75,
          269.75,
          271.75,
          273.75,
          275.75,
          277.75,
          279.75,
          281.75,
          239.75,
          241.75,
          243.75,
          245.75,
          247.75,
          249.75,
          251.75,
          253.75,
          255.75,
          257.75,
          259.75,
          261.75,
          263.75,
          265.75,
          267.75,
          269.75,
          271.75,
          273.75,
          275.75,
          277.75,
          279.75,
          281.75,
          237.75,
          239.75,
          241.75,
          243.75,
          245.75,
          247.75,
          249.75,
          251.75,
          253.75,
          255.75,
          257.75,
          259.75,
          261.75,
          263.75,
          265.75,
          267.75,
          269.75,
          271.75,
          273.75,
          275.75,
          277.75,
          279.75,
          281.75,
          283.75,
          237.75,
          239.75,
          241.75,
          243.75,
          245.75,
          247.75,
          249.75,
          251.75,
          253.75,
          255.75,
          257.75,
          259.75,
          261.75,
          263.75,
          265.75,
          267.75,
          269.75,
          271.75,
          273.75,
          275.75,
          277.75,
          279.75,
          281.75,
          283.75,
          285.75,
          287.75,
          237.75,
          239.75,
          241.75,
          243.75,
          245.75,
          247.75,
          249.75,
          251.75,
          253.75,
          255.75,
          257.75,
          259.75,
          261.75,
          263.75,
          265.75,
          267.75,
          269.75,
          271.75,
          273.75,
          275.75,
          281.75,
          283.75,
          285.75,
          287.75,
          237.75,
          239.75,
          241.75,
          243.75,
          245.75,
          247.75,
          249.75,
          251.75,
          253.75,
          255.75,
          257.75,
          259.75,
          261.75,
          263.75,
          265.75,
          267.75,
          269.75,
          271.75,
          273.75,
          275.75,
          289.75,
          291.75,
          237.75,
          239.75,
          241.75,
          243.75,
          245.75,
          247.75,
          249.75,
          251.75,
          253.75,
          255.75,
          257.75,
          259.75,
          261.75,
          263.75,
          265.75,
          267.75,
          269.75,
          271.75,
          273.75
         ],
         "marker": {
          "color": "#636efa"
         },
         "mode": "markers",
         "name": "True",
         "showlegend": true,
         "subplot": "mapbox",
         "type": "scattermapbox"
        }
       ],
       "layout": {
        "height": 400,
        "legend": {
         "title": {
          "text": "Vayuh.ai outperforms"
         },
         "tracegroupgap": 0
        },
        "mapbox": {
         "accesstoken": "pk.eyJ1IjoibXVra2F2aWxsaSIsImEiOiJja3JoOG1yYm02ZWRrMnBtZmc3cTlycHQwIn0.OOg5KGUGMDM-t7vf3ez1FQ",
         "center": {
          "lat": 39.32106598984772,
          "lon": 261.26269035532994
         },
         "domain": {
          "x": [
           0,
           1
          ],
          "y": [
           0,
           1
          ]
         },
         "style": "dark",
         "zoom": 2.8
        },
        "margin": {
         "b": 20,
         "l": 20,
         "r": 20,
         "t": 50
        },
        "template": {
         "data": {
          "bar": [
           {
            "error_x": {
             "color": "#2a3f5f"
            },
            "error_y": {
             "color": "#2a3f5f"
            },
            "marker": {
             "line": {
              "color": "#E5ECF6",
              "width": 0.5
             },
             "pattern": {
              "fillmode": "overlay",
              "size": 10,
              "solidity": 0.2
             }
            },
            "type": "bar"
           }
          ],
          "barpolar": [
           {
            "marker": {
             "line": {
              "color": "#E5ECF6",
              "width": 0.5
             },
             "pattern": {
              "fillmode": "overlay",
              "size": 10,
              "solidity": 0.2
             }
            },
            "type": "barpolar"
           }
          ],
          "carpet": [
           {
            "aaxis": {
             "endlinecolor": "#2a3f5f",
             "gridcolor": "white",
             "linecolor": "white",
             "minorgridcolor": "white",
             "startlinecolor": "#2a3f5f"
            },
            "baxis": {
             "endlinecolor": "#2a3f5f",
             "gridcolor": "white",
             "linecolor": "white",
             "minorgridcolor": "white",
             "startlinecolor": "#2a3f5f"
            },
            "type": "carpet"
           }
          ],
          "choropleth": [
           {
            "colorbar": {
             "outlinewidth": 0,
             "ticks": ""
            },
            "type": "choropleth"
           }
          ],
          "contour": [
           {
            "colorbar": {
             "outlinewidth": 0,
             "ticks": ""
            },
            "colorscale": [
             [
              0,
              "#0d0887"
             ],
             [
              0.1111111111111111,
              "#46039f"
             ],
             [
              0.2222222222222222,
              "#7201a8"
             ],
             [
              0.3333333333333333,
              "#9c179e"
             ],
             [
              0.4444444444444444,
              "#bd3786"
             ],
             [
              0.5555555555555556,
              "#d8576b"
             ],
             [
              0.6666666666666666,
              "#ed7953"
             ],
             [
              0.7777777777777778,
              "#fb9f3a"
             ],
             [
              0.8888888888888888,
              "#fdca26"
             ],
             [
              1,
              "#f0f921"
             ]
            ],
            "type": "contour"
           }
          ],
          "contourcarpet": [
           {
            "colorbar": {
             "outlinewidth": 0,
             "ticks": ""
            },
            "type": "contourcarpet"
           }
          ],
          "heatmap": [
           {
            "colorbar": {
             "outlinewidth": 0,
             "ticks": ""
            },
            "colorscale": [
             [
              0,
              "#0d0887"
             ],
             [
              0.1111111111111111,
              "#46039f"
             ],
             [
              0.2222222222222222,
              "#7201a8"
             ],
             [
              0.3333333333333333,
              "#9c179e"
             ],
             [
              0.4444444444444444,
              "#bd3786"
             ],
             [
              0.5555555555555556,
              "#d8576b"
             ],
             [
              0.6666666666666666,
              "#ed7953"
             ],
             [
              0.7777777777777778,
              "#fb9f3a"
             ],
             [
              0.8888888888888888,
              "#fdca26"
             ],
             [
              1,
              "#f0f921"
             ]
            ],
            "type": "heatmap"
           }
          ],
          "heatmapgl": [
           {
            "colorbar": {
             "outlinewidth": 0,
             "ticks": ""
            },
            "colorscale": [
             [
              0,
              "#0d0887"
             ],
             [
              0.1111111111111111,
              "#46039f"
             ],
             [
              0.2222222222222222,
              "#7201a8"
             ],
             [
              0.3333333333333333,
              "#9c179e"
             ],
             [
              0.4444444444444444,
              "#bd3786"
             ],
             [
              0.5555555555555556,
              "#d8576b"
             ],
             [
              0.6666666666666666,
              "#ed7953"
             ],
             [
              0.7777777777777778,
              "#fb9f3a"
             ],
             [
              0.8888888888888888,
              "#fdca26"
             ],
             [
              1,
              "#f0f921"
             ]
            ],
            "type": "heatmapgl"
           }
          ],
          "histogram": [
           {
            "marker": {
             "pattern": {
              "fillmode": "overlay",
              "size": 10,
              "solidity": 0.2
             }
            },
            "type": "histogram"
           }
          ],
          "histogram2d": [
           {
            "colorbar": {
             "outlinewidth": 0,
             "ticks": ""
            },
            "colorscale": [
             [
              0,
              "#0d0887"
             ],
             [
              0.1111111111111111,
              "#46039f"
             ],
             [
              0.2222222222222222,
              "#7201a8"
             ],
             [
              0.3333333333333333,
              "#9c179e"
             ],
             [
              0.4444444444444444,
              "#bd3786"
             ],
             [
              0.5555555555555556,
              "#d8576b"
             ],
             [
              0.6666666666666666,
              "#ed7953"
             ],
             [
              0.7777777777777778,
              "#fb9f3a"
             ],
             [
              0.8888888888888888,
              "#fdca26"
             ],
             [
              1,
              "#f0f921"
             ]
            ],
            "type": "histogram2d"
           }
          ],
          "histogram2dcontour": [
           {
            "colorbar": {
             "outlinewidth": 0,
             "ticks": ""
            },
            "colorscale": [
             [
              0,
              "#0d0887"
             ],
             [
              0.1111111111111111,
              "#46039f"
             ],
             [
              0.2222222222222222,
              "#7201a8"
             ],
             [
              0.3333333333333333,
              "#9c179e"
             ],
             [
              0.4444444444444444,
              "#bd3786"
             ],
             [
              0.5555555555555556,
              "#d8576b"
             ],
             [
              0.6666666666666666,
              "#ed7953"
             ],
             [
              0.7777777777777778,
              "#fb9f3a"
             ],
             [
              0.8888888888888888,
              "#fdca26"
             ],
             [
              1,
              "#f0f921"
             ]
            ],
            "type": "histogram2dcontour"
           }
          ],
          "mesh3d": [
           {
            "colorbar": {
             "outlinewidth": 0,
             "ticks": ""
            },
            "type": "mesh3d"
           }
          ],
          "parcoords": [
           {
            "line": {
             "colorbar": {
              "outlinewidth": 0,
              "ticks": ""
             }
            },
            "type": "parcoords"
           }
          ],
          "pie": [
           {
            "automargin": true,
            "type": "pie"
           }
          ],
          "scatter": [
           {
            "marker": {
             "colorbar": {
              "outlinewidth": 0,
              "ticks": ""
             }
            },
            "type": "scatter"
           }
          ],
          "scatter3d": [
           {
            "line": {
             "colorbar": {
              "outlinewidth": 0,
              "ticks": ""
             }
            },
            "marker": {
             "colorbar": {
              "outlinewidth": 0,
              "ticks": ""
             }
            },
            "type": "scatter3d"
           }
          ],
          "scattercarpet": [
           {
            "marker": {
             "colorbar": {
              "outlinewidth": 0,
              "ticks": ""
             }
            },
            "type": "scattercarpet"
           }
          ],
          "scattergeo": [
           {
            "marker": {
             "colorbar": {
              "outlinewidth": 0,
              "ticks": ""
             }
            },
            "type": "scattergeo"
           }
          ],
          "scattergl": [
           {
            "marker": {
             "colorbar": {
              "outlinewidth": 0,
              "ticks": ""
             }
            },
            "type": "scattergl"
           }
          ],
          "scattermapbox": [
           {
            "marker": {
             "colorbar": {
              "outlinewidth": 0,
              "ticks": ""
             }
            },
            "type": "scattermapbox"
           }
          ],
          "scatterpolar": [
           {
            "marker": {
             "colorbar": {
              "outlinewidth": 0,
              "ticks": ""
             }
            },
            "type": "scatterpolar"
           }
          ],
          "scatterpolargl": [
           {
            "marker": {
             "colorbar": {
              "outlinewidth": 0,
              "ticks": ""
             }
            },
            "type": "scatterpolargl"
           }
          ],
          "scatterternary": [
           {
            "marker": {
             "colorbar": {
              "outlinewidth": 0,
              "ticks": ""
             }
            },
            "type": "scatterternary"
           }
          ],
          "surface": [
           {
            "colorbar": {
             "outlinewidth": 0,
             "ticks": ""
            },
            "colorscale": [
             [
              0,
              "#0d0887"
             ],
             [
              0.1111111111111111,
              "#46039f"
             ],
             [
              0.2222222222222222,
              "#7201a8"
             ],
             [
              0.3333333333333333,
              "#9c179e"
             ],
             [
              0.4444444444444444,
              "#bd3786"
             ],
             [
              0.5555555555555556,
              "#d8576b"
             ],
             [
              0.6666666666666666,
              "#ed7953"
             ],
             [
              0.7777777777777778,
              "#fb9f3a"
             ],
             [
              0.8888888888888888,
              "#fdca26"
             ],
             [
              1,
              "#f0f921"
             ]
            ],
            "type": "surface"
           }
          ],
          "table": [
           {
            "cells": {
             "fill": {
              "color": "#EBF0F8"
             },
             "line": {
              "color": "white"
             }
            },
            "header": {
             "fill": {
              "color": "#C8D4E3"
             },
             "line": {
              "color": "white"
             }
            },
            "type": "table"
           }
          ]
         },
         "layout": {
          "annotationdefaults": {
           "arrowcolor": "#2a3f5f",
           "arrowhead": 0,
           "arrowwidth": 1
          },
          "autotypenumbers": "strict",
          "coloraxis": {
           "colorbar": {
            "outlinewidth": 0,
            "ticks": ""
           }
          },
          "colorscale": {
           "diverging": [
            [
             0,
             "#8e0152"
            ],
            [
             0.1,
             "#c51b7d"
            ],
            [
             0.2,
             "#de77ae"
            ],
            [
             0.3,
             "#f1b6da"
            ],
            [
             0.4,
             "#fde0ef"
            ],
            [
             0.5,
             "#f7f7f7"
            ],
            [
             0.6,
             "#e6f5d0"
            ],
            [
             0.7,
             "#b8e186"
            ],
            [
             0.8,
             "#7fbc41"
            ],
            [
             0.9,
             "#4d9221"
            ],
            [
             1,
             "#276419"
            ]
           ],
           "sequential": [
            [
             0,
             "#0d0887"
            ],
            [
             0.1111111111111111,
             "#46039f"
            ],
            [
             0.2222222222222222,
             "#7201a8"
            ],
            [
             0.3333333333333333,
             "#9c179e"
            ],
            [
             0.4444444444444444,
             "#bd3786"
            ],
            [
             0.5555555555555556,
             "#d8576b"
            ],
            [
             0.6666666666666666,
             "#ed7953"
            ],
            [
             0.7777777777777778,
             "#fb9f3a"
            ],
            [
             0.8888888888888888,
             "#fdca26"
            ],
            [
             1,
             "#f0f921"
            ]
           ],
           "sequentialminus": [
            [
             0,
             "#0d0887"
            ],
            [
             0.1111111111111111,
             "#46039f"
            ],
            [
             0.2222222222222222,
             "#7201a8"
            ],
            [
             0.3333333333333333,
             "#9c179e"
            ],
            [
             0.4444444444444444,
             "#bd3786"
            ],
            [
             0.5555555555555556,
             "#d8576b"
            ],
            [
             0.6666666666666666,
             "#ed7953"
            ],
            [
             0.7777777777777778,
             "#fb9f3a"
            ],
            [
             0.8888888888888888,
             "#fdca26"
            ],
            [
             1,
             "#f0f921"
            ]
           ]
          },
          "colorway": [
           "#636efa",
           "#EF553B",
           "#00cc96",
           "#ab63fa",
           "#FFA15A",
           "#19d3f3",
           "#FF6692",
           "#B6E880",
           "#FF97FF",
           "#FECB52"
          ],
          "font": {
           "color": "#2a3f5f"
          },
          "geo": {
           "bgcolor": "white",
           "lakecolor": "white",
           "landcolor": "#E5ECF6",
           "showlakes": true,
           "showland": true,
           "subunitcolor": "white"
          },
          "hoverlabel": {
           "align": "left"
          },
          "hovermode": "closest",
          "mapbox": {
           "style": "light"
          },
          "paper_bgcolor": "white",
          "plot_bgcolor": "#E5ECF6",
          "polar": {
           "angularaxis": {
            "gridcolor": "white",
            "linecolor": "white",
            "ticks": ""
           },
           "bgcolor": "#E5ECF6",
           "radialaxis": {
            "gridcolor": "white",
            "linecolor": "white",
            "ticks": ""
           }
          },
          "scene": {
           "xaxis": {
            "backgroundcolor": "#E5ECF6",
            "gridcolor": "white",
            "gridwidth": 2,
            "linecolor": "white",
            "showbackground": true,
            "ticks": "",
            "zerolinecolor": "white"
           },
           "yaxis": {
            "backgroundcolor": "#E5ECF6",
            "gridcolor": "white",
            "gridwidth": 2,
            "linecolor": "white",
            "showbackground": true,
            "ticks": "",
            "zerolinecolor": "white"
           },
           "zaxis": {
            "backgroundcolor": "#E5ECF6",
            "gridcolor": "white",
            "gridwidth": 2,
            "linecolor": "white",
            "showbackground": true,
            "ticks": "",
            "zerolinecolor": "white"
           }
          },
          "shapedefaults": {
           "line": {
            "color": "#2a3f5f"
           }
          },
          "ternary": {
           "aaxis": {
            "gridcolor": "white",
            "linecolor": "white",
            "ticks": ""
           },
           "baxis": {
            "gridcolor": "white",
            "linecolor": "white",
            "ticks": ""
           },
           "bgcolor": "#E5ECF6",
           "caxis": {
            "gridcolor": "white",
            "linecolor": "white",
            "ticks": ""
           }
          },
          "title": {
           "x": 0.05
          },
          "xaxis": {
           "automargin": true,
           "gridcolor": "white",
           "linecolor": "white",
           "ticks": "",
           "title": {
            "standoff": 15
           },
           "zerolinecolor": "white",
           "zerolinewidth": 2
          },
          "yaxis": {
           "automargin": true,
           "gridcolor": "white",
           "linecolor": "white",
           "ticks": "",
           "title": {
            "standoff": 15
           },
           "zerolinecolor": "white",
           "zerolinewidth": 2
          }
         }
        },
        "title": {
         "text": "Where does Vayuh.ai outperform"
        },
        "width": 800
       }
      }
     },
     "metadata": {},
     "output_type": "display_data"
    }
   ],
   "source": [
    "#P2 - By space: Where does ML outperform Phys and Phys outperform ML\n",
    "#edit date\n",
    "\n",
    "fig=px.scatter_mapbox(uniquell, lat='lat', lon='lon', color ='ml_outperforms',\n",
    "                      color_continuous_scale='jet', range_color=[0,1],zoom=2.8, title=\"Where does Vayuh.ai outperform\",\n",
    "                      width=800, height=400,\n",
    "                      labels={\"ml_outperforms\": \"Vayuh.ai outperforms\"})\n",
    "fig.update_layout(mapbox_style=\"dark\", mapbox_accesstoken=mapbox_token,\n",
    "                    margin=dict(l=20, r=20, t=50, b=20))\n",
    "fig.show()\n",
    "fig.write_image(\"figs/MLoutperform.png\")\n"
   ]
  },
  {
   "cell_type": "code",
   "execution_count": 26,
   "metadata": {},
   "outputs": [
    {
     "data": {
      "application/vnd.plotly.v1+json": {
       "config": {
        "plotlyServerURL": "https://plot.ly"
       },
       "data": [
        {
         "hovertemplate": "lat=%{lat}<br>lon=%{lon}<br>Physics SD=%{marker.color}<extra></extra>",
         "lat": [
          27.25,
          27.25,
          27.25,
          29.25,
          29.25,
          29.25,
          29.25,
          31.25,
          31.25,
          31.25,
          31.25,
          31.25,
          31.25,
          31.25,
          31.25,
          31.25,
          31.25,
          31.25,
          31.25,
          33.25,
          33.25,
          33.25,
          33.25,
          33.25,
          33.25,
          33.25,
          33.25,
          33.25,
          33.25,
          33.25,
          33.25,
          33.25,
          33.25,
          33.25,
          33.25,
          33.25,
          33.25,
          33.25,
          35.25,
          35.25,
          35.25,
          35.25,
          35.25,
          35.25,
          35.25,
          35.25,
          35.25,
          35.25,
          35.25,
          35.25,
          35.25,
          35.25,
          35.25,
          35.25,
          35.25,
          35.25,
          35.25,
          35.25,
          35.25,
          35.25,
          37.25,
          37.25,
          37.25,
          37.25,
          37.25,
          37.25,
          37.25,
          37.25,
          37.25,
          37.25,
          37.25,
          37.25,
          37.25,
          37.25,
          37.25,
          37.25,
          37.25,
          37.25,
          37.25,
          37.25,
          37.25,
          37.25,
          39.25,
          39.25,
          39.25,
          39.25,
          39.25,
          39.25,
          39.25,
          39.25,
          39.25,
          39.25,
          39.25,
          39.25,
          39.25,
          39.25,
          39.25,
          39.25,
          39.25,
          39.25,
          39.25,
          39.25,
          39.25,
          39.25,
          39.25,
          39.25,
          41.25,
          41.25,
          41.25,
          41.25,
          41.25,
          41.25,
          41.25,
          41.25,
          41.25,
          41.25,
          41.25,
          41.25,
          41.25,
          41.25,
          41.25,
          41.25,
          41.25,
          41.25,
          41.25,
          41.25,
          41.25,
          41.25,
          41.25,
          41.25,
          41.25,
          41.25,
          43.25,
          43.25,
          43.25,
          43.25,
          43.25,
          43.25,
          43.25,
          43.25,
          43.25,
          43.25,
          43.25,
          43.25,
          43.25,
          43.25,
          43.25,
          43.25,
          43.25,
          43.25,
          43.25,
          43.25,
          43.25,
          43.25,
          43.25,
          43.25,
          45.25,
          45.25,
          45.25,
          45.25,
          45.25,
          45.25,
          45.25,
          45.25,
          45.25,
          45.25,
          45.25,
          45.25,
          45.25,
          45.25,
          45.25,
          45.25,
          45.25,
          45.25,
          45.25,
          45.25,
          45.25,
          45.25,
          47.25,
          47.25,
          47.25,
          47.25,
          47.25,
          47.25,
          47.25,
          47.25,
          47.25,
          47.25,
          47.25,
          47.25,
          47.25,
          47.25,
          47.25,
          47.25,
          47.25,
          47.25,
          47.25
         ],
         "legendgroup": "",
         "lon": [
          261.75,
          277.75,
          279.75,
          259.75,
          261.75,
          263.75,
          277.75,
          255.75,
          257.75,
          259.75,
          261.75,
          263.75,
          265.75,
          267.75,
          269.75,
          271.75,
          273.75,
          275.75,
          277.75,
          243.75,
          245.75,
          247.75,
          249.75,
          251.75,
          253.75,
          255.75,
          257.75,
          259.75,
          261.75,
          263.75,
          265.75,
          267.75,
          269.75,
          271.75,
          273.75,
          275.75,
          277.75,
          279.75,
          239.75,
          241.75,
          243.75,
          245.75,
          247.75,
          249.75,
          251.75,
          253.75,
          255.75,
          257.75,
          259.75,
          261.75,
          263.75,
          265.75,
          267.75,
          269.75,
          271.75,
          273.75,
          275.75,
          277.75,
          279.75,
          281.75,
          239.75,
          241.75,
          243.75,
          245.75,
          247.75,
          249.75,
          251.75,
          253.75,
          255.75,
          257.75,
          259.75,
          261.75,
          263.75,
          265.75,
          267.75,
          269.75,
          271.75,
          273.75,
          275.75,
          277.75,
          279.75,
          281.75,
          237.75,
          239.75,
          241.75,
          243.75,
          245.75,
          247.75,
          249.75,
          251.75,
          253.75,
          255.75,
          257.75,
          259.75,
          261.75,
          263.75,
          265.75,
          267.75,
          269.75,
          271.75,
          273.75,
          275.75,
          277.75,
          279.75,
          281.75,
          283.75,
          237.75,
          239.75,
          241.75,
          243.75,
          245.75,
          247.75,
          249.75,
          251.75,
          253.75,
          255.75,
          257.75,
          259.75,
          261.75,
          263.75,
          265.75,
          267.75,
          269.75,
          271.75,
          273.75,
          275.75,
          277.75,
          279.75,
          281.75,
          283.75,
          285.75,
          287.75,
          237.75,
          239.75,
          241.75,
          243.75,
          245.75,
          247.75,
          249.75,
          251.75,
          253.75,
          255.75,
          257.75,
          259.75,
          261.75,
          263.75,
          265.75,
          267.75,
          269.75,
          271.75,
          273.75,
          275.75,
          281.75,
          283.75,
          285.75,
          287.75,
          237.75,
          239.75,
          241.75,
          243.75,
          245.75,
          247.75,
          249.75,
          251.75,
          253.75,
          255.75,
          257.75,
          259.75,
          261.75,
          263.75,
          265.75,
          267.75,
          269.75,
          271.75,
          273.75,
          275.75,
          289.75,
          291.75,
          237.75,
          239.75,
          241.75,
          243.75,
          245.75,
          247.75,
          249.75,
          251.75,
          253.75,
          255.75,
          257.75,
          259.75,
          261.75,
          263.75,
          265.75,
          267.75,
          269.75,
          271.75,
          273.75
         ],
         "marker": {
          "color": [
           6.653902536331207,
           4.796150583117351,
           4.158914593257546,
           7.951840038340713,
           7.6092606424514555,
           7.040479374939397,
           5.741223020872696,
           8.589380663882373,
           8.91006685695563,
           8.627738770786063,
           8.250546972461809,
           8.161713382002764,
           7.9580618028587224,
           7.870791023968878,
           7.6440096306465755,
           7.497307837116377,
           7.368089540215594,
           7.29188392177374,
           6.785606106885965,
           7.92748912368839,
           9.328155331056216,
           9.216361323344065,
           9.240274318617683,
           8.406857401629283,
           9.122388830720011,
           9.275281760141322,
           9.239193664963512,
           9.389246611553293,
           9.024690544495195,
           9.06890755013921,
           8.908375724627954,
           8.848734969038711,
           8.587483313807592,
           8.370026428396914,
           8.060693918629806,
           8.025499670537101,
           7.997858554826262,
           7.5483697536399275,
           5.750378176667889,
           9.280756580193339,
           10.25179851378071,
           9.895762958658276,
           9.098648869074431,
           10.119274285541223,
           9.335540195579028,
           9.163726305249595,
           9.504243894523887,
           9.717689842760265,
           9.894289770027477,
           9.861740821277428,
           9.513017232305248,
           9.557150333007934,
           9.48224329445287,
           9.354369978330784,
           9.087458821702011,
           8.856405668986332,
           8.603230414188902,
           8.517882484145598,
           8.744222883070046,
           8.484015020607623,
           8.354360162077045,
           9.845959039988875,
           10.338601207534117,
           10.543788868743949,
           10.07175899967728,
           11.12372522428794,
           9.868256980771866,
           9.519786667817467,
           9.641362250730797,
           10.45063841416406,
           10.86352157037451,
           10.662793082388816,
           10.178445799835563,
           10.109456122402733,
           9.988800064115178,
           9.98233564567153,
           9.750872356273971,
           9.739858813714628,
           9.559595113481402,
           9.134554323612212,
           9.356418409497396,
           9.256437578956593,
           7.545361759391968,
           8.851439537950478,
           10.549124795662681,
           10.376408973698744,
           10.650293656306186,
           10.71241917144863,
           11.772802515267516,
           10.626391657735157,
           9.108669956658787,
           10.178376156153737,
           11.178245763497818,
           11.496241896277946,
           11.457229877157648,
           11.07818134483189,
           10.875547809546283,
           10.653420323957247,
           10.46491601833165,
           10.320352380846055,
           9.993007122550855,
           9.848996205888302,
           9.870204325631148,
           9.864887868550237,
           10.07062703114211,
           10.091660359254208,
           8.858808285644729,
           9.913086102027032,
           10.646729163561707,
           10.345556530926304,
           10.980862296897238,
           11.25914932434693,
           11.200130568281065,
           11.570631039189287,
           10.175914345764756,
           10.934845854479239,
           11.70710278650759,
           11.772489161246629,
           11.96734842303516,
           12.042512139669476,
           11.761398505020685,
           11.658772814786687,
           11.515484350984448,
           11.152225355284196,
           10.681372061190022,
           10.619163433659288,
           10.425065337596482,
           10.238582833697548,
           10.232559248557372,
           10.455816176570384,
           10.577998447162408,
           9.873736219464371,
           7.88555016082978,
           9.455024461832236,
           10.286504220759369,
           10.559817734205085,
           10.699475829002054,
           10.826744762961013,
           10.65074181484443,
           12.4956582543373,
           11.864752633456787,
           11.870716937047915,
           12.143331167759507,
           12.069852115026965,
           12.22809421741533,
           12.40976179302156,
           12.39156737145859,
           12.250645615425793,
           12.052443241260589,
           11.628173389551986,
           10.718554954801098,
           10.831557844209257,
           10.386499244724481,
           10.597765537652705,
           11.19596071476446,
           11.125343162179936,
           7.329425668794264,
           9.280646733433601,
           9.214594735375272,
           10.074136761579688,
           10.290332350940464,
           10.636209039984433,
           10.791300448008943,
           12.300121088934807,
           12.668408953897135,
           12.48384089440357,
           12.712819149571343,
           12.956993923714393,
           13.200200835854343,
           13.208996403583075,
           13.0966275536999,
           12.71119325541645,
           12.496715104753289,
           11.98010050467025,
           10.377514827154128,
           10.612211242834192,
           11.642023781848442,
           11.254703909144881,
           7.409425430539476,
           10.505576129997133,
           10.23935496343485,
           9.864362695577926,
           10.643706603142263,
           11.84394282355858,
           12.371104794414661,
           13.166894469987877,
           13.747024481673826,
           13.253823433903186,
           13.222518770099851,
           13.546057706387847,
           13.637057062289225,
           13.738077639564121,
           13.418390902693146,
           13.04987902447227,
           11.855125956290081,
           10.769689376684106,
           8.166737495612072
          ],
          "coloraxis": "coloraxis"
         },
         "mode": "markers",
         "name": "",
         "showlegend": false,
         "subplot": "mapbox",
         "type": "scattermapbox"
        }
       ],
       "layout": {
        "coloraxis": {
         "cmax": 13.747024481673826,
         "cmin": 4.158914593257546,
         "colorbar": {
          "title": {
           "text": "Physics SD"
          }
         },
         "colorscale": [
          [
           0,
           "rgb(0,0,131)"
          ],
          [
           0.2,
           "rgb(0,60,170)"
          ],
          [
           0.4,
           "rgb(5,255,255)"
          ],
          [
           0.6,
           "rgb(255,255,0)"
          ],
          [
           0.8,
           "rgb(250,0,0)"
          ],
          [
           1,
           "rgb(128,0,0)"
          ]
         ]
        },
        "height": 400,
        "legend": {
         "tracegroupgap": 0
        },
        "mapbox": {
         "accesstoken": "pk.eyJ1IjoibXVra2F2aWxsaSIsImEiOiJja3JoOG1yYm02ZWRrMnBtZmc3cTlycHQwIn0.OOg5KGUGMDM-t7vf3ez1FQ",
         "center": {
          "lat": 39.32106598984772,
          "lon": 261.26269035532994
         },
         "domain": {
          "x": [
           0,
           1
          ],
          "y": [
           0,
           1
          ]
         },
         "style": "dark",
         "zoom": 2.8
        },
        "margin": {
         "b": 20,
         "l": 20,
         "r": 20,
         "t": 20
        },
        "template": {
         "data": {
          "bar": [
           {
            "error_x": {
             "color": "#2a3f5f"
            },
            "error_y": {
             "color": "#2a3f5f"
            },
            "marker": {
             "line": {
              "color": "#E5ECF6",
              "width": 0.5
             },
             "pattern": {
              "fillmode": "overlay",
              "size": 10,
              "solidity": 0.2
             }
            },
            "type": "bar"
           }
          ],
          "barpolar": [
           {
            "marker": {
             "line": {
              "color": "#E5ECF6",
              "width": 0.5
             },
             "pattern": {
              "fillmode": "overlay",
              "size": 10,
              "solidity": 0.2
             }
            },
            "type": "barpolar"
           }
          ],
          "carpet": [
           {
            "aaxis": {
             "endlinecolor": "#2a3f5f",
             "gridcolor": "white",
             "linecolor": "white",
             "minorgridcolor": "white",
             "startlinecolor": "#2a3f5f"
            },
            "baxis": {
             "endlinecolor": "#2a3f5f",
             "gridcolor": "white",
             "linecolor": "white",
             "minorgridcolor": "white",
             "startlinecolor": "#2a3f5f"
            },
            "type": "carpet"
           }
          ],
          "choropleth": [
           {
            "colorbar": {
             "outlinewidth": 0,
             "ticks": ""
            },
            "type": "choropleth"
           }
          ],
          "contour": [
           {
            "colorbar": {
             "outlinewidth": 0,
             "ticks": ""
            },
            "colorscale": [
             [
              0,
              "#0d0887"
             ],
             [
              0.1111111111111111,
              "#46039f"
             ],
             [
              0.2222222222222222,
              "#7201a8"
             ],
             [
              0.3333333333333333,
              "#9c179e"
             ],
             [
              0.4444444444444444,
              "#bd3786"
             ],
             [
              0.5555555555555556,
              "#d8576b"
             ],
             [
              0.6666666666666666,
              "#ed7953"
             ],
             [
              0.7777777777777778,
              "#fb9f3a"
             ],
             [
              0.8888888888888888,
              "#fdca26"
             ],
             [
              1,
              "#f0f921"
             ]
            ],
            "type": "contour"
           }
          ],
          "contourcarpet": [
           {
            "colorbar": {
             "outlinewidth": 0,
             "ticks": ""
            },
            "type": "contourcarpet"
           }
          ],
          "heatmap": [
           {
            "colorbar": {
             "outlinewidth": 0,
             "ticks": ""
            },
            "colorscale": [
             [
              0,
              "#0d0887"
             ],
             [
              0.1111111111111111,
              "#46039f"
             ],
             [
              0.2222222222222222,
              "#7201a8"
             ],
             [
              0.3333333333333333,
              "#9c179e"
             ],
             [
              0.4444444444444444,
              "#bd3786"
             ],
             [
              0.5555555555555556,
              "#d8576b"
             ],
             [
              0.6666666666666666,
              "#ed7953"
             ],
             [
              0.7777777777777778,
              "#fb9f3a"
             ],
             [
              0.8888888888888888,
              "#fdca26"
             ],
             [
              1,
              "#f0f921"
             ]
            ],
            "type": "heatmap"
           }
          ],
          "heatmapgl": [
           {
            "colorbar": {
             "outlinewidth": 0,
             "ticks": ""
            },
            "colorscale": [
             [
              0,
              "#0d0887"
             ],
             [
              0.1111111111111111,
              "#46039f"
             ],
             [
              0.2222222222222222,
              "#7201a8"
             ],
             [
              0.3333333333333333,
              "#9c179e"
             ],
             [
              0.4444444444444444,
              "#bd3786"
             ],
             [
              0.5555555555555556,
              "#d8576b"
             ],
             [
              0.6666666666666666,
              "#ed7953"
             ],
             [
              0.7777777777777778,
              "#fb9f3a"
             ],
             [
              0.8888888888888888,
              "#fdca26"
             ],
             [
              1,
              "#f0f921"
             ]
            ],
            "type": "heatmapgl"
           }
          ],
          "histogram": [
           {
            "marker": {
             "pattern": {
              "fillmode": "overlay",
              "size": 10,
              "solidity": 0.2
             }
            },
            "type": "histogram"
           }
          ],
          "histogram2d": [
           {
            "colorbar": {
             "outlinewidth": 0,
             "ticks": ""
            },
            "colorscale": [
             [
              0,
              "#0d0887"
             ],
             [
              0.1111111111111111,
              "#46039f"
             ],
             [
              0.2222222222222222,
              "#7201a8"
             ],
             [
              0.3333333333333333,
              "#9c179e"
             ],
             [
              0.4444444444444444,
              "#bd3786"
             ],
             [
              0.5555555555555556,
              "#d8576b"
             ],
             [
              0.6666666666666666,
              "#ed7953"
             ],
             [
              0.7777777777777778,
              "#fb9f3a"
             ],
             [
              0.8888888888888888,
              "#fdca26"
             ],
             [
              1,
              "#f0f921"
             ]
            ],
            "type": "histogram2d"
           }
          ],
          "histogram2dcontour": [
           {
            "colorbar": {
             "outlinewidth": 0,
             "ticks": ""
            },
            "colorscale": [
             [
              0,
              "#0d0887"
             ],
             [
              0.1111111111111111,
              "#46039f"
             ],
             [
              0.2222222222222222,
              "#7201a8"
             ],
             [
              0.3333333333333333,
              "#9c179e"
             ],
             [
              0.4444444444444444,
              "#bd3786"
             ],
             [
              0.5555555555555556,
              "#d8576b"
             ],
             [
              0.6666666666666666,
              "#ed7953"
             ],
             [
              0.7777777777777778,
              "#fb9f3a"
             ],
             [
              0.8888888888888888,
              "#fdca26"
             ],
             [
              1,
              "#f0f921"
             ]
            ],
            "type": "histogram2dcontour"
           }
          ],
          "mesh3d": [
           {
            "colorbar": {
             "outlinewidth": 0,
             "ticks": ""
            },
            "type": "mesh3d"
           }
          ],
          "parcoords": [
           {
            "line": {
             "colorbar": {
              "outlinewidth": 0,
              "ticks": ""
             }
            },
            "type": "parcoords"
           }
          ],
          "pie": [
           {
            "automargin": true,
            "type": "pie"
           }
          ],
          "scatter": [
           {
            "marker": {
             "colorbar": {
              "outlinewidth": 0,
              "ticks": ""
             }
            },
            "type": "scatter"
           }
          ],
          "scatter3d": [
           {
            "line": {
             "colorbar": {
              "outlinewidth": 0,
              "ticks": ""
             }
            },
            "marker": {
             "colorbar": {
              "outlinewidth": 0,
              "ticks": ""
             }
            },
            "type": "scatter3d"
           }
          ],
          "scattercarpet": [
           {
            "marker": {
             "colorbar": {
              "outlinewidth": 0,
              "ticks": ""
             }
            },
            "type": "scattercarpet"
           }
          ],
          "scattergeo": [
           {
            "marker": {
             "colorbar": {
              "outlinewidth": 0,
              "ticks": ""
             }
            },
            "type": "scattergeo"
           }
          ],
          "scattergl": [
           {
            "marker": {
             "colorbar": {
              "outlinewidth": 0,
              "ticks": ""
             }
            },
            "type": "scattergl"
           }
          ],
          "scattermapbox": [
           {
            "marker": {
             "colorbar": {
              "outlinewidth": 0,
              "ticks": ""
             }
            },
            "type": "scattermapbox"
           }
          ],
          "scatterpolar": [
           {
            "marker": {
             "colorbar": {
              "outlinewidth": 0,
              "ticks": ""
             }
            },
            "type": "scatterpolar"
           }
          ],
          "scatterpolargl": [
           {
            "marker": {
             "colorbar": {
              "outlinewidth": 0,
              "ticks": ""
             }
            },
            "type": "scatterpolargl"
           }
          ],
          "scatterternary": [
           {
            "marker": {
             "colorbar": {
              "outlinewidth": 0,
              "ticks": ""
             }
            },
            "type": "scatterternary"
           }
          ],
          "surface": [
           {
            "colorbar": {
             "outlinewidth": 0,
             "ticks": ""
            },
            "colorscale": [
             [
              0,
              "#0d0887"
             ],
             [
              0.1111111111111111,
              "#46039f"
             ],
             [
              0.2222222222222222,
              "#7201a8"
             ],
             [
              0.3333333333333333,
              "#9c179e"
             ],
             [
              0.4444444444444444,
              "#bd3786"
             ],
             [
              0.5555555555555556,
              "#d8576b"
             ],
             [
              0.6666666666666666,
              "#ed7953"
             ],
             [
              0.7777777777777778,
              "#fb9f3a"
             ],
             [
              0.8888888888888888,
              "#fdca26"
             ],
             [
              1,
              "#f0f921"
             ]
            ],
            "type": "surface"
           }
          ],
          "table": [
           {
            "cells": {
             "fill": {
              "color": "#EBF0F8"
             },
             "line": {
              "color": "white"
             }
            },
            "header": {
             "fill": {
              "color": "#C8D4E3"
             },
             "line": {
              "color": "white"
             }
            },
            "type": "table"
           }
          ]
         },
         "layout": {
          "annotationdefaults": {
           "arrowcolor": "#2a3f5f",
           "arrowhead": 0,
           "arrowwidth": 1
          },
          "autotypenumbers": "strict",
          "coloraxis": {
           "colorbar": {
            "outlinewidth": 0,
            "ticks": ""
           }
          },
          "colorscale": {
           "diverging": [
            [
             0,
             "#8e0152"
            ],
            [
             0.1,
             "#c51b7d"
            ],
            [
             0.2,
             "#de77ae"
            ],
            [
             0.3,
             "#f1b6da"
            ],
            [
             0.4,
             "#fde0ef"
            ],
            [
             0.5,
             "#f7f7f7"
            ],
            [
             0.6,
             "#e6f5d0"
            ],
            [
             0.7,
             "#b8e186"
            ],
            [
             0.8,
             "#7fbc41"
            ],
            [
             0.9,
             "#4d9221"
            ],
            [
             1,
             "#276419"
            ]
           ],
           "sequential": [
            [
             0,
             "#0d0887"
            ],
            [
             0.1111111111111111,
             "#46039f"
            ],
            [
             0.2222222222222222,
             "#7201a8"
            ],
            [
             0.3333333333333333,
             "#9c179e"
            ],
            [
             0.4444444444444444,
             "#bd3786"
            ],
            [
             0.5555555555555556,
             "#d8576b"
            ],
            [
             0.6666666666666666,
             "#ed7953"
            ],
            [
             0.7777777777777778,
             "#fb9f3a"
            ],
            [
             0.8888888888888888,
             "#fdca26"
            ],
            [
             1,
             "#f0f921"
            ]
           ],
           "sequentialminus": [
            [
             0,
             "#0d0887"
            ],
            [
             0.1111111111111111,
             "#46039f"
            ],
            [
             0.2222222222222222,
             "#7201a8"
            ],
            [
             0.3333333333333333,
             "#9c179e"
            ],
            [
             0.4444444444444444,
             "#bd3786"
            ],
            [
             0.5555555555555556,
             "#d8576b"
            ],
            [
             0.6666666666666666,
             "#ed7953"
            ],
            [
             0.7777777777777778,
             "#fb9f3a"
            ],
            [
             0.8888888888888888,
             "#fdca26"
            ],
            [
             1,
             "#f0f921"
            ]
           ]
          },
          "colorway": [
           "#636efa",
           "#EF553B",
           "#00cc96",
           "#ab63fa",
           "#FFA15A",
           "#19d3f3",
           "#FF6692",
           "#B6E880",
           "#FF97FF",
           "#FECB52"
          ],
          "font": {
           "color": "#2a3f5f"
          },
          "geo": {
           "bgcolor": "white",
           "lakecolor": "white",
           "landcolor": "#E5ECF6",
           "showlakes": true,
           "showland": true,
           "subunitcolor": "white"
          },
          "hoverlabel": {
           "align": "left"
          },
          "hovermode": "closest",
          "mapbox": {
           "style": "light"
          },
          "paper_bgcolor": "white",
          "plot_bgcolor": "#E5ECF6",
          "polar": {
           "angularaxis": {
            "gridcolor": "white",
            "linecolor": "white",
            "ticks": ""
           },
           "bgcolor": "#E5ECF6",
           "radialaxis": {
            "gridcolor": "white",
            "linecolor": "white",
            "ticks": ""
           }
          },
          "scene": {
           "xaxis": {
            "backgroundcolor": "#E5ECF6",
            "gridcolor": "white",
            "gridwidth": 2,
            "linecolor": "white",
            "showbackground": true,
            "ticks": "",
            "zerolinecolor": "white"
           },
           "yaxis": {
            "backgroundcolor": "#E5ECF6",
            "gridcolor": "white",
            "gridwidth": 2,
            "linecolor": "white",
            "showbackground": true,
            "ticks": "",
            "zerolinecolor": "white"
           },
           "zaxis": {
            "backgroundcolor": "#E5ECF6",
            "gridcolor": "white",
            "gridwidth": 2,
            "linecolor": "white",
            "showbackground": true,
            "ticks": "",
            "zerolinecolor": "white"
           }
          },
          "shapedefaults": {
           "line": {
            "color": "#2a3f5f"
           }
          },
          "ternary": {
           "aaxis": {
            "gridcolor": "white",
            "linecolor": "white",
            "ticks": ""
           },
           "baxis": {
            "gridcolor": "white",
            "linecolor": "white",
            "ticks": ""
           },
           "bgcolor": "#E5ECF6",
           "caxis": {
            "gridcolor": "white",
            "linecolor": "white",
            "ticks": ""
           }
          },
          "title": {
           "x": 0.05
          },
          "xaxis": {
           "automargin": true,
           "gridcolor": "white",
           "linecolor": "white",
           "ticks": "",
           "title": {
            "standoff": 15
           },
           "zerolinecolor": "white",
           "zerolinewidth": 2
          },
          "yaxis": {
           "automargin": true,
           "gridcolor": "white",
           "linecolor": "white",
           "ticks": "",
           "title": {
            "standoff": 15
           },
           "zerolinecolor": "white",
           "zerolinewidth": 2
          }
         }
        },
        "width": 800
       }
      }
     },
     "metadata": {},
     "output_type": "display_data"
    }
   ],
   "source": [
    "#P2 - By space: Where does ML outperform Phys and Phys outperform ML\n",
    "parameter = 'phys_sd'\n",
    "#range_par = [-15,15]\n",
    "range_par = [uniquell[parameter].min(),uniquell[parameter].max()]\n",
    "fig=px.scatter_mapbox(uniquell, lat='lat', lon='lon', color =parameter,\n",
    "                      color_continuous_scale='jet', range_color=range_par,zoom=2.8, \n",
    "                      width=800, height=400, labels={\"phys_sd\": \"Physics SD\"})\n",
    "fig.update_layout(mapbox_style=\"dark\", mapbox_accesstoken=mapbox_token,\n",
    "                    margin=dict(l=20, r=20, t=20, b=20))\n",
    "fig.show()\n",
    "fig.write_image(\"figs/\" + parameter + \".png\")"
   ]
  },
  {
   "cell_type": "code",
   "execution_count": 87,
   "metadata": {},
   "outputs": [
    {
     "data": {
      "text/html": [
       "<div>\n",
       "<style scoped>\n",
       "    .dataframe tbody tr th:only-of-type {\n",
       "        vertical-align: middle;\n",
       "    }\n",
       "\n",
       "    .dataframe tbody tr th {\n",
       "        vertical-align: top;\n",
       "    }\n",
       "\n",
       "    .dataframe thead th {\n",
       "        text-align: right;\n",
       "    }\n",
       "</style>\n",
       "<table border=\"1\" class=\"dataframe\">\n",
       "  <thead>\n",
       "    <tr style=\"text-align: right;\">\n",
       "      <th></th>\n",
       "    </tr>\n",
       "    <tr>\n",
       "      <th>start_date</th>\n",
       "    </tr>\n",
       "  </thead>\n",
       "  <tbody>\n",
       "    <tr>\n",
       "      <th>2019-01-01</th>\n",
       "    </tr>\n",
       "    <tr>\n",
       "      <th>2019-01-08</th>\n",
       "    </tr>\n",
       "    <tr>\n",
       "      <th>2019-01-15</th>\n",
       "    </tr>\n",
       "    <tr>\n",
       "      <th>2019-01-22</th>\n",
       "    </tr>\n",
       "    <tr>\n",
       "      <th>2019-01-29</th>\n",
       "    </tr>\n",
       "    <tr>\n",
       "      <th>...</th>\n",
       "    </tr>\n",
       "    <tr>\n",
       "      <th>2021-06-22</th>\n",
       "    </tr>\n",
       "    <tr>\n",
       "      <th>2021-06-29</th>\n",
       "    </tr>\n",
       "    <tr>\n",
       "      <th>2021-07-06</th>\n",
       "    </tr>\n",
       "    <tr>\n",
       "      <th>2021-07-13</th>\n",
       "    </tr>\n",
       "    <tr>\n",
       "      <th>2021-07-20</th>\n",
       "    </tr>\n",
       "  </tbody>\n",
       "</table>\n",
       "<p>134 rows × 0 columns</p>\n",
       "</div>"
      ],
      "text/plain": [
       "Empty DataFrame\n",
       "Columns: []\n",
       "Index: [2019-01-01 00:00:00, 2019-01-08 00:00:00, 2019-01-15 00:00:00, 2019-01-22 00:00:00, 2019-01-29 00:00:00, 2019-02-05 00:00:00, 2019-02-12 00:00:00, 2019-02-19 00:00:00, 2019-02-26 00:00:00, 2019-03-05 00:00:00, 2019-03-12 00:00:00, 2019-03-19 00:00:00, 2019-03-26 00:00:00, 2019-04-02 00:00:00, 2019-04-09 00:00:00, 2019-04-16 00:00:00, 2019-04-23 00:00:00, 2019-04-30 00:00:00, 2019-05-07 00:00:00, 2019-05-14 00:00:00, 2019-05-21 00:00:00, 2019-05-28 00:00:00, 2019-06-04 00:00:00, 2019-06-11 00:00:00, 2019-06-18 00:00:00, 2019-06-25 00:00:00, 2019-07-02 00:00:00, 2019-07-09 00:00:00, 2019-07-16 00:00:00, 2019-07-23 00:00:00, 2019-07-30 00:00:00, 2019-08-06 00:00:00, 2019-08-13 00:00:00, 2019-08-20 00:00:00, 2019-08-27 00:00:00, 2019-09-03 00:00:00, 2019-09-10 00:00:00, 2019-09-17 00:00:00, 2019-09-24 00:00:00, 2019-10-01 00:00:00, 2019-10-08 00:00:00, 2019-10-15 00:00:00, 2019-10-22 00:00:00, 2019-10-29 00:00:00, 2019-11-05 00:00:00, 2019-11-12 00:00:00, 2019-11-19 00:00:00, 2019-11-26 00:00:00, 2019-12-03 00:00:00, 2019-12-10 00:00:00, 2019-12-17 00:00:00, 2019-12-24 00:00:00, 2019-12-31 00:00:00, 2020-01-07 00:00:00, 2020-01-14 00:00:00, 2020-01-21 00:00:00, 2020-01-28 00:00:00, 2020-02-04 00:00:00, 2020-02-11 00:00:00, 2020-02-18 00:00:00, 2020-02-25 00:00:00, 2020-03-03 00:00:00, 2020-03-10 00:00:00, 2020-03-17 00:00:00, 2020-03-24 00:00:00, 2020-03-31 00:00:00, 2020-04-07 00:00:00, 2020-04-14 00:00:00, 2020-04-21 00:00:00, 2020-04-28 00:00:00, 2020-05-05 00:00:00, 2020-05-12 00:00:00, 2020-05-19 00:00:00, 2020-05-26 00:00:00, 2020-06-02 00:00:00, 2020-06-09 00:00:00, 2020-06-16 00:00:00, 2020-06-23 00:00:00, 2020-06-30 00:00:00, 2020-07-07 00:00:00, 2020-07-14 00:00:00, 2020-07-21 00:00:00, 2020-07-28 00:00:00, 2020-08-04 00:00:00, 2020-08-11 00:00:00, 2020-08-18 00:00:00, 2020-08-25 00:00:00, 2020-09-01 00:00:00, 2020-09-08 00:00:00, 2020-09-15 00:00:00, 2020-09-22 00:00:00, 2020-09-29 00:00:00, 2020-10-06 00:00:00, 2020-10-13 00:00:00, 2020-10-20 00:00:00, 2020-10-27 00:00:00, 2020-11-03 00:00:00, 2020-11-10 00:00:00, 2020-11-17 00:00:00, 2020-11-24 00:00:00, ...]\n",
       "\n",
       "[134 rows x 0 columns]"
      ]
     },
     "execution_count": 87,
     "metadata": {},
     "output_type": "execute_result"
    }
   ],
   "source": [
    "datesaxis = pd.to_datetime(uniquesd['start_date'])\n",
    "d = pd.DataFrame(datesaxis, columns = ['start_date'])\n",
    "d.set_index('start_date', inplace=True)\n",
    "#d['start_date'] = d['start_date'].apply(lambda x: pd.to_datetime(x).to_pydatetime())\n",
    "d"
   ]
  },
  {
   "cell_type": "code",
   "execution_count": 32,
   "metadata": {},
   "outputs": [
    {
     "data": {
      "image/png": "[encoded data removed]",
      "text/plain": [
       "<Figure size 1152x648 with 1 Axes>"
      ]
     },
     "metadata": {
      "needs_background": "light"
     },
     "output_type": "display_data"
    }
   ],
   "source": [
    "#P3a - Plotting using matplotlib\n",
    "#Vayuh blue: #0C58D3 (12, 88, 211); #Vayuh green: #06A723 (6, 167, 35)\n",
    "#Vayuh light blue: #CFE2F3 (207, 226, 243), light blue 3; #Vayuh grey: #D9D9D9 (217, 217, 217), light grey 1\n",
    "import matplotlib.pyplot as plt\n",
    "import matplotlib.dates as mdates\n",
    "\n",
    "parameter = 'sd'\n",
    "\n",
    "fig = plt.figure(figsize=(16,9))\n",
    "ax = plt.axes()\n",
    "datesaxis = pd.to_datetime(uniquesd['start_date'])\n",
    "ax.grid(axis='y')\n",
    "plt.xticks(rotation=45, fontsize=12)\n",
    "plt.yticks(fontsize=12)\n",
    "plt.title(\"SD: Vayuh.ai forecast v Physics forecast\", fontsize=20)\n",
    "plt.xlabel(\"start date\", fontsize=14)\n",
    "plt.ylabel(\"error\", fontsize=14)\n",
    "ax.xaxis.set_major_locator(mdates.MonthLocator()) #set ticks every week\n",
    "ax.xaxis.set_major_formatter(mdates.DateFormatter('%Y-%m')) #set major ticks format\n",
    "plt.plot(datesaxis, uniquesd['ml_'+parameter], color = '#0C58D3', label='Vayuh.ai '+parameter)\n",
    "plt.plot(datesaxis, uniquesd['phys_'+parameter], color = '#06A723', label = 'Physics '+parameter)\n",
    "plt.legend(prop={\"size\":14})\n",
    "fig.savefig('figs/'+parameter+'plot.png', dpi = 300)"
   ]
  },
  {
   "cell_type": "code",
   "execution_count": 28,
   "metadata": {},
   "outputs": [
    {
     "data": {
      "image/png": "[encoded data removed]",
      "text/plain": [
       "<Figure size 1152x648 with 1 Axes>"
      ]
     },
     "metadata": {
      "needs_background": "light"
     },
     "output_type": "display_data"
    }
   ],
   "source": [
    "#P3a - Plotting using matplotlib\n",
    "#Vayuh blue: #0C58D3 (12, 88, 211); #Vayuh green: #06A723 (6, 167, 35)\n",
    "#Vayuh light blue: #CFE2F3 (207, 226, 243), light blue 3; #Vayuh grey: #D9D9D9 (217, 217, 217), light grey 1\n",
    "import matplotlib.pyplot as plt\n",
    "import matplotlib.dates as mdates\n",
    "import datetime\n",
    "\n",
    "parameter = 'mae'\n",
    "\n",
    "fig = plt.figure(figsize=(16,9))\n",
    "ax = plt.axes()\n",
    "datesaxis = pd.to_datetime(uniquesd['start_date'])\n",
    "d = np.array(datesaxis)\n",
    "ax.grid(axis='y')\n",
    "plt.xticks(rotation=45, fontsize=12)\n",
    "plt.yticks(fontsize=12)\n",
    "plt.title(\"Vayuh.ai forecast v Physics forecast\", fontsize=20)\n",
    "plt.xlabel(\"start date\", fontsize=14)\n",
    "plt.ylabel(\"error\", fontsize=14)\n",
    "plt.ylim(0,15)\n",
    "ax.xaxis.set_major_locator(mdates.MonthLocator()) #set ticks every week\n",
    "ax.xaxis.set_major_formatter(mdates.DateFormatter('%Y-%m')) #set major ticks format\n",
    "plt.plot(datesaxis, uniquesd['ml_'+parameter], color = '#0C58D3', label='Vayuh.ai '+parameter)\n",
    "ax.fill_between(uniquesd['start_date'], 0, 5, alpha=0.25)\n",
    "plt.plot(datesaxis, uniquesd['phys_'+parameter], color = '#06A723', label = 'Physics '+parameter)\n",
    "plt.legend(prop={\"size\":14})\n",
    "fig.savefig('figs/'+parameter+'plot.png', dpi = 300)"
   ]
  },
  {
   "cell_type": "code",
   "execution_count": 34,
   "metadata": {},
   "outputs": [
    {
     "name": "stdout",
     "output_type": "stream",
     "text": [
      "phys mbe = 5.9225588546956285\n",
      "phys mae = 8.068208147585391\n",
      "phys sd = 11.850045183635165\n",
      "ml mbe = 3.90355466850066\n",
      "ml sd = 4.433453711124069\n",
      "ml mae = 3.90355466850066\n"
     ]
    },
    {
     "data": {
      "application/vnd.plotly.v1+json": {
       "config": {
        "plotlyServerURL": "https://plot.ly"
       },
       "data": [
        {
         "hovertemplate": "lat=%{lat}<br>lon=%{lon}<br>Physics MAE=%{marker.color}<extra></extra>",
         "lat": [
          27.25,
          35.25,
          35.25,
          33.25,
          33.25,
          33.25,
          33.25,
          31.25,
          33.25,
          31.25,
          31.25,
          31.25,
          31.25,
          29.25,
          29.25,
          29.25,
          31.25
         ],
         "legendgroup": "",
         "lon": [
          261.75,
          259.75,
          257.75,
          265.75,
          263.75,
          259.75,
          257.75,
          265.75,
          261.75,
          261.75,
          259.75,
          257.75,
          255.75,
          263.75,
          261.75,
          259.75,
          263.75
         ],
         "marker": {
          "color": [
           6.195757579803467,
           9.91739218235016,
           8.959505295753479,
           8.84060546308756,
           8.933778715133666,
           9.335036277770996,
           8.643454790115356,
           7.386578464508057,
           9.052058839797974,
           8.081166338920593,
           7.973749279975891,
           8.173089969158173,
           6.667374610900879,
           6.371916389465332,
           7.107624864578247,
           7.400360774993897,
           8.120088672637939
          ],
          "coloraxis": "coloraxis"
         },
         "mode": "markers",
         "name": "",
         "showlegend": false,
         "subplot": "mapbox",
         "type": "scattermapbox"
        }
       ],
       "layout": {
        "coloraxis": {
         "cmax": 9.91739218235016,
         "cmin": 6.195757579803467,
         "colorbar": {
          "title": {
           "text": "Physics MAE"
          }
         },
         "colorscale": [
          [
           0,
           "rgb(0,0,131)"
          ],
          [
           0.2,
           "rgb(0,60,170)"
          ],
          [
           0.4,
           "rgb(5,255,255)"
          ],
          [
           0.6,
           "rgb(255,255,0)"
          ],
          [
           0.8,
           "rgb(250,0,0)"
          ],
          [
           1,
           "rgb(128,0,0)"
          ]
         ]
        },
        "height": 400,
        "legend": {
         "tracegroupgap": 0
        },
        "mapbox": {
         "accesstoken": "pk.eyJ1IjoibXVra2F2aWxsaSIsImEiOiJja3JoOG1yYm02ZWRrMnBtZmc3cTlycHQwIn0.OOg5KGUGMDM-t7vf3ez1FQ",
         "center": {
          "lat": 31.720588235294116,
          "lon": 261.04411764705884
         },
         "domain": {
          "x": [
           0,
           1
          ],
          "y": [
           0,
           1
          ]
         },
         "style": "dark",
         "zoom": 2.8
        },
        "margin": {
         "b": 20,
         "l": 20,
         "r": 20,
         "t": 20
        },
        "template": {
         "data": {
          "bar": [
           {
            "error_x": {
             "color": "#2a3f5f"
            },
            "error_y": {
             "color": "#2a3f5f"
            },
            "marker": {
             "line": {
              "color": "#E5ECF6",
              "width": 0.5
             },
             "pattern": {
              "fillmode": "overlay",
              "size": 10,
              "solidity": 0.2
             }
            },
            "type": "bar"
           }
          ],
          "barpolar": [
           {
            "marker": {
             "line": {
              "color": "#E5ECF6",
              "width": 0.5
             },
             "pattern": {
              "fillmode": "overlay",
              "size": 10,
              "solidity": 0.2
             }
            },
            "type": "barpolar"
           }
          ],
          "carpet": [
           {
            "aaxis": {
             "endlinecolor": "#2a3f5f",
             "gridcolor": "white",
             "linecolor": "white",
             "minorgridcolor": "white",
             "startlinecolor": "#2a3f5f"
            },
            "baxis": {
             "endlinecolor": "#2a3f5f",
             "gridcolor": "white",
             "linecolor": "white",
             "minorgridcolor": "white",
             "startlinecolor": "#2a3f5f"
            },
            "type": "carpet"
           }
          ],
          "choropleth": [
           {
            "colorbar": {
             "outlinewidth": 0,
             "ticks": ""
            },
            "type": "choropleth"
           }
          ],
          "contour": [
           {
            "colorbar": {
             "outlinewidth": 0,
             "ticks": ""
            },
            "colorscale": [
             [
              0,
              "#0d0887"
             ],
             [
              0.1111111111111111,
              "#46039f"
             ],
             [
              0.2222222222222222,
              "#7201a8"
             ],
             [
              0.3333333333333333,
              "#9c179e"
             ],
             [
              0.4444444444444444,
              "#bd3786"
             ],
             [
              0.5555555555555556,
              "#d8576b"
             ],
             [
              0.6666666666666666,
              "#ed7953"
             ],
             [
              0.7777777777777778,
              "#fb9f3a"
             ],
             [
              0.8888888888888888,
              "#fdca26"
             ],
             [
              1,
              "#f0f921"
             ]
            ],
            "type": "contour"
           }
          ],
          "contourcarpet": [
           {
            "colorbar": {
             "outlinewidth": 0,
             "ticks": ""
            },
            "type": "contourcarpet"
           }
          ],
          "heatmap": [
           {
            "colorbar": {
             "outlinewidth": 0,
             "ticks": ""
            },
            "colorscale": [
             [
              0,
              "#0d0887"
             ],
             [
              0.1111111111111111,
              "#46039f"
             ],
             [
              0.2222222222222222,
              "#7201a8"
             ],
             [
              0.3333333333333333,
              "#9c179e"
             ],
             [
              0.4444444444444444,
              "#bd3786"
             ],
             [
              0.5555555555555556,
              "#d8576b"
             ],
             [
              0.6666666666666666,
              "#ed7953"
             ],
             [
              0.7777777777777778,
              "#fb9f3a"
             ],
             [
              0.8888888888888888,
              "#fdca26"
             ],
             [
              1,
              "#f0f921"
             ]
            ],
            "type": "heatmap"
           }
          ],
          "heatmapgl": [
           {
            "colorbar": {
             "outlinewidth": 0,
             "ticks": ""
            },
            "colorscale": [
             [
              0,
              "#0d0887"
             ],
             [
              0.1111111111111111,
              "#46039f"
             ],
             [
              0.2222222222222222,
              "#7201a8"
             ],
             [
              0.3333333333333333,
              "#9c179e"
             ],
             [
              0.4444444444444444,
              "#bd3786"
             ],
             [
              0.5555555555555556,
              "#d8576b"
             ],
             [
              0.6666666666666666,
              "#ed7953"
             ],
             [
              0.7777777777777778,
              "#fb9f3a"
             ],
             [
              0.8888888888888888,
              "#fdca26"
             ],
             [
              1,
              "#f0f921"
             ]
            ],
            "type": "heatmapgl"
           }
          ],
          "histogram": [
           {
            "marker": {
             "pattern": {
              "fillmode": "overlay",
              "size": 10,
              "solidity": 0.2
             }
            },
            "type": "histogram"
           }
          ],
          "histogram2d": [
           {
            "colorbar": {
             "outlinewidth": 0,
             "ticks": ""
            },
            "colorscale": [
             [
              0,
              "#0d0887"
             ],
             [
              0.1111111111111111,
              "#46039f"
             ],
             [
              0.2222222222222222,
              "#7201a8"
             ],
             [
              0.3333333333333333,
              "#9c179e"
             ],
             [
              0.4444444444444444,
              "#bd3786"
             ],
             [
              0.5555555555555556,
              "#d8576b"
             ],
             [
              0.6666666666666666,
              "#ed7953"
             ],
             [
              0.7777777777777778,
              "#fb9f3a"
             ],
             [
              0.8888888888888888,
              "#fdca26"
             ],
             [
              1,
              "#f0f921"
             ]
            ],
            "type": "histogram2d"
           }
          ],
          "histogram2dcontour": [
           {
            "colorbar": {
             "outlinewidth": 0,
             "ticks": ""
            },
            "colorscale": [
             [
              0,
              "#0d0887"
             ],
             [
              0.1111111111111111,
              "#46039f"
             ],
             [
              0.2222222222222222,
              "#7201a8"
             ],
             [
              0.3333333333333333,
              "#9c179e"
             ],
             [
              0.4444444444444444,
              "#bd3786"
             ],
             [
              0.5555555555555556,
              "#d8576b"
             ],
             [
              0.6666666666666666,
              "#ed7953"
             ],
             [
              0.7777777777777778,
              "#fb9f3a"
             ],
             [
              0.8888888888888888,
              "#fdca26"
             ],
             [
              1,
              "#f0f921"
             ]
            ],
            "type": "histogram2dcontour"
           }
          ],
          "mesh3d": [
           {
            "colorbar": {
             "outlinewidth": 0,
             "ticks": ""
            },
            "type": "mesh3d"
           }
          ],
          "parcoords": [
           {
            "line": {
             "colorbar": {
              "outlinewidth": 0,
              "ticks": ""
             }
            },
            "type": "parcoords"
           }
          ],
          "pie": [
           {
            "automargin": true,
            "type": "pie"
           }
          ],
          "scatter": [
           {
            "marker": {
             "colorbar": {
              "outlinewidth": 0,
              "ticks": ""
             }
            },
            "type": "scatter"
           }
          ],
          "scatter3d": [
           {
            "line": {
             "colorbar": {
              "outlinewidth": 0,
              "ticks": ""
             }
            },
            "marker": {
             "colorbar": {
              "outlinewidth": 0,
              "ticks": ""
             }
            },
            "type": "scatter3d"
           }
          ],
          "scattercarpet": [
           {
            "marker": {
             "colorbar": {
              "outlinewidth": 0,
              "ticks": ""
             }
            },
            "type": "scattercarpet"
           }
          ],
          "scattergeo": [
           {
            "marker": {
             "colorbar": {
              "outlinewidth": 0,
              "ticks": ""
             }
            },
            "type": "scattergeo"
           }
          ],
          "scattergl": [
           {
            "marker": {
             "colorbar": {
              "outlinewidth": 0,
              "ticks": ""
             }
            },
            "type": "scattergl"
           }
          ],
          "scattermapbox": [
           {
            "marker": {
             "colorbar": {
              "outlinewidth": 0,
              "ticks": ""
             }
            },
            "type": "scattermapbox"
           }
          ],
          "scatterpolar": [
           {
            "marker": {
             "colorbar": {
              "outlinewidth": 0,
              "ticks": ""
             }
            },
            "type": "scatterpolar"
           }
          ],
          "scatterpolargl": [
           {
            "marker": {
             "colorbar": {
              "outlinewidth": 0,
              "ticks": ""
             }
            },
            "type": "scatterpolargl"
           }
          ],
          "scatterternary": [
           {
            "marker": {
             "colorbar": {
              "outlinewidth": 0,
              "ticks": ""
             }
            },
            "type": "scatterternary"
           }
          ],
          "surface": [
           {
            "colorbar": {
             "outlinewidth": 0,
             "ticks": ""
            },
            "colorscale": [
             [
              0,
              "#0d0887"
             ],
             [
              0.1111111111111111,
              "#46039f"
             ],
             [
              0.2222222222222222,
              "#7201a8"
             ],
             [
              0.3333333333333333,
              "#9c179e"
             ],
             [
              0.4444444444444444,
              "#bd3786"
             ],
             [
              0.5555555555555556,
              "#d8576b"
             ],
             [
              0.6666666666666666,
              "#ed7953"
             ],
             [
              0.7777777777777778,
              "#fb9f3a"
             ],
             [
              0.8888888888888888,
              "#fdca26"
             ],
             [
              1,
              "#f0f921"
             ]
            ],
            "type": "surface"
           }
          ],
          "table": [
           {
            "cells": {
             "fill": {
              "color": "#EBF0F8"
             },
             "line": {
              "color": "white"
             }
            },
            "header": {
             "fill": {
              "color": "#C8D4E3"
             },
             "line": {
              "color": "white"
             }
            },
            "type": "table"
           }
          ]
         },
         "layout": {
          "annotationdefaults": {
           "arrowcolor": "#2a3f5f",
           "arrowhead": 0,
           "arrowwidth": 1
          },
          "autotypenumbers": "strict",
          "coloraxis": {
           "colorbar": {
            "outlinewidth": 0,
            "ticks": ""
           }
          },
          "colorscale": {
           "diverging": [
            [
             0,
             "#8e0152"
            ],
            [
             0.1,
             "#c51b7d"
            ],
            [
             0.2,
             "#de77ae"
            ],
            [
             0.3,
             "#f1b6da"
            ],
            [
             0.4,
             "#fde0ef"
            ],
            [
             0.5,
             "#f7f7f7"
            ],
            [
             0.6,
             "#e6f5d0"
            ],
            [
             0.7,
             "#b8e186"
            ],
            [
             0.8,
             "#7fbc41"
            ],
            [
             0.9,
             "#4d9221"
            ],
            [
             1,
             "#276419"
            ]
           ],
           "sequential": [
            [
             0,
             "#0d0887"
            ],
            [
             0.1111111111111111,
             "#46039f"
            ],
            [
             0.2222222222222222,
             "#7201a8"
            ],
            [
             0.3333333333333333,
             "#9c179e"
            ],
            [
             0.4444444444444444,
             "#bd3786"
            ],
            [
             0.5555555555555556,
             "#d8576b"
            ],
            [
             0.6666666666666666,
             "#ed7953"
            ],
            [
             0.7777777777777778,
             "#fb9f3a"
            ],
            [
             0.8888888888888888,
             "#fdca26"
            ],
            [
             1,
             "#f0f921"
            ]
           ],
           "sequentialminus": [
            [
             0,
             "#0d0887"
            ],
            [
             0.1111111111111111,
             "#46039f"
            ],
            [
             0.2222222222222222,
             "#7201a8"
            ],
            [
             0.3333333333333333,
             "#9c179e"
            ],
            [
             0.4444444444444444,
             "#bd3786"
            ],
            [
             0.5555555555555556,
             "#d8576b"
            ],
            [
             0.6666666666666666,
             "#ed7953"
            ],
            [
             0.7777777777777778,
             "#fb9f3a"
            ],
            [
             0.8888888888888888,
             "#fdca26"
            ],
            [
             1,
             "#f0f921"
            ]
           ]
          },
          "colorway": [
           "#636efa",
           "#EF553B",
           "#00cc96",
           "#ab63fa",
           "#FFA15A",
           "#19d3f3",
           "#FF6692",
           "#B6E880",
           "#FF97FF",
           "#FECB52"
          ],
          "font": {
           "color": "#2a3f5f"
          },
          "geo": {
           "bgcolor": "white",
           "lakecolor": "white",
           "landcolor": "#E5ECF6",
           "showlakes": true,
           "showland": true,
           "subunitcolor": "white"
          },
          "hoverlabel": {
           "align": "left"
          },
          "hovermode": "closest",
          "mapbox": {
           "style": "light"
          },
          "paper_bgcolor": "white",
          "plot_bgcolor": "#E5ECF6",
          "polar": {
           "angularaxis": {
            "gridcolor": "white",
            "linecolor": "white",
            "ticks": ""
           },
           "bgcolor": "#E5ECF6",
           "radialaxis": {
            "gridcolor": "white",
            "linecolor": "white",
            "ticks": ""
           }
          },
          "scene": {
           "xaxis": {
            "backgroundcolor": "#E5ECF6",
            "gridcolor": "white",
            "gridwidth": 2,
            "linecolor": "white",
            "showbackground": true,
            "ticks": "",
            "zerolinecolor": "white"
           },
           "yaxis": {
            "backgroundcolor": "#E5ECF6",
            "gridcolor": "white",
            "gridwidth": 2,
            "linecolor": "white",
            "showbackground": true,
            "ticks": "",
            "zerolinecolor": "white"
           },
           "zaxis": {
            "backgroundcolor": "#E5ECF6",
            "gridcolor": "white",
            "gridwidth": 2,
            "linecolor": "white",
            "showbackground": true,
            "ticks": "",
            "zerolinecolor": "white"
           }
          },
          "shapedefaults": {
           "line": {
            "color": "#2a3f5f"
           }
          },
          "ternary": {
           "aaxis": {
            "gridcolor": "white",
            "linecolor": "white",
            "ticks": ""
           },
           "baxis": {
            "gridcolor": "white",
            "linecolor": "white",
            "ticks": ""
           },
           "bgcolor": "#E5ECF6",
           "caxis": {
            "gridcolor": "white",
            "linecolor": "white",
            "ticks": ""
           }
          },
          "title": {
           "x": 0.05
          },
          "xaxis": {
           "automargin": true,
           "gridcolor": "white",
           "linecolor": "white",
           "ticks": "",
           "title": {
            "standoff": 15
           },
           "zerolinecolor": "white",
           "zerolinewidth": 2
          },
          "yaxis": {
           "automargin": true,
           "gridcolor": "white",
           "linecolor": "white",
           "ticks": "",
           "title": {
            "standoff": 15
           },
           "zerolinecolor": "white",
           "zerolinewidth": 2
          }
         }
        },
        "width": 800
       }
      }
     },
     "metadata": {},
     "output_type": "display_data"
    }
   ],
   "source": [
    "#P7 - By extreme events: Texas cold wave (06 Feb to 22 Feb 2021) (14 day differences)\n",
    "texascoldwave = df[(df['start_date']>='2021-01-23') & (df['start_date']<='2021-02-28')]\n",
    "texaslatlon = ['35.25|257.75', '35.25|259.75', '33.25|257.75', '33.25|259.75', '31.25|257.75', '31.25|259.75', '29.25|259.75', '31.25|255.75',\\\n",
    "    '33.25|261.75', '33.25|263.75', '33.25|265.75', '31.25|261.75', '31.25|263.75', '31.25|265.75', '29.25|261.75', '29.25|263.75', '27.25|261.75']\n",
    "texascoldwave = texascoldwave[texascoldwave['latlon'].isin(texaslatlon)]\n",
    "texascoldwave = texascoldwave.sort_values(by=\"start_date\")\n",
    "texascoldwave\n",
    "\n",
    "#High level stats\n",
    "phys_mbe = texascoldwave['phys_err'].mean()\n",
    "print('phys mbe = ' + str(phys_mbe))\n",
    "phys_mae = texascoldwave['phys_err'].abs().mean()\n",
    "print('phys mae = ' + str(phys_mae))\n",
    "phys_sd = texascoldwave['phys_err'].std()\n",
    "print('phys sd = ' + str(phys_sd))\n",
    "ml_mbe = texascoldwave['err'].mean()\n",
    "print('ml mbe = ' + str(ml_mbe))\n",
    "ml_sd = texascoldwave['err'].std()\n",
    "print('ml sd = ' + str(ml_sd))\n",
    "ml_mae = texascoldwave['err'].abs().mean()\n",
    "print('ml mae = ' + str(ml_mae))\n",
    "\n",
    "#Reduce by lat lon\n",
    "texascoldwave_latlon = texascoldwave.latlon.unique()\n",
    "texascoldwavell = pd.DataFrame(texascoldwave_latlon, columns = ['latlon'])\n",
    "texascoldwavell['ml_mbe'] = \"\"; texascoldwavell['ml_mae'] = \"\"; texascoldwavell['ml_sd'] = \"\"\n",
    "texascoldwavell['phys_mbe'] = \"\"; texascoldwavell['phys_mae'] = \"\"; texascoldwavell['phys_sd'] = \"\"\n",
    "\n",
    "for ind, row in texascoldwavell.iterrows():\n",
    "    ll = row['latlon']\n",
    "    texascoldwave_subset = texascoldwave[texascoldwave['latlon']==ll]\n",
    "\n",
    "    ml_mbe = texascoldwave_subset['err'].mean()\n",
    "    ml_mae = texascoldwave_subset['err'].abs().mean()\n",
    "    ml_sd = texascoldwave_subset['err'].std()\n",
    "    texascoldwavell.loc[texascoldwavell['latlon']==ll,'ml_mbe'] = ml_mbe\n",
    "    texascoldwavell.loc[texascoldwavell['latlon']==ll,'ml_mae'] = ml_mae\n",
    "    texascoldwavell.loc[texascoldwavell['latlon']==ll,'ml_sd'] = ml_sd    \n",
    "    phys_mbe = texascoldwave_subset['phys_err'].mean()\n",
    "    phys_mae = texascoldwave_subset['phys_err'].abs().mean()\n",
    "    phys_sd = texascoldwave_subset['phys_err'].std()\n",
    "    texascoldwavell.loc[texascoldwavell['latlon']==ll,'phys_mbe'] = phys_mbe\n",
    "    texascoldwavell.loc[texascoldwavell['latlon']==ll,'phys_mae'] = phys_mae\n",
    "    texascoldwavell.loc[texascoldwavell['latlon']==ll,'phys_sd'] = phys_sd\n",
    "texascoldwavell['lat'] = texascoldwavell['latlon'].str.split('|').str[0].astype(float)\n",
    "texascoldwavell['lon'] = texascoldwavell['latlon'].str.split('|').str[1].astype(float)\n",
    "texascoldwavell['ml_outperforms'] = texascoldwavell['ml_mae'] < texascoldwavell['phys_mae']\n",
    "texascoldwavell['phys_outperforms'] = texascoldwavell['phys_mae'] < texascoldwavell['ml_mae']\n",
    "texascoldwavell['ml_mbe'] = texascoldwavell['ml_mbe'].astype(float); texascoldwavell['ml_mae'] = texascoldwavell['ml_mae'].astype(float); texascoldwavell['ml_sd'] = texascoldwavell['ml_sd'].astype(float)\n",
    "texascoldwavell['phys_mbe'] = texascoldwavell['phys_mbe'].astype(float); texascoldwavell['phys_mae'] = texascoldwavell['phys_mae'].astype(float); texascoldwavell['phys_sd'] = texascoldwavell['phys_sd'].astype(float)\n",
    "texascoldwavell\n",
    "\n",
    "#Plot\n",
    "parameter = 'phys_mae'\n",
    "range_par = [texascoldwavell[parameter].min(),texascoldwavell[parameter].max()]\n",
    "fig=px.scatter_mapbox(texascoldwavell, lat='lat', lon='lon', color =parameter,\n",
    "                      color_continuous_scale='jet', range_color=range_par,zoom=2.8, \n",
    "                      width=800, height=400, labels={\"phys_mae\": \"Physics MAE\"})\n",
    "fig.update_layout(mapbox_style=\"dark\", mapbox_accesstoken=mapbox_token,\n",
    "                    margin=dict(l=20, r=20, t=20, b=20))\n",
    "fig.show()\n",
    "fig.write_image(\"figs/\" + 'texascoldwave2021/' + parameter + \".png\")"
   ]
  },
  {
   "cell_type": "code",
   "execution_count": 42,
   "metadata": {},
   "outputs": [
    {
     "name": "stdout",
     "output_type": "stream",
     "text": [
      "phys mbe = -12.196632570690578\n",
      "phys mae = 12.196632570690578\n",
      "phys sd = 2.3849106751148836\n",
      "ml mbe = 2.0053543620218406\n",
      "ml sd = 1.4600818042108457\n",
      "ml mae = 2.0053543620218406\n"
     ]
    },
    {
     "data": {
      "application/vnd.plotly.v1+json": {
       "config": {
        "plotlyServerURL": "https://plot.ly"
       },
       "data": [
        {
         "hovertemplate": "lat=%{lat}<br>lon=%{lon}<br>Vayuh.ai MAE=%{marker.color}<extra></extra>",
         "lat": [
          43.25,
          43.25,
          43.25,
          45.25,
          45.25,
          45.25,
          45.25,
          45.25,
          45.25,
          43.25,
          43.25,
          43.25,
          43.25,
          43.25,
          43.25,
          45.25,
          45.25,
          45.25
         ],
         "legendgroup": "",
         "lon": [
          237.75,
          239.75,
          241.75,
          237.75,
          239.75,
          241.75,
          241.75,
          239.75,
          237.75,
          241.75,
          239.75,
          237.75,
          237.75,
          239.75,
          241.75,
          237.75,
          239.75,
          241.75
         ],
         "marker": {
          "color": [
           1.4220323469380876,
           2.5319580183642514,
           3.0821442382528645,
           0.49712092201272046,
           2.425218729223161,
           2.0736519173399572,
           2.0736519173399572,
           2.425218729223161,
           0.49712092201272046,
           3.0821442382528645,
           2.5319580183642514,
           1.4220323469380876,
           1.4220323469380876,
           2.5319580183642514,
           3.0821442382528645,
           0.49712092201272046,
           2.425218729223161,
           2.0736519173399572
          ],
          "coloraxis": "coloraxis"
         },
         "mode": "markers",
         "name": "",
         "showlegend": false,
         "subplot": "mapbox",
         "type": "scattermapbox"
        }
       ],
       "layout": {
        "coloraxis": {
         "cmax": 15,
         "cmin": 0,
         "colorbar": {
          "title": {
           "text": "Vayuh.ai MAE"
          }
         },
         "colorscale": [
          [
           0,
           "rgb(0,0,131)"
          ],
          [
           0.2,
           "rgb(0,60,170)"
          ],
          [
           0.4,
           "rgb(5,255,255)"
          ],
          [
           0.6,
           "rgb(255,255,0)"
          ],
          [
           0.8,
           "rgb(250,0,0)"
          ],
          [
           1,
           "rgb(128,0,0)"
          ]
         ]
        },
        "height": 400,
        "legend": {
         "tracegroupgap": 0
        },
        "mapbox": {
         "accesstoken": "pk.eyJ1IjoibXVra2F2aWxsaSIsImEiOiJja3JoOG1yYm02ZWRrMnBtZmc3cTlycHQwIn0.OOg5KGUGMDM-t7vf3ez1FQ",
         "center": {
          "lat": 44.25,
          "lon": 239.75
         },
         "domain": {
          "x": [
           0,
           1
          ],
          "y": [
           0,
           1
          ]
         },
         "style": "dark",
         "zoom": 2.8
        },
        "margin": {
         "b": 20,
         "l": 20,
         "r": 20,
         "t": 20
        },
        "template": {
         "data": {
          "bar": [
           {
            "error_x": {
             "color": "#2a3f5f"
            },
            "error_y": {
             "color": "#2a3f5f"
            },
            "marker": {
             "line": {
              "color": "#E5ECF6",
              "width": 0.5
             },
             "pattern": {
              "fillmode": "overlay",
              "size": 10,
              "solidity": 0.2
             }
            },
            "type": "bar"
           }
          ],
          "barpolar": [
           {
            "marker": {
             "line": {
              "color": "#E5ECF6",
              "width": 0.5
             },
             "pattern": {
              "fillmode": "overlay",
              "size": 10,
              "solidity": 0.2
             }
            },
            "type": "barpolar"
           }
          ],
          "carpet": [
           {
            "aaxis": {
             "endlinecolor": "#2a3f5f",
             "gridcolor": "white",
             "linecolor": "white",
             "minorgridcolor": "white",
             "startlinecolor": "#2a3f5f"
            },
            "baxis": {
             "endlinecolor": "#2a3f5f",
             "gridcolor": "white",
             "linecolor": "white",
             "minorgridcolor": "white",
             "startlinecolor": "#2a3f5f"
            },
            "type": "carpet"
           }
          ],
          "choropleth": [
           {
            "colorbar": {
             "outlinewidth": 0,
             "ticks": ""
            },
            "type": "choropleth"
           }
          ],
          "contour": [
           {
            "colorbar": {
             "outlinewidth": 0,
             "ticks": ""
            },
            "colorscale": [
             [
              0,
              "#0d0887"
             ],
             [
              0.1111111111111111,
              "#46039f"
             ],
             [
              0.2222222222222222,
              "#7201a8"
             ],
             [
              0.3333333333333333,
              "#9c179e"
             ],
             [
              0.4444444444444444,
              "#bd3786"
             ],
             [
              0.5555555555555556,
              "#d8576b"
             ],
             [
              0.6666666666666666,
              "#ed7953"
             ],
             [
              0.7777777777777778,
              "#fb9f3a"
             ],
             [
              0.8888888888888888,
              "#fdca26"
             ],
             [
              1,
              "#f0f921"
             ]
            ],
            "type": "contour"
           }
          ],
          "contourcarpet": [
           {
            "colorbar": {
             "outlinewidth": 0,
             "ticks": ""
            },
            "type": "contourcarpet"
           }
          ],
          "heatmap": [
           {
            "colorbar": {
             "outlinewidth": 0,
             "ticks": ""
            },
            "colorscale": [
             [
              0,
              "#0d0887"
             ],
             [
              0.1111111111111111,
              "#46039f"
             ],
             [
              0.2222222222222222,
              "#7201a8"
             ],
             [
              0.3333333333333333,
              "#9c179e"
             ],
             [
              0.4444444444444444,
              "#bd3786"
             ],
             [
              0.5555555555555556,
              "#d8576b"
             ],
             [
              0.6666666666666666,
              "#ed7953"
             ],
             [
              0.7777777777777778,
              "#fb9f3a"
             ],
             [
              0.8888888888888888,
              "#fdca26"
             ],
             [
              1,
              "#f0f921"
             ]
            ],
            "type": "heatmap"
           }
          ],
          "heatmapgl": [
           {
            "colorbar": {
             "outlinewidth": 0,
             "ticks": ""
            },
            "colorscale": [
             [
              0,
              "#0d0887"
             ],
             [
              0.1111111111111111,
              "#46039f"
             ],
             [
              0.2222222222222222,
              "#7201a8"
             ],
             [
              0.3333333333333333,
              "#9c179e"
             ],
             [
              0.4444444444444444,
              "#bd3786"
             ],
             [
              0.5555555555555556,
              "#d8576b"
             ],
             [
              0.6666666666666666,
              "#ed7953"
             ],
             [
              0.7777777777777778,
              "#fb9f3a"
             ],
             [
              0.8888888888888888,
              "#fdca26"
             ],
             [
              1,
              "#f0f921"
             ]
            ],
            "type": "heatmapgl"
           }
          ],
          "histogram": [
           {
            "marker": {
             "pattern": {
              "fillmode": "overlay",
              "size": 10,
              "solidity": 0.2
             }
            },
            "type": "histogram"
           }
          ],
          "histogram2d": [
           {
            "colorbar": {
             "outlinewidth": 0,
             "ticks": ""
            },
            "colorscale": [
             [
              0,
              "#0d0887"
             ],
             [
              0.1111111111111111,
              "#46039f"
             ],
             [
              0.2222222222222222,
              "#7201a8"
             ],
             [
              0.3333333333333333,
              "#9c179e"
             ],
             [
              0.4444444444444444,
              "#bd3786"
             ],
             [
              0.5555555555555556,
              "#d8576b"
             ],
             [
              0.6666666666666666,
              "#ed7953"
             ],
             [
              0.7777777777777778,
              "#fb9f3a"
             ],
             [
              0.8888888888888888,
              "#fdca26"
             ],
             [
              1,
              "#f0f921"
             ]
            ],
            "type": "histogram2d"
           }
          ],
          "histogram2dcontour": [
           {
            "colorbar": {
             "outlinewidth": 0,
             "ticks": ""
            },
            "colorscale": [
             [
              0,
              "#0d0887"
             ],
             [
              0.1111111111111111,
              "#46039f"
             ],
             [
              0.2222222222222222,
              "#7201a8"
             ],
             [
              0.3333333333333333,
              "#9c179e"
             ],
             [
              0.4444444444444444,
              "#bd3786"
             ],
             [
              0.5555555555555556,
              "#d8576b"
             ],
             [
              0.6666666666666666,
              "#ed7953"
             ],
             [
              0.7777777777777778,
              "#fb9f3a"
             ],
             [
              0.8888888888888888,
              "#fdca26"
             ],
             [
              1,
              "#f0f921"
             ]
            ],
            "type": "histogram2dcontour"
           }
          ],
          "mesh3d": [
           {
            "colorbar": {
             "outlinewidth": 0,
             "ticks": ""
            },
            "type": "mesh3d"
           }
          ],
          "parcoords": [
           {
            "line": {
             "colorbar": {
              "outlinewidth": 0,
              "ticks": ""
             }
            },
            "type": "parcoords"
           }
          ],
          "pie": [
           {
            "automargin": true,
            "type": "pie"
           }
          ],
          "scatter": [
           {
            "marker": {
             "colorbar": {
              "outlinewidth": 0,
              "ticks": ""
             }
            },
            "type": "scatter"
           }
          ],
          "scatter3d": [
           {
            "line": {
             "colorbar": {
              "outlinewidth": 0,
              "ticks": ""
             }
            },
            "marker": {
             "colorbar": {
              "outlinewidth": 0,
              "ticks": ""
             }
            },
            "type": "scatter3d"
           }
          ],
          "scattercarpet": [
           {
            "marker": {
             "colorbar": {
              "outlinewidth": 0,
              "ticks": ""
             }
            },
            "type": "scattercarpet"
           }
          ],
          "scattergeo": [
           {
            "marker": {
             "colorbar": {
              "outlinewidth": 0,
              "ticks": ""
             }
            },
            "type": "scattergeo"
           }
          ],
          "scattergl": [
           {
            "marker": {
             "colorbar": {
              "outlinewidth": 0,
              "ticks": ""
             }
            },
            "type": "scattergl"
           }
          ],
          "scattermapbox": [
           {
            "marker": {
             "colorbar": {
              "outlinewidth": 0,
              "ticks": ""
             }
            },
            "type": "scattermapbox"
           }
          ],
          "scatterpolar": [
           {
            "marker": {
             "colorbar": {
              "outlinewidth": 0,
              "ticks": ""
             }
            },
            "type": "scatterpolar"
           }
          ],
          "scatterpolargl": [
           {
            "marker": {
             "colorbar": {
              "outlinewidth": 0,
              "ticks": ""
             }
            },
            "type": "scatterpolargl"
           }
          ],
          "scatterternary": [
           {
            "marker": {
             "colorbar": {
              "outlinewidth": 0,
              "ticks": ""
             }
            },
            "type": "scatterternary"
           }
          ],
          "surface": [
           {
            "colorbar": {
             "outlinewidth": 0,
             "ticks": ""
            },
            "colorscale": [
             [
              0,
              "#0d0887"
             ],
             [
              0.1111111111111111,
              "#46039f"
             ],
             [
              0.2222222222222222,
              "#7201a8"
             ],
             [
              0.3333333333333333,
              "#9c179e"
             ],
             [
              0.4444444444444444,
              "#bd3786"
             ],
             [
              0.5555555555555556,
              "#d8576b"
             ],
             [
              0.6666666666666666,
              "#ed7953"
             ],
             [
              0.7777777777777778,
              "#fb9f3a"
             ],
             [
              0.8888888888888888,
              "#fdca26"
             ],
             [
              1,
              "#f0f921"
             ]
            ],
            "type": "surface"
           }
          ],
          "table": [
           {
            "cells": {
             "fill": {
              "color": "#EBF0F8"
             },
             "line": {
              "color": "white"
             }
            },
            "header": {
             "fill": {
              "color": "#C8D4E3"
             },
             "line": {
              "color": "white"
             }
            },
            "type": "table"
           }
          ]
         },
         "layout": {
          "annotationdefaults": {
           "arrowcolor": "#2a3f5f",
           "arrowhead": 0,
           "arrowwidth": 1
          },
          "autotypenumbers": "strict",
          "coloraxis": {
           "colorbar": {
            "outlinewidth": 0,
            "ticks": ""
           }
          },
          "colorscale": {
           "diverging": [
            [
             0,
             "#8e0152"
            ],
            [
             0.1,
             "#c51b7d"
            ],
            [
             0.2,
             "#de77ae"
            ],
            [
             0.3,
             "#f1b6da"
            ],
            [
             0.4,
             "#fde0ef"
            ],
            [
             0.5,
             "#f7f7f7"
            ],
            [
             0.6,
             "#e6f5d0"
            ],
            [
             0.7,
             "#b8e186"
            ],
            [
             0.8,
             "#7fbc41"
            ],
            [
             0.9,
             "#4d9221"
            ],
            [
             1,
             "#276419"
            ]
           ],
           "sequential": [
            [
             0,
             "#0d0887"
            ],
            [
             0.1111111111111111,
             "#46039f"
            ],
            [
             0.2222222222222222,
             "#7201a8"
            ],
            [
             0.3333333333333333,
             "#9c179e"
            ],
            [
             0.4444444444444444,
             "#bd3786"
            ],
            [
             0.5555555555555556,
             "#d8576b"
            ],
            [
             0.6666666666666666,
             "#ed7953"
            ],
            [
             0.7777777777777778,
             "#fb9f3a"
            ],
            [
             0.8888888888888888,
             "#fdca26"
            ],
            [
             1,
             "#f0f921"
            ]
           ],
           "sequentialminus": [
            [
             0,
             "#0d0887"
            ],
            [
             0.1111111111111111,
             "#46039f"
            ],
            [
             0.2222222222222222,
             "#7201a8"
            ],
            [
             0.3333333333333333,
             "#9c179e"
            ],
            [
             0.4444444444444444,
             "#bd3786"
            ],
            [
             0.5555555555555556,
             "#d8576b"
            ],
            [
             0.6666666666666666,
             "#ed7953"
            ],
            [
             0.7777777777777778,
             "#fb9f3a"
            ],
            [
             0.8888888888888888,
             "#fdca26"
            ],
            [
             1,
             "#f0f921"
            ]
           ]
          },
          "colorway": [
           "#636efa",
           "#EF553B",
           "#00cc96",
           "#ab63fa",
           "#FFA15A",
           "#19d3f3",
           "#FF6692",
           "#B6E880",
           "#FF97FF",
           "#FECB52"
          ],
          "font": {
           "color": "#2a3f5f"
          },
          "geo": {
           "bgcolor": "white",
           "lakecolor": "white",
           "landcolor": "#E5ECF6",
           "showlakes": true,
           "showland": true,
           "subunitcolor": "white"
          },
          "hoverlabel": {
           "align": "left"
          },
          "hovermode": "closest",
          "mapbox": {
           "style": "light"
          },
          "paper_bgcolor": "white",
          "plot_bgcolor": "#E5ECF6",
          "polar": {
           "angularaxis": {
            "gridcolor": "white",
            "linecolor": "white",
            "ticks": ""
           },
           "bgcolor": "#E5ECF6",
           "radialaxis": {
            "gridcolor": "white",
            "linecolor": "white",
            "ticks": ""
           }
          },
          "scene": {
           "xaxis": {
            "backgroundcolor": "#E5ECF6",
            "gridcolor": "white",
            "gridwidth": 2,
            "linecolor": "white",
            "showbackground": true,
            "ticks": "",
            "zerolinecolor": "white"
           },
           "yaxis": {
            "backgroundcolor": "#E5ECF6",
            "gridcolor": "white",
            "gridwidth": 2,
            "linecolor": "white",
            "showbackground": true,
            "ticks": "",
            "zerolinecolor": "white"
           },
           "zaxis": {
            "backgroundcolor": "#E5ECF6",
            "gridcolor": "white",
            "gridwidth": 2,
            "linecolor": "white",
            "showbackground": true,
            "ticks": "",
            "zerolinecolor": "white"
           }
          },
          "shapedefaults": {
           "line": {
            "color": "#2a3f5f"
           }
          },
          "ternary": {
           "aaxis": {
            "gridcolor": "white",
            "linecolor": "white",
            "ticks": ""
           },
           "baxis": {
            "gridcolor": "white",
            "linecolor": "white",
            "ticks": ""
           },
           "bgcolor": "#E5ECF6",
           "caxis": {
            "gridcolor": "white",
            "linecolor": "white",
            "ticks": ""
           }
          },
          "title": {
           "x": 0.05
          },
          "xaxis": {
           "automargin": true,
           "gridcolor": "white",
           "linecolor": "white",
           "ticks": "",
           "title": {
            "standoff": 15
           },
           "zerolinecolor": "white",
           "zerolinewidth": 2
          },
          "yaxis": {
           "automargin": true,
           "gridcolor": "white",
           "linecolor": "white",
           "ticks": "",
           "title": {
            "standoff": 15
           },
           "zerolinecolor": "white",
           "zerolinewidth": 2
          }
         }
        },
        "width": 800
       }
      }
     },
     "metadata": {},
     "output_type": "display_data"
    }
   ],
   "source": [
    "#P7 - By extreme events: Oregon heat wave (28 Jun to 15 Jul 2021) (14 day differences)\n",
    "oregonheatwave = df[(df['start_date']>='2021-06-14') & (df['start_date']<='2021-07-01')]\n",
    "oregonlatlon = ['45.25|237.75', '45.25|239.75', '45.25|241.75', '43.25|237.75', '43.25|239.75', '43.25|241.75']\n",
    "oregonheatwave = oregonheatwave[oregonheatwave['latlon'].isin(oregonlatlon)]\n",
    "oregonheatwave = oregonheatwave.sort_values(by=\"start_date\")\n",
    "oregonheatwave\n",
    "\n",
    "#High level stats\n",
    "phys_mbe = oregonheatwave['phys_err'].mean()\n",
    "print('phys mbe = ' + str(phys_mbe))\n",
    "phys_mae = oregonheatwave['phys_err'].abs().mean()\n",
    "print('phys mae = ' + str(phys_mae))\n",
    "phys_sd = oregonheatwave['phys_err'].std()\n",
    "print('phys sd = ' + str(phys_sd))\n",
    "ml_mbe = oregonheatwave['err'].mean()\n",
    "print('ml mbe = ' + str(ml_mbe))\n",
    "ml_sd = oregonheatwave['err'].std()\n",
    "print('ml sd = ' + str(ml_sd))\n",
    "ml_mae = oregonheatwave['err'].abs().mean()\n",
    "print('ml mae = ' + str(ml_mae))\n",
    "\n",
    "#Reduce by lat lon\n",
    "oregonheatwave_latlon = oregonheatwave.latlon.unique()\n",
    "oregonheatwavell = pd.DataFrame(oregonheatwave, columns = ['latlon'])\n",
    "oregonheatwavell['ml_mbe'] = \"\"; oregonheatwavell['ml_mae'] = \"\"; oregonheatwavell['ml_sd'] = \"\"\n",
    "oregonheatwavell['phys_mbe'] = \"\"; oregonheatwavell['phys_mae'] = \"\"; oregonheatwavell['phys_sd'] = \"\"\n",
    "\n",
    "for ind, row in oregonheatwavell.iterrows():\n",
    "    ll = row['latlon']\n",
    "    oregonheatwave_subset = oregonheatwave[oregonheatwave['latlon']==ll]\n",
    "\n",
    "    ml_mbe = oregonheatwave_subset['err'].mean()\n",
    "    ml_mae = oregonheatwave_subset['err'].abs().mean()\n",
    "    ml_sd = oregonheatwave_subset['err'].std()\n",
    "    oregonheatwavell.loc[oregonheatwavell['latlon']==ll,'ml_mbe'] = ml_mbe\n",
    "    oregonheatwavell.loc[oregonheatwavell['latlon']==ll,'ml_mae'] = ml_mae\n",
    "    oregonheatwavell.loc[oregonheatwavell['latlon']==ll,'ml_sd'] = ml_sd    \n",
    "    phys_mbe = oregonheatwave_subset['phys_err'].mean()\n",
    "    phys_mae = oregonheatwave_subset['phys_err'].abs().mean()\n",
    "    phys_sd = oregonheatwave_subset['phys_err'].std()\n",
    "    oregonheatwavell.loc[oregonheatwavell['latlon']==ll,'phys_mbe'] = phys_mbe\n",
    "    oregonheatwavell.loc[oregonheatwavell['latlon']==ll,'phys_mae'] = phys_mae\n",
    "    oregonheatwavell.loc[oregonheatwavell['latlon']==ll,'phys_sd'] = phys_sd\n",
    "oregonheatwavell['lat'] = oregonheatwavell['latlon'].str.split('|').str[0].astype(float)\n",
    "oregonheatwavell['lon'] = oregonheatwavell['latlon'].str.split('|').str[1].astype(float)\n",
    "oregonheatwavell['ml_outperforms'] = oregonheatwavell['ml_mae'] < oregonheatwavell['phys_mae']\n",
    "oregonheatwavell['phys_outperforms'] = oregonheatwavell['phys_mae'] < oregonheatwavell['ml_mae']\n",
    "oregonheatwavell['ml_mbe'] = oregonheatwavell['ml_mbe'].astype(float); oregonheatwavell['ml_mae'] = oregonheatwavell['ml_mae'].astype(float); oregonheatwavell['ml_sd'] = oregonheatwavell['ml_sd'].astype(float)\n",
    "oregonheatwavell['phys_mbe'] = oregonheatwavell['phys_mbe'].astype(float); oregonheatwavell['phys_mae'] = oregonheatwavell['phys_mae'].astype(float); oregonheatwavell['phys_sd'] = oregonheatwavell['phys_sd'].astype(float)\n",
    "oregonheatwavell\n",
    "\n",
    "#Plot\n",
    "parameter = 'ml_mae'\n",
    "range_par = [0,15]\n",
    "#range_par = [oregonheatwavell[parameter].min(),oregonheatwavell[parameter].max()]\n",
    "fig=px.scatter_mapbox(oregonheatwavell, lat='lat', lon='lon', color =parameter,\n",
    "                      color_continuous_scale='jet', range_color=range_par,zoom=2.8, \n",
    "                      width=800, height=400, labels={\"ml_mae\": \"Vayuh.ai MAE\"})\n",
    "fig.update_layout(mapbox_style=\"dark\", mapbox_accesstoken=mapbox_token,\n",
    "                    margin=dict(l=20, r=20, t=20, b=20))\n",
    "fig.show()\n",
    "fig.write_image(\"figs/\" + 'oregonheatwave2021/' + parameter + \".png\")"
   ]
  },
  {
   "cell_type": "code",
   "execution_count": 38,
   "metadata": {},
   "outputs": [
    {
     "name": "stdout",
     "output_type": "stream",
     "text": [
      "(47, 14)\n",
      "phys mbe = -15.28161356296945\n",
      "phys mae = 15.28161356296945\n",
      "phys sd = 6.699463002248057\n",
      "ml mbe = 1.5248046085231703\n",
      "ml sd = 0.9204587202311445\n",
      "ml mae = 1.5248046085231703\n"
     ]
    },
    {
     "data": {
      "application/vnd.plotly.v1+json": {
       "config": {
        "plotlyServerURL": "https://plot.ly"
       },
       "data": [
        {
         "hovertemplate": "lat=%{lat}<br>lon=%{lon}<br>Physics MAE=%{marker.color}<extra></extra>",
         "lat": [
          33.25,
          33.25,
          33.25,
          33.25,
          35.25,
          33.25,
          33.25,
          33.25,
          33.25,
          33.25,
          33.25,
          33.25,
          33.25,
          33.25,
          33.25,
          33.25,
          33.25,
          33.25,
          33.25,
          33.25,
          33.25,
          33.25,
          33.25,
          33.25,
          33.25,
          33.25,
          33.25,
          35.25,
          33.25,
          33.25,
          33.25,
          33.25,
          35.25,
          33.25,
          33.25,
          35.25,
          33.25,
          35.25,
          33.25,
          33.25,
          33.25,
          33.25,
          33.25,
          33.25,
          33.25,
          33.25,
          35.25
         ],
         "legendgroup": "",
         "lon": [
          245.75,
          247.75,
          245.75,
          247.75,
          243.75,
          245.75,
          247.75,
          247.75,
          247.75,
          247.75,
          247.75,
          247.75,
          245.75,
          247.75,
          247.75,
          245.75,
          247.75,
          245.75,
          247.75,
          245.75,
          247.75,
          245.75,
          247.75,
          247.75,
          247.75,
          245.75,
          247.75,
          243.75,
          245.75,
          247.75,
          245.75,
          247.75,
          243.75,
          245.75,
          247.75,
          243.75,
          245.75,
          243.75,
          245.75,
          247.75,
          245.75,
          247.75,
          245.75,
          247.75,
          245.75,
          247.75,
          243.75
         ],
         "marker": {
          "color": [
           14.727979379541734,
           15.311835845311483,
           14.727979379541734,
           15.311835845311483,
           16.72935461997986,
           14.727979379541734,
           15.311835845311483,
           15.311835845311483,
           15.311835845311483,
           15.311835845311483,
           15.311835845311483,
           15.311835845311483,
           14.727979379541734,
           15.311835845311483,
           15.311835845311483,
           14.727979379541734,
           15.311835845311483,
           14.727979379541734,
           15.311835845311483,
           14.727979379541734,
           15.311835845311483,
           14.727979379541734,
           15.311835845311483,
           15.311835845311483,
           15.311835845311483,
           14.727979379541734,
           15.311835845311483,
           16.72935461997986,
           14.727979379541734,
           15.311835845311483,
           14.727979379541734,
           15.311835845311483,
           16.72935461997986,
           14.727979379541734,
           15.311835845311483,
           16.72935461997986,
           14.727979379541734,
           16.72935461997986,
           14.727979379541734,
           15.311835845311483,
           14.727979379541734,
           15.311835845311483,
           14.727979379541734,
           15.311835845311483,
           14.727979379541734,
           15.311835845311483,
           16.72935461997986
          ],
          "coloraxis": "coloraxis"
         },
         "mode": "markers",
         "name": "",
         "showlegend": false,
         "subplot": "mapbox",
         "type": "scattermapbox"
        }
       ],
       "layout": {
        "coloraxis": {
         "cmax": 15,
         "cmin": 0,
         "colorbar": {
          "title": {
           "text": "Physics MAE"
          }
         },
         "colorscale": [
          [
           0,
           "rgb(0,0,131)"
          ],
          [
           0.2,
           "rgb(0,60,170)"
          ],
          [
           0.4,
           "rgb(5,255,255)"
          ],
          [
           0.6,
           "rgb(255,255,0)"
          ],
          [
           0.8,
           "rgb(250,0,0)"
          ],
          [
           1,
           "rgb(128,0,0)"
          ]
         ]
        },
        "height": 400,
        "legend": {
         "tracegroupgap": 0
        },
        "mapbox": {
         "accesstoken": "pk.eyJ1IjoibXVra2F2aWxsaSIsImEiOiJja3JoOG1yYm02ZWRrMnBtZmc3cTlycHQwIn0.OOg5KGUGMDM-t7vf3ez1FQ",
         "center": {
          "lat": 33.505319148936174,
          "lon": 246.5159574468085
         },
         "domain": {
          "x": [
           0,
           1
          ],
          "y": [
           0,
           1
          ]
         },
         "style": "dark",
         "zoom": 4
        },
        "margin": {
         "b": 20,
         "l": 20,
         "r": 20,
         "t": 20
        },
        "template": {
         "data": {
          "bar": [
           {
            "error_x": {
             "color": "#2a3f5f"
            },
            "error_y": {
             "color": "#2a3f5f"
            },
            "marker": {
             "line": {
              "color": "#E5ECF6",
              "width": 0.5
             },
             "pattern": {
              "fillmode": "overlay",
              "size": 10,
              "solidity": 0.2
             }
            },
            "type": "bar"
           }
          ],
          "barpolar": [
           {
            "marker": {
             "line": {
              "color": "#E5ECF6",
              "width": 0.5
             },
             "pattern": {
              "fillmode": "overlay",
              "size": 10,
              "solidity": 0.2
             }
            },
            "type": "barpolar"
           }
          ],
          "carpet": [
           {
            "aaxis": {
             "endlinecolor": "#2a3f5f",
             "gridcolor": "white",
             "linecolor": "white",
             "minorgridcolor": "white",
             "startlinecolor": "#2a3f5f"
            },
            "baxis": {
             "endlinecolor": "#2a3f5f",
             "gridcolor": "white",
             "linecolor": "white",
             "minorgridcolor": "white",
             "startlinecolor": "#2a3f5f"
            },
            "type": "carpet"
           }
          ],
          "choropleth": [
           {
            "colorbar": {
             "outlinewidth": 0,
             "ticks": ""
            },
            "type": "choropleth"
           }
          ],
          "contour": [
           {
            "colorbar": {
             "outlinewidth": 0,
             "ticks": ""
            },
            "colorscale": [
             [
              0,
              "#0d0887"
             ],
             [
              0.1111111111111111,
              "#46039f"
             ],
             [
              0.2222222222222222,
              "#7201a8"
             ],
             [
              0.3333333333333333,
              "#9c179e"
             ],
             [
              0.4444444444444444,
              "#bd3786"
             ],
             [
              0.5555555555555556,
              "#d8576b"
             ],
             [
              0.6666666666666666,
              "#ed7953"
             ],
             [
              0.7777777777777778,
              "#fb9f3a"
             ],
             [
              0.8888888888888888,
              "#fdca26"
             ],
             [
              1,
              "#f0f921"
             ]
            ],
            "type": "contour"
           }
          ],
          "contourcarpet": [
           {
            "colorbar": {
             "outlinewidth": 0,
             "ticks": ""
            },
            "type": "contourcarpet"
           }
          ],
          "heatmap": [
           {
            "colorbar": {
             "outlinewidth": 0,
             "ticks": ""
            },
            "colorscale": [
             [
              0,
              "#0d0887"
             ],
             [
              0.1111111111111111,
              "#46039f"
             ],
             [
              0.2222222222222222,
              "#7201a8"
             ],
             [
              0.3333333333333333,
              "#9c179e"
             ],
             [
              0.4444444444444444,
              "#bd3786"
             ],
             [
              0.5555555555555556,
              "#d8576b"
             ],
             [
              0.6666666666666666,
              "#ed7953"
             ],
             [
              0.7777777777777778,
              "#fb9f3a"
             ],
             [
              0.8888888888888888,
              "#fdca26"
             ],
             [
              1,
              "#f0f921"
             ]
            ],
            "type": "heatmap"
           }
          ],
          "heatmapgl": [
           {
            "colorbar": {
             "outlinewidth": 0,
             "ticks": ""
            },
            "colorscale": [
             [
              0,
              "#0d0887"
             ],
             [
              0.1111111111111111,
              "#46039f"
             ],
             [
              0.2222222222222222,
              "#7201a8"
             ],
             [
              0.3333333333333333,
              "#9c179e"
             ],
             [
              0.4444444444444444,
              "#bd3786"
             ],
             [
              0.5555555555555556,
              "#d8576b"
             ],
             [
              0.6666666666666666,
              "#ed7953"
             ],
             [
              0.7777777777777778,
              "#fb9f3a"
             ],
             [
              0.8888888888888888,
              "#fdca26"
             ],
             [
              1,
              "#f0f921"
             ]
            ],
            "type": "heatmapgl"
           }
          ],
          "histogram": [
           {
            "marker": {
             "pattern": {
              "fillmode": "overlay",
              "size": 10,
              "solidity": 0.2
             }
            },
            "type": "histogram"
           }
          ],
          "histogram2d": [
           {
            "colorbar": {
             "outlinewidth": 0,
             "ticks": ""
            },
            "colorscale": [
             [
              0,
              "#0d0887"
             ],
             [
              0.1111111111111111,
              "#46039f"
             ],
             [
              0.2222222222222222,
              "#7201a8"
             ],
             [
              0.3333333333333333,
              "#9c179e"
             ],
             [
              0.4444444444444444,
              "#bd3786"
             ],
             [
              0.5555555555555556,
              "#d8576b"
             ],
             [
              0.6666666666666666,
              "#ed7953"
             ],
             [
              0.7777777777777778,
              "#fb9f3a"
             ],
             [
              0.8888888888888888,
              "#fdca26"
             ],
             [
              1,
              "#f0f921"
             ]
            ],
            "type": "histogram2d"
           }
          ],
          "histogram2dcontour": [
           {
            "colorbar": {
             "outlinewidth": 0,
             "ticks": ""
            },
            "colorscale": [
             [
              0,
              "#0d0887"
             ],
             [
              0.1111111111111111,
              "#46039f"
             ],
             [
              0.2222222222222222,
              "#7201a8"
             ],
             [
              0.3333333333333333,
              "#9c179e"
             ],
             [
              0.4444444444444444,
              "#bd3786"
             ],
             [
              0.5555555555555556,
              "#d8576b"
             ],
             [
              0.6666666666666666,
              "#ed7953"
             ],
             [
              0.7777777777777778,
              "#fb9f3a"
             ],
             [
              0.8888888888888888,
              "#fdca26"
             ],
             [
              1,
              "#f0f921"
             ]
            ],
            "type": "histogram2dcontour"
           }
          ],
          "mesh3d": [
           {
            "colorbar": {
             "outlinewidth": 0,
             "ticks": ""
            },
            "type": "mesh3d"
           }
          ],
          "parcoords": [
           {
            "line": {
             "colorbar": {
              "outlinewidth": 0,
              "ticks": ""
             }
            },
            "type": "parcoords"
           }
          ],
          "pie": [
           {
            "automargin": true,
            "type": "pie"
           }
          ],
          "scatter": [
           {
            "marker": {
             "colorbar": {
              "outlinewidth": 0,
              "ticks": ""
             }
            },
            "type": "scatter"
           }
          ],
          "scatter3d": [
           {
            "line": {
             "colorbar": {
              "outlinewidth": 0,
              "ticks": ""
             }
            },
            "marker": {
             "colorbar": {
              "outlinewidth": 0,
              "ticks": ""
             }
            },
            "type": "scatter3d"
           }
          ],
          "scattercarpet": [
           {
            "marker": {
             "colorbar": {
              "outlinewidth": 0,
              "ticks": ""
             }
            },
            "type": "scattercarpet"
           }
          ],
          "scattergeo": [
           {
            "marker": {
             "colorbar": {
              "outlinewidth": 0,
              "ticks": ""
             }
            },
            "type": "scattergeo"
           }
          ],
          "scattergl": [
           {
            "marker": {
             "colorbar": {
              "outlinewidth": 0,
              "ticks": ""
             }
            },
            "type": "scattergl"
           }
          ],
          "scattermapbox": [
           {
            "marker": {
             "colorbar": {
              "outlinewidth": 0,
              "ticks": ""
             }
            },
            "type": "scattermapbox"
           }
          ],
          "scatterpolar": [
           {
            "marker": {
             "colorbar": {
              "outlinewidth": 0,
              "ticks": ""
             }
            },
            "type": "scatterpolar"
           }
          ],
          "scatterpolargl": [
           {
            "marker": {
             "colorbar": {
              "outlinewidth": 0,
              "ticks": ""
             }
            },
            "type": "scatterpolargl"
           }
          ],
          "scatterternary": [
           {
            "marker": {
             "colorbar": {
              "outlinewidth": 0,
              "ticks": ""
             }
            },
            "type": "scatterternary"
           }
          ],
          "surface": [
           {
            "colorbar": {
             "outlinewidth": 0,
             "ticks": ""
            },
            "colorscale": [
             [
              0,
              "#0d0887"
             ],
             [
              0.1111111111111111,
              "#46039f"
             ],
             [
              0.2222222222222222,
              "#7201a8"
             ],
             [
              0.3333333333333333,
              "#9c179e"
             ],
             [
              0.4444444444444444,
              "#bd3786"
             ],
             [
              0.5555555555555556,
              "#d8576b"
             ],
             [
              0.6666666666666666,
              "#ed7953"
             ],
             [
              0.7777777777777778,
              "#fb9f3a"
             ],
             [
              0.8888888888888888,
              "#fdca26"
             ],
             [
              1,
              "#f0f921"
             ]
            ],
            "type": "surface"
           }
          ],
          "table": [
           {
            "cells": {
             "fill": {
              "color": "#EBF0F8"
             },
             "line": {
              "color": "white"
             }
            },
            "header": {
             "fill": {
              "color": "#C8D4E3"
             },
             "line": {
              "color": "white"
             }
            },
            "type": "table"
           }
          ]
         },
         "layout": {
          "annotationdefaults": {
           "arrowcolor": "#2a3f5f",
           "arrowhead": 0,
           "arrowwidth": 1
          },
          "autotypenumbers": "strict",
          "coloraxis": {
           "colorbar": {
            "outlinewidth": 0,
            "ticks": ""
           }
          },
          "colorscale": {
           "diverging": [
            [
             0,
             "#8e0152"
            ],
            [
             0.1,
             "#c51b7d"
            ],
            [
             0.2,
             "#de77ae"
            ],
            [
             0.3,
             "#f1b6da"
            ],
            [
             0.4,
             "#fde0ef"
            ],
            [
             0.5,
             "#f7f7f7"
            ],
            [
             0.6,
             "#e6f5d0"
            ],
            [
             0.7,
             "#b8e186"
            ],
            [
             0.8,
             "#7fbc41"
            ],
            [
             0.9,
             "#4d9221"
            ],
            [
             1,
             "#276419"
            ]
           ],
           "sequential": [
            [
             0,
             "#0d0887"
            ],
            [
             0.1111111111111111,
             "#46039f"
            ],
            [
             0.2222222222222222,
             "#7201a8"
            ],
            [
             0.3333333333333333,
             "#9c179e"
            ],
            [
             0.4444444444444444,
             "#bd3786"
            ],
            [
             0.5555555555555556,
             "#d8576b"
            ],
            [
             0.6666666666666666,
             "#ed7953"
            ],
            [
             0.7777777777777778,
             "#fb9f3a"
            ],
            [
             0.8888888888888888,
             "#fdca26"
            ],
            [
             1,
             "#f0f921"
            ]
           ],
           "sequentialminus": [
            [
             0,
             "#0d0887"
            ],
            [
             0.1111111111111111,
             "#46039f"
            ],
            [
             0.2222222222222222,
             "#7201a8"
            ],
            [
             0.3333333333333333,
             "#9c179e"
            ],
            [
             0.4444444444444444,
             "#bd3786"
            ],
            [
             0.5555555555555556,
             "#d8576b"
            ],
            [
             0.6666666666666666,
             "#ed7953"
            ],
            [
             0.7777777777777778,
             "#fb9f3a"
            ],
            [
             0.8888888888888888,
             "#fdca26"
            ],
            [
             1,
             "#f0f921"
            ]
           ]
          },
          "colorway": [
           "#636efa",
           "#EF553B",
           "#00cc96",
           "#ab63fa",
           "#FFA15A",
           "#19d3f3",
           "#FF6692",
           "#B6E880",
           "#FF97FF",
           "#FECB52"
          ],
          "font": {
           "color": "#2a3f5f"
          },
          "geo": {
           "bgcolor": "white",
           "lakecolor": "white",
           "landcolor": "#E5ECF6",
           "showlakes": true,
           "showland": true,
           "subunitcolor": "white"
          },
          "hoverlabel": {
           "align": "left"
          },
          "hovermode": "closest",
          "mapbox": {
           "style": "light"
          },
          "paper_bgcolor": "white",
          "plot_bgcolor": "#E5ECF6",
          "polar": {
           "angularaxis": {
            "gridcolor": "white",
            "linecolor": "white",
            "ticks": ""
           },
           "bgcolor": "#E5ECF6",
           "radialaxis": {
            "gridcolor": "white",
            "linecolor": "white",
            "ticks": ""
           }
          },
          "scene": {
           "xaxis": {
            "backgroundcolor": "#E5ECF6",
            "gridcolor": "white",
            "gridwidth": 2,
            "linecolor": "white",
            "showbackground": true,
            "ticks": "",
            "zerolinecolor": "white"
           },
           "yaxis": {
            "backgroundcolor": "#E5ECF6",
            "gridcolor": "white",
            "gridwidth": 2,
            "linecolor": "white",
            "showbackground": true,
            "ticks": "",
            "zerolinecolor": "white"
           },
           "zaxis": {
            "backgroundcolor": "#E5ECF6",
            "gridcolor": "white",
            "gridwidth": 2,
            "linecolor": "white",
            "showbackground": true,
            "ticks": "",
            "zerolinecolor": "white"
           }
          },
          "shapedefaults": {
           "line": {
            "color": "#2a3f5f"
           }
          },
          "ternary": {
           "aaxis": {
            "gridcolor": "white",
            "linecolor": "white",
            "ticks": ""
           },
           "baxis": {
            "gridcolor": "white",
            "linecolor": "white",
            "ticks": ""
           },
           "bgcolor": "#E5ECF6",
           "caxis": {
            "gridcolor": "white",
            "linecolor": "white",
            "ticks": ""
           }
          },
          "title": {
           "x": 0.05
          },
          "xaxis": {
           "automargin": true,
           "gridcolor": "white",
           "linecolor": "white",
           "ticks": "",
           "title": {
            "standoff": 15
           },
           "zerolinecolor": "white",
           "zerolinewidth": 2
          },
          "yaxis": {
           "automargin": true,
           "gridcolor": "white",
           "linecolor": "white",
           "ticks": "",
           "title": {
            "standoff": 15
           },
           "zerolinecolor": "white",
           "zerolinewidth": 2
          }
         }
        },
        "width": 800
       }
      }
     },
     "metadata": {},
     "output_type": "display_data"
    }
   ],
   "source": [
    "#general performance around heatwaves\n",
    "heatwave = df[(df['tmp2m']>34)]\n",
    "print(heatwave.shape)\n",
    "#High level stats\n",
    "phys_mbe = heatwave['phys_err'].mean()\n",
    "print('phys mbe = ' + str(phys_mbe))\n",
    "phys_mae = heatwave['phys_err'].abs().mean()\n",
    "print('phys mae = ' + str(phys_mae))\n",
    "phys_sd = heatwave['phys_err'].std()\n",
    "print('phys sd = ' + str(phys_sd))\n",
    "ml_mbe = heatwave['err'].mean()\n",
    "print('ml mbe = ' + str(ml_mbe))\n",
    "ml_sd = heatwave['err'].std()\n",
    "print('ml sd = ' + str(ml_sd))\n",
    "ml_mae = heatwave['err'].abs().mean()\n",
    "print('ml mae = ' + str(ml_mae))\n",
    "\n",
    "#Reduce by lat lon\n",
    "heatwave_latlon = heatwave.latlon.unique()\n",
    "heatwavell = pd.DataFrame(heatwave, columns = ['latlon'])\n",
    "heatwavell['ml_mbe'] = \"\"; heatwavell['ml_mae'] = \"\"; heatwavell['ml_sd'] = \"\"\n",
    "heatwavell['phys_mbe'] = \"\"; heatwavell['phys_mae'] = \"\"; heatwavell['phys_sd'] = \"\"\n",
    "\n",
    "for ind, row in heatwavell.iterrows():\n",
    "    ll = row['latlon']\n",
    "    heatwave_subset = heatwave[heatwave['latlon']==ll]\n",
    "    ml_mbe = heatwave_subset['err'].mean()\n",
    "    ml_mae = heatwave_subset['err'].abs().mean()\n",
    "    ml_sd = heatwave_subset['err'].std()\n",
    "    heatwavell.loc[heatwavell['latlon']==ll,'ml_mbe'] = ml_mbe\n",
    "    heatwavell.loc[heatwavell['latlon']==ll,'ml_mae'] = ml_mae\n",
    "    heatwavell.loc[heatwavell['latlon']==ll,'ml_sd'] = ml_sd    \n",
    "    phys_mbe = heatwave_subset['phys_err'].mean()\n",
    "    phys_mae = heatwave_subset['phys_err'].abs().mean()\n",
    "    phys_sd = heatwave_subset['phys_err'].std()\n",
    "    heatwavell.loc[heatwavell['latlon']==ll,'phys_mbe'] = phys_mbe\n",
    "    heatwavell.loc[heatwavell['latlon']==ll,'phys_mae'] = phys_mae\n",
    "    heatwavell.loc[heatwavell['latlon']==ll,'phys_sd'] = phys_sd\n",
    "heatwavell['lat'] = heatwavell['latlon'].str.split('|').str[0].astype(float)\n",
    "heatwavell['lon'] = heatwavell['latlon'].str.split('|').str[1].astype(float)\n",
    "heatwavell['ml_outperforms'] = heatwavell['ml_mae'] < heatwavell['phys_mae']\n",
    "heatwavell['phys_outperforms'] = heatwavell['phys_mae'] < heatwavell['ml_mae']\n",
    "heatwavell['ml_mbe'] = heatwavell['ml_mbe'].astype(float); heatwavell['ml_mae'] = heatwavell['ml_mae'].astype(float); heatwavell['ml_sd'] = heatwavell['ml_sd'].astype(float)\n",
    "heatwavell['phys_mbe'] = heatwavell['phys_mbe'].astype(float); heatwavell['phys_mae'] = heatwavell['phys_mae'].astype(float); heatwavell['phys_sd'] = heatwavell['phys_sd'].astype(float)\n",
    "heatwavell\n",
    "\n",
    "#Plot\n",
    "parameter = 'phys_mae'\n",
    "range_par = [0,15]\n",
    "#range_par = [heatwavell[parameter].min(),heatwavell[parameter].max()]\n",
    "fig=px.scatter_mapbox(heatwavell, lat='lat', lon='lon', color =parameter,\n",
    "                      color_continuous_scale='jet', range_color=range_par,zoom=4, \n",
    "                      width=800, height=400, labels={\"phys_mae\": \"Physics MAE\"})\n",
    "fig.update_layout(mapbox_style=\"dark\", mapbox_accesstoken=mapbox_token,\n",
    "                    margin=dict(l=20, r=20, t=20, b=20))\n",
    "fig.show()\n",
    "fig.write_image(\"figs/\" + 'heatwaves/' + parameter + \".png\")\n",
    "\n"
   ]
  },
  {
   "cell_type": "code",
   "execution_count": 41,
   "metadata": {},
   "outputs": [
    {
     "name": "stdout",
     "output_type": "stream",
     "text": [
      "(447, 14)\n",
      "phys mbe = 16.493775200182093\n",
      "phys mae = 16.817454298528983\n",
      "phys sd = 13.986081349499175\n",
      "ml mbe = 7.555469783232671\n",
      "ml sd = 4.380646221958321\n",
      "ml mae = 7.555469783232671\n"
     ]
    },
    {
     "data": {
      "application/vnd.plotly.v1+json": {
       "config": {
        "plotlyServerURL": "https://plot.ly"
       },
       "data": [
        {
         "hovertemplate": "lat=%{lat}<br>lon=%{lon}<br>Physics MAE=%{marker.color}<extra></extra>",
         "lat": [
          43.25,
          37.25,
          41.25,
          41.25,
          41.25,
          43.25,
          43.25,
          43.25,
          43.25,
          43.25,
          43.25,
          43.25,
          43.25,
          45.25,
          45.25,
          45.25,
          45.25,
          45.25,
          45.25,
          45.25,
          45.25,
          45.25,
          45.25,
          45.25,
          45.25,
          45.25,
          45.25,
          47.25,
          47.25,
          47.25,
          47.25,
          47.25,
          47.25,
          47.25,
          47.25,
          47.25,
          47.25,
          47.25,
          47.25,
          47.25,
          47.25,
          43.25,
          43.25,
          43.25,
          43.25,
          43.25,
          43.25,
          43.25,
          45.25,
          45.25,
          45.25,
          45.25,
          45.25,
          45.25,
          45.25,
          45.25,
          45.25,
          45.25,
          45.25,
          45.25,
          45.25,
          45.25,
          45.25,
          45.25,
          47.25,
          47.25,
          47.25,
          47.25,
          47.25,
          47.25,
          47.25,
          47.25,
          47.25,
          47.25,
          47.25,
          47.25,
          47.25,
          47.25,
          43.25,
          45.25,
          45.25,
          47.25,
          47.25,
          47.25,
          47.25,
          47.25,
          43.25,
          43.25,
          43.25,
          45.25,
          45.25,
          45.25,
          45.25,
          45.25,
          45.25,
          47.25,
          47.25,
          47.25,
          47.25,
          47.25,
          47.25,
          47.25,
          47.25,
          47.25,
          39.25,
          39.25,
          41.25,
          41.25,
          41.25,
          41.25,
          41.25,
          41.25,
          41.25,
          41.25,
          43.25,
          43.25,
          43.25,
          43.25,
          43.25,
          43.25,
          43.25,
          43.25,
          43.25,
          43.25,
          43.25,
          45.25,
          45.25,
          45.25,
          45.25,
          45.25,
          45.25,
          45.25,
          45.25,
          45.25,
          45.25,
          45.25,
          45.25,
          45.25,
          45.25,
          45.25,
          47.25,
          47.25,
          47.25,
          47.25,
          47.25,
          47.25,
          47.25,
          47.25,
          47.25,
          47.25,
          47.25,
          47.25,
          47.25,
          39.25,
          39.25,
          39.25,
          39.25,
          39.25,
          39.25,
          41.25,
          41.25,
          41.25,
          41.25,
          41.25,
          41.25,
          41.25,
          41.25,
          41.25,
          41.25,
          43.25,
          43.25,
          43.25,
          43.25,
          43.25,
          43.25,
          43.25,
          43.25,
          43.25,
          43.25,
          43.25,
          43.25,
          45.25,
          45.25,
          45.25,
          45.25,
          45.25,
          45.25,
          45.25,
          45.25,
          45.25,
          45.25,
          45.25,
          45.25,
          45.25,
          45.25,
          45.25,
          45.25,
          47.25,
          47.25,
          47.25,
          47.25,
          47.25,
          47.25,
          47.25,
          47.25,
          47.25,
          47.25,
          47.25,
          47.25,
          47.25,
          37.25,
          47.25,
          43.25,
          47.25,
          47.25,
          43.25,
          37.25,
          43.25,
          43.25,
          43.25,
          43.25,
          43.25,
          45.25,
          45.25,
          45.25,
          45.25,
          45.25,
          45.25,
          45.25,
          45.25,
          45.25,
          45.25,
          47.25,
          47.25,
          47.25,
          47.25,
          47.25,
          47.25,
          47.25,
          47.25,
          47.25,
          37.25,
          41.25,
          41.25,
          41.25,
          43.25,
          43.25,
          43.25,
          43.25,
          43.25,
          45.25,
          45.25,
          45.25,
          45.25,
          45.25,
          45.25,
          45.25,
          45.25,
          45.25,
          45.25,
          47.25,
          47.25,
          47.25,
          47.25,
          47.25,
          47.25,
          47.25,
          47.25,
          47.25,
          37.25,
          43.25,
          43.25,
          43.25,
          43.25,
          43.25,
          43.25,
          43.25,
          45.25,
          45.25,
          45.25,
          45.25,
          45.25,
          45.25,
          45.25,
          45.25,
          45.25,
          45.25,
          45.25,
          45.25,
          45.25,
          45.25,
          47.25,
          47.25,
          47.25,
          47.25,
          47.25,
          47.25,
          47.25,
          47.25,
          47.25,
          47.25,
          47.25,
          47.25,
          47.25,
          41.25,
          43.25,
          43.25,
          43.25,
          43.25,
          43.25,
          43.25,
          43.25,
          43.25,
          45.25,
          45.25,
          45.25,
          45.25,
          45.25,
          45.25,
          45.25,
          45.25,
          45.25,
          45.25,
          45.25,
          45.25,
          45.25,
          47.25,
          47.25,
          47.25,
          47.25,
          47.25,
          47.25,
          47.25,
          47.25,
          47.25,
          47.25,
          47.25,
          47.25,
          47.25,
          39.25,
          43.25,
          43.25,
          43.25,
          43.25,
          43.25,
          43.25,
          45.25,
          45.25,
          45.25,
          45.25,
          45.25,
          45.25,
          45.25,
          45.25,
          45.25,
          45.25,
          45.25,
          45.25,
          47.25,
          47.25,
          47.25,
          47.25,
          47.25,
          47.25,
          47.25,
          47.25,
          47.25,
          47.25,
          47.25,
          47.25,
          43.25,
          43.25,
          45.25,
          45.25,
          45.25,
          45.25,
          47.25,
          47.25,
          47.25,
          47.25,
          47.25,
          43.25,
          43.25,
          45.25,
          47.25,
          47.25,
          47.25,
          47.25,
          47.25,
          47.25,
          47.25,
          47.25,
          47.25,
          47.25,
          43.25,
          45.25,
          45.25,
          45.25,
          45.25,
          47.25,
          47.25,
          47.25,
          47.25,
          47.25,
          47.25,
          37.25,
          43.25,
          37.25,
          39.25,
          43.25,
          37.25,
          43.25,
          47.25,
          47.25,
          47.25,
          47.25,
          37.25,
          43.25,
          43.25,
          43.25,
          43.25,
          45.25,
          45.25,
          45.25,
          45.25,
          45.25,
          45.25,
          47.25,
          47.25,
          47.25,
          47.25,
          47.25,
          47.25,
          47.25,
          47.25,
          47.25,
          47.25,
          47.25,
          45.25,
          45.25,
          45.25,
          47.25,
          47.25,
          47.25,
          47.25,
          47.25,
          47.25
         ],
         "legendgroup": "",
         "lon": [
          249.75,
          253.75,
          259.75,
          261.75,
          263.75,
          249.75,
          255.75,
          257.75,
          259.75,
          261.75,
          263.75,
          265.75,
          267.75,
          247.75,
          249.75,
          251.75,
          253.75,
          255.75,
          257.75,
          259.75,
          261.75,
          263.75,
          265.75,
          267.75,
          269.75,
          271.75,
          289.75,
          245.75,
          247.75,
          249.75,
          251.75,
          253.75,
          255.75,
          257.75,
          259.75,
          261.75,
          263.75,
          265.75,
          267.75,
          269.75,
          271.75,
          255.75,
          257.75,
          259.75,
          261.75,
          263.75,
          265.75,
          267.75,
          247.75,
          249.75,
          251.75,
          253.75,
          255.75,
          257.75,
          259.75,
          261.75,
          263.75,
          265.75,
          267.75,
          269.75,
          271.75,
          273.75,
          275.75,
          289.75,
          245.75,
          247.75,
          249.75,
          251.75,
          253.75,
          255.75,
          257.75,
          259.75,
          261.75,
          263.75,
          265.75,
          267.75,
          269.75,
          271.75,
          249.75,
          269.75,
          289.75,
          261.75,
          263.75,
          265.75,
          267.75,
          269.75,
          265.75,
          267.75,
          269.75,
          261.75,
          263.75,
          265.75,
          267.75,
          269.75,
          271.75,
          255.75,
          257.75,
          259.75,
          261.75,
          263.75,
          265.75,
          267.75,
          269.75,
          271.75,
          265.75,
          267.75,
          257.75,
          259.75,
          261.75,
          263.75,
          265.75,
          267.75,
          269.75,
          271.75,
          251.75,
          253.75,
          255.75,
          257.75,
          259.75,
          261.75,
          263.75,
          265.75,
          267.75,
          269.75,
          271.75,
          247.75,
          249.75,
          251.75,
          253.75,
          255.75,
          257.75,
          259.75,
          261.75,
          263.75,
          265.75,
          267.75,
          269.75,
          271.75,
          273.75,
          275.75,
          247.75,
          249.75,
          251.75,
          253.75,
          255.75,
          257.75,
          259.75,
          261.75,
          263.75,
          265.75,
          267.75,
          269.75,
          271.75,
          257.75,
          259.75,
          263.75,
          265.75,
          267.75,
          269.75,
          253.75,
          255.75,
          257.75,
          259.75,
          261.75,
          263.75,
          265.75,
          267.75,
          269.75,
          271.75,
          251.75,
          253.75,
          255.75,
          257.75,
          259.75,
          261.75,
          263.75,
          265.75,
          267.75,
          269.75,
          271.75,
          275.75,
          247.75,
          249.75,
          251.75,
          253.75,
          255.75,
          257.75,
          259.75,
          261.75,
          263.75,
          265.75,
          267.75,
          269.75,
          271.75,
          273.75,
          275.75,
          289.75,
          247.75,
          249.75,
          251.75,
          253.75,
          255.75,
          257.75,
          259.75,
          261.75,
          263.75,
          265.75,
          267.75,
          269.75,
          271.75,
          253.75,
          267.75,
          249.75,
          265.75,
          267.75,
          249.75,
          253.75,
          263.75,
          265.75,
          267.75,
          269.75,
          271.75,
          259.75,
          261.75,
          263.75,
          265.75,
          267.75,
          269.75,
          271.75,
          273.75,
          275.75,
          289.75,
          257.75,
          259.75,
          261.75,
          263.75,
          265.75,
          267.75,
          269.75,
          271.75,
          273.75,
          253.75,
          267.75,
          269.75,
          271.75,
          263.75,
          265.75,
          267.75,
          269.75,
          271.75,
          259.75,
          261.75,
          263.75,
          265.75,
          267.75,
          269.75,
          271.75,
          273.75,
          275.75,
          289.75,
          257.75,
          259.75,
          261.75,
          263.75,
          265.75,
          267.75,
          269.75,
          271.75,
          273.75,
          253.75,
          249.75,
          251.75,
          261.75,
          263.75,
          265.75,
          267.75,
          269.75,
          247.75,
          249.75,
          251.75,
          253.75,
          255.75,
          257.75,
          259.75,
          261.75,
          263.75,
          265.75,
          267.75,
          269.75,
          271.75,
          289.75,
          247.75,
          249.75,
          251.75,
          253.75,
          255.75,
          257.75,
          259.75,
          261.75,
          263.75,
          265.75,
          267.75,
          269.75,
          271.75,
          249.75,
          249.75,
          255.75,
          257.75,
          259.75,
          261.75,
          263.75,
          265.75,
          267.75,
          247.75,
          249.75,
          251.75,
          253.75,
          255.75,
          257.75,
          259.75,
          261.75,
          263.75,
          265.75,
          267.75,
          269.75,
          271.75,
          247.75,
          249.75,
          251.75,
          253.75,
          255.75,
          257.75,
          259.75,
          261.75,
          263.75,
          265.75,
          267.75,
          269.75,
          271.75,
          253.75,
          249.75,
          259.75,
          261.75,
          263.75,
          265.75,
          267.75,
          247.75,
          249.75,
          251.75,
          253.75,
          255.75,
          257.75,
          259.75,
          261.75,
          263.75,
          265.75,
          267.75,
          269.75,
          247.75,
          249.75,
          251.75,
          253.75,
          255.75,
          257.75,
          259.75,
          261.75,
          263.75,
          265.75,
          267.75,
          269.75,
          249.75,
          249.75,
          263.75,
          265.75,
          269.75,
          271.75,
          261.75,
          263.75,
          265.75,
          267.75,
          269.75,
          249.75,
          251.75,
          269.75,
          261.75,
          263.75,
          265.75,
          267.75,
          269.75,
          259.75,
          261.75,
          263.75,
          265.75,
          267.75,
          249.75,
          263.75,
          265.75,
          267.75,
          269.75,
          259.75,
          261.75,
          263.75,
          265.75,
          267.75,
          269.75,
          253.75,
          249.75,
          253.75,
          253.75,
          249.75,
          253.75,
          249.75,
          261.75,
          263.75,
          265.75,
          267.75,
          253.75,
          249.75,
          261.75,
          263.75,
          265.75,
          257.75,
          259.75,
          261.75,
          263.75,
          265.75,
          269.75,
          249.75,
          251.75,
          253.75,
          255.75,
          257.75,
          259.75,
          261.75,
          263.75,
          265.75,
          267.75,
          269.75,
          259.75,
          261.75,
          263.75,
          257.75,
          259.75,
          261.75,
          263.75,
          265.75,
          267.75
         ],
         "marker": {
          "color": [
           6.635127305984497,
           10.127484851413303,
           27.767192761103313,
           28.65022619565328,
           27.188180764516193,
           6.635127305984497,
           19.150615406036376,
           20.69496602267027,
           17.344609442477424,
           15.355437874794006,
           14.471664279699326,
           16.527984462001108,
           16.53920783996582,
           13.289941719600133,
           14.701904433114189,
           16.080655370439803,
           16.512145042419434,
           17.185283729008265,
           18.42746928334236,
           15.390762935985219,
           18.123608966668446,
           15.526035828249794,
           14.779073880268978,
           15.535768140446056,
           14.540052795410157,
           14.679442739486694,
           9.677936690194267,
           2.8314356803894043,
           17.157169137682235,
           17.97769731283188,
           17.987042158842087,
           19.507547080516815,
           20.82364269097646,
           18.095022559165955,
           17.214941603796824,
           16.144959449768066,
           15.416332695219252,
           15.620266788884214,
           15.331448602676392,
           13.446929518381754,
           13.983564853668213,
           19.150615406036376,
           20.69496602267027,
           17.344609442477424,
           15.355437874794006,
           14.471664279699326,
           16.527984462001108,
           16.53920783996582,
           13.289941719600133,
           14.701904433114189,
           16.080655370439803,
           16.512145042419434,
           17.185283729008265,
           18.42746928334236,
           15.390762935985219,
           18.123608966668446,
           15.526035828249794,
           14.779073880268978,
           15.535768140446056,
           14.540052795410157,
           14.679442739486694,
           16.679134178161622,
           17.011632442474365,
           9.677936690194267,
           2.8314356803894043,
           17.157169137682235,
           17.97769731283188,
           17.987042158842087,
           19.507547080516815,
           20.82364269097646,
           18.095022559165955,
           17.214941603796824,
           16.144959449768066,
           15.416332695219252,
           15.620266788884214,
           15.331448602676392,
           13.446929518381754,
           13.983564853668213,
           6.635127305984497,
           14.540052795410157,
           9.677936690194267,
           16.144959449768066,
           15.416332695219252,
           15.620266788884214,
           15.331448602676392,
           13.446929518381754,
           16.527984462001108,
           16.53920783996582,
           23.132605115572613,
           18.123608966668446,
           15.526035828249794,
           14.779073880268978,
           15.535768140446056,
           14.540052795410157,
           14.679442739486694,
           20.82364269097646,
           18.095022559165955,
           17.214941603796824,
           16.144959449768066,
           15.416332695219252,
           15.620266788884214,
           15.331448602676392,
           13.446929518381754,
           13.983564853668213,
           34.68809461593628,
           34.116957664489746,
           37.37333631515503,
           27.767192761103313,
           28.65022619565328,
           27.188180764516193,
           37.433685302734375,
           28.681803206602734,
           28.37009061872959,
           25.532564838727314,
           18.714791417121887,
           36.733588218688965,
           19.150615406036376,
           20.69496602267027,
           17.344609442477424,
           15.355437874794006,
           14.471664279699326,
           16.527984462001108,
           16.53920783996582,
           23.132605115572613,
           23.15486240386963,
           13.289941719600133,
           14.701904433114189,
           16.080655370439803,
           16.512145042419434,
           17.185283729008265,
           18.42746928334236,
           15.390762935985219,
           18.123608966668446,
           15.526035828249794,
           14.779073880268978,
           15.535768140446056,
           14.540052795410157,
           14.679442739486694,
           16.679134178161622,
           17.011632442474365,
           17.157169137682235,
           17.97769731283188,
           17.987042158842087,
           19.507547080516815,
           20.82364269097646,
           18.095022559165955,
           17.214941603796824,
           16.144959449768066,
           15.416332695219252,
           15.620266788884214,
           15.331448602676392,
           13.446929518381754,
           13.983564853668213,
           37.22145080566406,
           37.23032379150391,
           35.22186470031738,
           34.68809461593628,
           34.116957664489746,
           33.23829174041748,
           29.799920082092285,
           33.769978523254395,
           37.37333631515503,
           27.767192761103313,
           28.65022619565328,
           27.188180764516193,
           37.433685302734375,
           28.681803206602734,
           28.37009061872959,
           25.532564838727314,
           18.714791417121887,
           36.733588218688965,
           19.150615406036376,
           20.69496602267027,
           17.344609442477424,
           15.355437874794006,
           14.471664279699326,
           16.527984462001108,
           16.53920783996582,
           23.132605115572613,
           23.15486240386963,
           30.78459548950196,
           13.289941719600133,
           14.701904433114189,
           16.080655370439803,
           16.512145042419434,
           17.185283729008265,
           18.42746928334236,
           15.390762935985219,
           18.123608966668446,
           15.526035828249794,
           14.779073880268978,
           15.535768140446056,
           14.540052795410157,
           14.679442739486694,
           16.679134178161622,
           17.011632442474365,
           9.677936690194267,
           17.157169137682235,
           17.97769731283188,
           17.987042158842087,
           19.507547080516815,
           20.82364269097646,
           18.095022559165955,
           17.214941603796824,
           16.144959449768066,
           15.416332695219252,
           15.620266788884214,
           15.331448602676392,
           13.446929518381754,
           13.983564853668213,
           10.127484851413303,
           15.331448602676392,
           6.635127305984497,
           15.620266788884214,
           15.331448602676392,
           6.635127305984497,
           10.127484851413303,
           14.471664279699326,
           16.527984462001108,
           16.53920783996582,
           23.132605115572613,
           23.15486240386963,
           15.390762935985219,
           18.123608966668446,
           15.526035828249794,
           14.779073880268978,
           15.535768140446056,
           14.540052795410157,
           14.679442739486694,
           16.679134178161622,
           17.011632442474365,
           9.677936690194267,
           18.095022559165955,
           17.214941603796824,
           16.144959449768066,
           15.416332695219252,
           15.620266788884214,
           15.331448602676392,
           13.446929518381754,
           13.983564853668213,
           6.043641567230225,
           10.127484851413303,
           28.681803206602734,
           28.37009061872959,
           25.532564838727314,
           14.471664279699326,
           16.527984462001108,
           16.53920783996582,
           23.132605115572613,
           23.15486240386963,
           15.390762935985219,
           18.123608966668446,
           15.526035828249794,
           14.779073880268978,
           15.535768140446056,
           14.540052795410157,
           14.679442739486694,
           16.679134178161622,
           17.011632442474365,
           9.677936690194267,
           18.095022559165955,
           17.214941603796824,
           16.144959449768066,
           15.416332695219252,
           15.620266788884214,
           15.331448602676392,
           13.446929518381754,
           13.983564853668213,
           6.043641567230225,
           10.127484851413303,
           6.635127305984497,
           18.714791417121887,
           15.355437874794006,
           14.471664279699326,
           16.527984462001108,
           16.53920783996582,
           23.132605115572613,
           13.289941719600133,
           14.701904433114189,
           16.080655370439803,
           16.512145042419434,
           17.185283729008265,
           18.42746928334236,
           15.390762935985219,
           18.123608966668446,
           15.526035828249794,
           14.779073880268978,
           15.535768140446056,
           14.540052795410157,
           14.679442739486694,
           9.677936690194267,
           17.157169137682235,
           17.97769731283188,
           17.987042158842087,
           19.507547080516815,
           20.82364269097646,
           18.095022559165955,
           17.214941603796824,
           16.144959449768066,
           15.416332695219252,
           15.620266788884214,
           15.331448602676392,
           13.446929518381754,
           13.983564853668213,
           4.5086588859558105,
           6.635127305984497,
           19.150615406036376,
           20.69496602267027,
           17.344609442477424,
           15.355437874794006,
           14.471664279699326,
           16.527984462001108,
           16.53920783996582,
           13.289941719600133,
           14.701904433114189,
           16.080655370439803,
           16.512145042419434,
           17.185283729008265,
           18.42746928334236,
           15.390762935985219,
           18.123608966668446,
           15.526035828249794,
           14.779073880268978,
           15.535768140446056,
           14.540052795410157,
           14.679442739486694,
           17.157169137682235,
           17.97769731283188,
           17.987042158842087,
           19.507547080516815,
           20.82364269097646,
           18.095022559165955,
           17.214941603796824,
           16.144959449768066,
           15.416332695219252,
           15.620266788884214,
           15.331448602676392,
           13.446929518381754,
           13.983564853668213,
           4.1952714920043945,
           6.635127305984497,
           17.344609442477424,
           15.355437874794006,
           14.471664279699326,
           16.527984462001108,
           16.53920783996582,
           13.289941719600133,
           14.701904433114189,
           16.080655370439803,
           16.512145042419434,
           17.185283729008265,
           18.42746928334236,
           15.390762935985219,
           18.123608966668446,
           15.526035828249794,
           14.779073880268978,
           15.535768140446056,
           14.540052795410157,
           17.157169137682235,
           17.97769731283188,
           17.987042158842087,
           19.507547080516815,
           20.82364269097646,
           18.095022559165955,
           17.214941603796824,
           16.144959449768066,
           15.416332695219252,
           15.620266788884214,
           15.331448602676392,
           13.446929518381754,
           6.635127305984497,
           6.635127305984497,
           15.526035828249794,
           14.779073880268978,
           14.540052795410157,
           14.679442739486694,
           16.144959449768066,
           15.416332695219252,
           15.620266788884214,
           15.331448602676392,
           13.446929518381754,
           6.635127305984497,
           18.714791417121887,
           14.540052795410157,
           16.144959449768066,
           15.416332695219252,
           15.620266788884214,
           15.331448602676392,
           13.446929518381754,
           17.214941603796824,
           16.144959449768066,
           15.416332695219252,
           15.620266788884214,
           15.331448602676392,
           6.635127305984497,
           15.526035828249794,
           14.779073880268978,
           15.535768140446056,
           14.540052795410157,
           17.214941603796824,
           16.144959449768066,
           15.416332695219252,
           15.620266788884214,
           15.331448602676392,
           13.446929518381754,
           10.127484851413303,
           6.635127305984497,
           10.127484851413303,
           4.1952714920043945,
           6.635127305984497,
           10.127484851413303,
           6.635127305984497,
           16.144959449768066,
           15.416332695219252,
           15.620266788884214,
           15.331448602676392,
           10.127484851413303,
           6.635127305984497,
           15.355437874794006,
           14.471664279699326,
           16.527984462001108,
           18.42746928334236,
           15.390762935985219,
           18.123608966668446,
           15.526035828249794,
           14.779073880268978,
           14.540052795410157,
           17.97769731283188,
           17.987042158842087,
           19.507547080516815,
           20.82364269097646,
           18.095022559165955,
           17.214941603796824,
           16.144959449768066,
           15.416332695219252,
           15.620266788884214,
           15.331448602676392,
           13.446929518381754,
           15.390762935985219,
           18.123608966668446,
           15.526035828249794,
           18.095022559165955,
           17.214941603796824,
           16.144959449768066,
           15.416332695219252,
           15.620266788884214,
           15.331448602676392
          ],
          "coloraxis": "coloraxis"
         },
         "mode": "markers",
         "name": "",
         "showlegend": false,
         "subplot": "mapbox",
         "type": "scattermapbox"
        }
       ],
       "layout": {
        "coloraxis": {
         "cmax": 15,
         "cmin": 0,
         "colorbar": {
          "title": {
           "text": "Physics MAE"
          }
         },
         "colorscale": [
          [
           0,
           "rgb(0,0,131)"
          ],
          [
           0.2,
           "rgb(0,60,170)"
          ],
          [
           0.4,
           "rgb(5,255,255)"
          ],
          [
           0.6,
           "rgb(255,255,0)"
          ],
          [
           0.8,
           "rgb(250,0,0)"
          ],
          [
           1,
           "rgb(128,0,0)"
          ]
         ]
        },
        "height": 400,
        "legend": {
         "tracegroupgap": 0
        },
        "mapbox": {
         "accesstoken": "pk.eyJ1IjoibXVra2F2aWxsaSIsImEiOiJja3JoOG1yYm02ZWRrMnBtZmc3cTlycHQwIn0.OOg5KGUGMDM-t7vf3ez1FQ",
         "center": {
          "lat": 45.09340044742729,
          "lon": 262.09004474272933
         },
         "domain": {
          "x": [
           0,
           1
          ],
          "y": [
           0,
           1
          ]
         },
         "style": "dark",
         "zoom": 2.8
        },
        "margin": {
         "b": 20,
         "l": 20,
         "r": 20,
         "t": 20
        },
        "template": {
         "data": {
          "bar": [
           {
            "error_x": {
             "color": "#2a3f5f"
            },
            "error_y": {
             "color": "#2a3f5f"
            },
            "marker": {
             "line": {
              "color": "#E5ECF6",
              "width": 0.5
             },
             "pattern": {
              "fillmode": "overlay",
              "size": 10,
              "solidity": 0.2
             }
            },
            "type": "bar"
           }
          ],
          "barpolar": [
           {
            "marker": {
             "line": {
              "color": "#E5ECF6",
              "width": 0.5
             },
             "pattern": {
              "fillmode": "overlay",
              "size": 10,
              "solidity": 0.2
             }
            },
            "type": "barpolar"
           }
          ],
          "carpet": [
           {
            "aaxis": {
             "endlinecolor": "#2a3f5f",
             "gridcolor": "white",
             "linecolor": "white",
             "minorgridcolor": "white",
             "startlinecolor": "#2a3f5f"
            },
            "baxis": {
             "endlinecolor": "#2a3f5f",
             "gridcolor": "white",
             "linecolor": "white",
             "minorgridcolor": "white",
             "startlinecolor": "#2a3f5f"
            },
            "type": "carpet"
           }
          ],
          "choropleth": [
           {
            "colorbar": {
             "outlinewidth": 0,
             "ticks": ""
            },
            "type": "choropleth"
           }
          ],
          "contour": [
           {
            "colorbar": {
             "outlinewidth": 0,
             "ticks": ""
            },
            "colorscale": [
             [
              0,
              "#0d0887"
             ],
             [
              0.1111111111111111,
              "#46039f"
             ],
             [
              0.2222222222222222,
              "#7201a8"
             ],
             [
              0.3333333333333333,
              "#9c179e"
             ],
             [
              0.4444444444444444,
              "#bd3786"
             ],
             [
              0.5555555555555556,
              "#d8576b"
             ],
             [
              0.6666666666666666,
              "#ed7953"
             ],
             [
              0.7777777777777778,
              "#fb9f3a"
             ],
             [
              0.8888888888888888,
              "#fdca26"
             ],
             [
              1,
              "#f0f921"
             ]
            ],
            "type": "contour"
           }
          ],
          "contourcarpet": [
           {
            "colorbar": {
             "outlinewidth": 0,
             "ticks": ""
            },
            "type": "contourcarpet"
           }
          ],
          "heatmap": [
           {
            "colorbar": {
             "outlinewidth": 0,
             "ticks": ""
            },
            "colorscale": [
             [
              0,
              "#0d0887"
             ],
             [
              0.1111111111111111,
              "#46039f"
             ],
             [
              0.2222222222222222,
              "#7201a8"
             ],
             [
              0.3333333333333333,
              "#9c179e"
             ],
             [
              0.4444444444444444,
              "#bd3786"
             ],
             [
              0.5555555555555556,
              "#d8576b"
             ],
             [
              0.6666666666666666,
              "#ed7953"
             ],
             [
              0.7777777777777778,
              "#fb9f3a"
             ],
             [
              0.8888888888888888,
              "#fdca26"
             ],
             [
              1,
              "#f0f921"
             ]
            ],
            "type": "heatmap"
           }
          ],
          "heatmapgl": [
           {
            "colorbar": {
             "outlinewidth": 0,
             "ticks": ""
            },
            "colorscale": [
             [
              0,
              "#0d0887"
             ],
             [
              0.1111111111111111,
              "#46039f"
             ],
             [
              0.2222222222222222,
              "#7201a8"
             ],
             [
              0.3333333333333333,
              "#9c179e"
             ],
             [
              0.4444444444444444,
              "#bd3786"
             ],
             [
              0.5555555555555556,
              "#d8576b"
             ],
             [
              0.6666666666666666,
              "#ed7953"
             ],
             [
              0.7777777777777778,
              "#fb9f3a"
             ],
             [
              0.8888888888888888,
              "#fdca26"
             ],
             [
              1,
              "#f0f921"
             ]
            ],
            "type": "heatmapgl"
           }
          ],
          "histogram": [
           {
            "marker": {
             "pattern": {
              "fillmode": "overlay",
              "size": 10,
              "solidity": 0.2
             }
            },
            "type": "histogram"
           }
          ],
          "histogram2d": [
           {
            "colorbar": {
             "outlinewidth": 0,
             "ticks": ""
            },
            "colorscale": [
             [
              0,
              "#0d0887"
             ],
             [
              0.1111111111111111,
              "#46039f"
             ],
             [
              0.2222222222222222,
              "#7201a8"
             ],
             [
              0.3333333333333333,
              "#9c179e"
             ],
             [
              0.4444444444444444,
              "#bd3786"
             ],
             [
              0.5555555555555556,
              "#d8576b"
             ],
             [
              0.6666666666666666,
              "#ed7953"
             ],
             [
              0.7777777777777778,
              "#fb9f3a"
             ],
             [
              0.8888888888888888,
              "#fdca26"
             ],
             [
              1,
              "#f0f921"
             ]
            ],
            "type": "histogram2d"
           }
          ],
          "histogram2dcontour": [
           {
            "colorbar": {
             "outlinewidth": 0,
             "ticks": ""
            },
            "colorscale": [
             [
              0,
              "#0d0887"
             ],
             [
              0.1111111111111111,
              "#46039f"
             ],
             [
              0.2222222222222222,
              "#7201a8"
             ],
             [
              0.3333333333333333,
              "#9c179e"
             ],
             [
              0.4444444444444444,
              "#bd3786"
             ],
             [
              0.5555555555555556,
              "#d8576b"
             ],
             [
              0.6666666666666666,
              "#ed7953"
             ],
             [
              0.7777777777777778,
              "#fb9f3a"
             ],
             [
              0.8888888888888888,
              "#fdca26"
             ],
             [
              1,
              "#f0f921"
             ]
            ],
            "type": "histogram2dcontour"
           }
          ],
          "mesh3d": [
           {
            "colorbar": {
             "outlinewidth": 0,
             "ticks": ""
            },
            "type": "mesh3d"
           }
          ],
          "parcoords": [
           {
            "line": {
             "colorbar": {
              "outlinewidth": 0,
              "ticks": ""
             }
            },
            "type": "parcoords"
           }
          ],
          "pie": [
           {
            "automargin": true,
            "type": "pie"
           }
          ],
          "scatter": [
           {
            "marker": {
             "colorbar": {
              "outlinewidth": 0,
              "ticks": ""
             }
            },
            "type": "scatter"
           }
          ],
          "scatter3d": [
           {
            "line": {
             "colorbar": {
              "outlinewidth": 0,
              "ticks": ""
             }
            },
            "marker": {
             "colorbar": {
              "outlinewidth": 0,
              "ticks": ""
             }
            },
            "type": "scatter3d"
           }
          ],
          "scattercarpet": [
           {
            "marker": {
             "colorbar": {
              "outlinewidth": 0,
              "ticks": ""
             }
            },
            "type": "scattercarpet"
           }
          ],
          "scattergeo": [
           {
            "marker": {
             "colorbar": {
              "outlinewidth": 0,
              "ticks": ""
             }
            },
            "type": "scattergeo"
           }
          ],
          "scattergl": [
           {
            "marker": {
             "colorbar": {
              "outlinewidth": 0,
              "ticks": ""
             }
            },
            "type": "scattergl"
           }
          ],
          "scattermapbox": [
           {
            "marker": {
             "colorbar": {
              "outlinewidth": 0,
              "ticks": ""
             }
            },
            "type": "scattermapbox"
           }
          ],
          "scatterpolar": [
           {
            "marker": {
             "colorbar": {
              "outlinewidth": 0,
              "ticks": ""
             }
            },
            "type": "scatterpolar"
           }
          ],
          "scatterpolargl": [
           {
            "marker": {
             "colorbar": {
              "outlinewidth": 0,
              "ticks": ""
             }
            },
            "type": "scatterpolargl"
           }
          ],
          "scatterternary": [
           {
            "marker": {
             "colorbar": {
              "outlinewidth": 0,
              "ticks": ""
             }
            },
            "type": "scatterternary"
           }
          ],
          "surface": [
           {
            "colorbar": {
             "outlinewidth": 0,
             "ticks": ""
            },
            "colorscale": [
             [
              0,
              "#0d0887"
             ],
             [
              0.1111111111111111,
              "#46039f"
             ],
             [
              0.2222222222222222,
              "#7201a8"
             ],
             [
              0.3333333333333333,
              "#9c179e"
             ],
             [
              0.4444444444444444,
              "#bd3786"
             ],
             [
              0.5555555555555556,
              "#d8576b"
             ],
             [
              0.6666666666666666,
              "#ed7953"
             ],
             [
              0.7777777777777778,
              "#fb9f3a"
             ],
             [
              0.8888888888888888,
              "#fdca26"
             ],
             [
              1,
              "#f0f921"
             ]
            ],
            "type": "surface"
           }
          ],
          "table": [
           {
            "cells": {
             "fill": {
              "color": "#EBF0F8"
             },
             "line": {
              "color": "white"
             }
            },
            "header": {
             "fill": {
              "color": "#C8D4E3"
             },
             "line": {
              "color": "white"
             }
            },
            "type": "table"
           }
          ]
         },
         "layout": {
          "annotationdefaults": {
           "arrowcolor": "#2a3f5f",
           "arrowhead": 0,
           "arrowwidth": 1
          },
          "autotypenumbers": "strict",
          "coloraxis": {
           "colorbar": {
            "outlinewidth": 0,
            "ticks": ""
           }
          },
          "colorscale": {
           "diverging": [
            [
             0,
             "#8e0152"
            ],
            [
             0.1,
             "#c51b7d"
            ],
            [
             0.2,
             "#de77ae"
            ],
            [
             0.3,
             "#f1b6da"
            ],
            [
             0.4,
             "#fde0ef"
            ],
            [
             0.5,
             "#f7f7f7"
            ],
            [
             0.6,
             "#e6f5d0"
            ],
            [
             0.7,
             "#b8e186"
            ],
            [
             0.8,
             "#7fbc41"
            ],
            [
             0.9,
             "#4d9221"
            ],
            [
             1,
             "#276419"
            ]
           ],
           "sequential": [
            [
             0,
             "#0d0887"
            ],
            [
             0.1111111111111111,
             "#46039f"
            ],
            [
             0.2222222222222222,
             "#7201a8"
            ],
            [
             0.3333333333333333,
             "#9c179e"
            ],
            [
             0.4444444444444444,
             "#bd3786"
            ],
            [
             0.5555555555555556,
             "#d8576b"
            ],
            [
             0.6666666666666666,
             "#ed7953"
            ],
            [
             0.7777777777777778,
             "#fb9f3a"
            ],
            [
             0.8888888888888888,
             "#fdca26"
            ],
            [
             1,
             "#f0f921"
            ]
           ],
           "sequentialminus": [
            [
             0,
             "#0d0887"
            ],
            [
             0.1111111111111111,
             "#46039f"
            ],
            [
             0.2222222222222222,
             "#7201a8"
            ],
            [
             0.3333333333333333,
             "#9c179e"
            ],
            [
             0.4444444444444444,
             "#bd3786"
            ],
            [
             0.5555555555555556,
             "#d8576b"
            ],
            [
             0.6666666666666666,
             "#ed7953"
            ],
            [
             0.7777777777777778,
             "#fb9f3a"
            ],
            [
             0.8888888888888888,
             "#fdca26"
            ],
            [
             1,
             "#f0f921"
            ]
           ]
          },
          "colorway": [
           "#636efa",
           "#EF553B",
           "#00cc96",
           "#ab63fa",
           "#FFA15A",
           "#19d3f3",
           "#FF6692",
           "#B6E880",
           "#FF97FF",
           "#FECB52"
          ],
          "font": {
           "color": "#2a3f5f"
          },
          "geo": {
           "bgcolor": "white",
           "lakecolor": "white",
           "landcolor": "#E5ECF6",
           "showlakes": true,
           "showland": true,
           "subunitcolor": "white"
          },
          "hoverlabel": {
           "align": "left"
          },
          "hovermode": "closest",
          "mapbox": {
           "style": "light"
          },
          "paper_bgcolor": "white",
          "plot_bgcolor": "#E5ECF6",
          "polar": {
           "angularaxis": {
            "gridcolor": "white",
            "linecolor": "white",
            "ticks": ""
           },
           "bgcolor": "#E5ECF6",
           "radialaxis": {
            "gridcolor": "white",
            "linecolor": "white",
            "ticks": ""
           }
          },
          "scene": {
           "xaxis": {
            "backgroundcolor": "#E5ECF6",
            "gridcolor": "white",
            "gridwidth": 2,
            "linecolor": "white",
            "showbackground": true,
            "ticks": "",
            "zerolinecolor": "white"
           },
           "yaxis": {
            "backgroundcolor": "#E5ECF6",
            "gridcolor": "white",
            "gridwidth": 2,
            "linecolor": "white",
            "showbackground": true,
            "ticks": "",
            "zerolinecolor": "white"
           },
           "zaxis": {
            "backgroundcolor": "#E5ECF6",
            "gridcolor": "white",
            "gridwidth": 2,
            "linecolor": "white",
            "showbackground": true,
            "ticks": "",
            "zerolinecolor": "white"
           }
          },
          "shapedefaults": {
           "line": {
            "color": "#2a3f5f"
           }
          },
          "ternary": {
           "aaxis": {
            "gridcolor": "white",
            "linecolor": "white",
            "ticks": ""
           },
           "baxis": {
            "gridcolor": "white",
            "linecolor": "white",
            "ticks": ""
           },
           "bgcolor": "#E5ECF6",
           "caxis": {
            "gridcolor": "white",
            "linecolor": "white",
            "ticks": ""
           }
          },
          "title": {
           "x": 0.05
          },
          "xaxis": {
           "automargin": true,
           "gridcolor": "white",
           "linecolor": "white",
           "ticks": "",
           "title": {
            "standoff": 15
           },
           "zerolinecolor": "white",
           "zerolinewidth": 2
          },
          "yaxis": {
           "automargin": true,
           "gridcolor": "white",
           "linecolor": "white",
           "ticks": "",
           "title": {
            "standoff": 15
           },
           "zerolinecolor": "white",
           "zerolinewidth": 2
          }
         }
        },
        "width": 800
       }
      }
     },
     "metadata": {},
     "output_type": "display_data"
    }
   ],
   "source": [
    "#general performance around coldwaves\n",
    "coldwave = df[(df['tmp2m']<-10)]\n",
    "print(coldwave.shape)\n",
    "#High level stats\n",
    "phys_mbe = coldwave['phys_err'].mean()\n",
    "print('phys mbe = ' + str(phys_mbe))\n",
    "phys_mae = coldwave['phys_err'].abs().mean()\n",
    "print('phys mae = ' + str(phys_mae))\n",
    "phys_sd = coldwave['phys_err'].std()\n",
    "print('phys sd = ' + str(phys_sd))\n",
    "ml_mbe = coldwave['err'].mean()\n",
    "print('ml mbe = ' + str(ml_mbe))\n",
    "ml_sd = coldwave['err'].std()\n",
    "print('ml sd = ' + str(ml_sd))\n",
    "ml_mae = coldwave['err'].abs().mean()\n",
    "print('ml mae = ' + str(ml_mae))\n",
    "\n",
    "#Reduce by lat lon\n",
    "coldwave_latlon = coldwave.latlon.unique()\n",
    "coldwavell = pd.DataFrame(coldwave, columns = ['latlon'])\n",
    "coldwavell['ml_mbe'] = \"\"; coldwavell['ml_mae'] = \"\"; coldwavell['ml_sd'] = \"\"\n",
    "coldwavell['phys_mbe'] = \"\"; coldwavell['phys_mae'] = \"\"; coldwavell['phys_sd'] = \"\"\n",
    "\n",
    "for ind, row in coldwavell.iterrows():\n",
    "    ll = row['latlon']\n",
    "    coldwave_subset = coldwave[coldwave['latlon']==ll]\n",
    "    ml_mbe = coldwave_subset['err'].mean()\n",
    "    ml_mae = coldwave_subset['err'].abs().mean()\n",
    "    ml_sd = coldwave_subset['err'].std()\n",
    "    coldwavell.loc[coldwavell['latlon']==ll,'ml_mbe'] = ml_mbe\n",
    "    coldwavell.loc[coldwavell['latlon']==ll,'ml_mae'] = ml_mae\n",
    "    coldwavell.loc[coldwavell['latlon']==ll,'ml_sd'] = ml_sd \n",
    "    phys_mbe = coldwave_subset['phys_err'].mean()\n",
    "    phys_mae = coldwave_subset['phys_err'].abs().mean()\n",
    "    phys_sd = coldwave_subset['phys_err'].std()\n",
    "    coldwavell.loc[coldwavell['latlon']==ll,'phys_mbe'] = phys_mbe\n",
    "    coldwavell.loc[coldwavell['latlon']==ll,'phys_mae'] = phys_mae\n",
    "    coldwavell.loc[coldwavell['latlon']==ll,'phys_sd'] = phys_sd\n",
    "    \n",
    "coldwavell['lat'] = coldwavell['latlon'].str.split('|').str[0].astype(float)\n",
    "coldwavell['lon'] = coldwavell['latlon'].str.split('|').str[1].astype(float)\n",
    "coldwavell['ml_outperforms'] = coldwavell['ml_mae'] < coldwavell['phys_mae']\n",
    "coldwavell['phys_outperforms'] = coldwavell['phys_mae'] < coldwavell['ml_mae']\n",
    "coldwavell['ml_mbe'] = coldwavell['ml_mbe'].astype(float); coldwavell['ml_mae'] = coldwavell['ml_mae'].astype(float); coldwavell['ml_sd'] = coldwavell['ml_sd'].astype(float)\n",
    "coldwavell['phys_mbe'] = coldwavell['phys_mbe'].astype(float); coldwavell['phys_mae'] = coldwavell['phys_mae'].astype(float); coldwavell['phys_sd'] = coldwavell['phys_sd'].astype(float)\n",
    "coldwavell\n",
    "\n",
    "#Plot\n",
    "parameter = 'phys_mae'\n",
    "range_par = [0,15]\n",
    "#range_par = [coldwavell[parameter].min(),coldwavell[parameter].max()]\n",
    "fig=px.scatter_mapbox(coldwavell, lat='lat', lon='lon', color =parameter,\n",
    "color_continuous_scale='jet', range_color=range_par,zoom=2.8, \n",
    "width=800, height=400, labels={\"phys_mae\": \"Physics MAE\"})\n",
    "fig.update_layout(mapbox_style=\"dark\", mapbox_accesstoken=mapbox_token,\n",
    "margin=dict(l=20, r=20, t=20, b=20))\n",
    "fig.show()\n",
    "fig.write_image(\"figs/\" + 'coldwaves/' + parameter + \".png\")"
   ]
  },
  {
   "cell_type": "code",
   "execution_count": 126,
   "metadata": {},
   "outputs": [
    {
     "data": {
      "text/html": [
       "<div>\n",
       "<style scoped>\n",
       "    .dataframe tbody tr th:only-of-type {\n",
       "        vertical-align: middle;\n",
       "    }\n",
       "\n",
       "    .dataframe tbody tr th {\n",
       "        vertical-align: top;\n",
       "    }\n",
       "\n",
       "    .dataframe thead th {\n",
       "        text-align: right;\n",
       "    }\n",
       "</style>\n",
       "<table border=\"1\" class=\"dataframe\">\n",
       "  <thead>\n",
       "    <tr style=\"text-align: right;\">\n",
       "      <th></th>\n",
       "      <th>vayuhdate</th>\n",
       "      <th>salientdate</th>\n",
       "    </tr>\n",
       "  </thead>\n",
       "  <tbody>\n",
       "    <tr>\n",
       "      <th>0</th>\n",
       "      <td>2021-01-12</td>\n",
       "      <td>2021-01-15</td>\n",
       "    </tr>\n",
       "    <tr>\n",
       "      <th>1</th>\n",
       "      <td>2021-02-16</td>\n",
       "      <td>2021-02-15</td>\n",
       "    </tr>\n",
       "    <tr>\n",
       "      <th>2</th>\n",
       "      <td>2021-03-16</td>\n",
       "      <td>2021-03-15</td>\n",
       "    </tr>\n",
       "    <tr>\n",
       "      <th>3</th>\n",
       "      <td>2021-04-13</td>\n",
       "      <td>2021-04-15</td>\n",
       "    </tr>\n",
       "    <tr>\n",
       "      <th>4</th>\n",
       "      <td>2021-05-18</td>\n",
       "      <td>2021-05-15</td>\n",
       "    </tr>\n",
       "    <tr>\n",
       "      <th>5</th>\n",
       "      <td>2021-06-15</td>\n",
       "      <td>2021-06-15</td>\n",
       "    </tr>\n",
       "  </tbody>\n",
       "</table>\n",
       "</div>"
      ],
      "text/plain": [
       "    vayuhdate salientdate\n",
       "0  2021-01-12  2021-01-15\n",
       "1  2021-02-16  2021-02-15\n",
       "2  2021-03-16  2021-03-15\n",
       "3  2021-04-13  2021-04-15\n",
       "4  2021-05-18  2021-05-15\n",
       "5  2021-06-15  2021-06-15"
      ]
     },
     "execution_count": 126,
     "metadata": {},
     "output_type": "execute_result"
    }
   ],
   "source": [
    "#Baselining model error and controlling within bounds (Generalised extreme value analysis, Peak over threshold analysis)\n",
    "vayuhdates = ['2021-01-12', '2021-02-16', '2021-03-16', '2021-04-13', '2021-05-18', '2021-06-15']\n",
    "salientdates = ['2021-01-15', '2021-02-15', '2021-03-15', '2021-04-15', '2021-05-15', '2021-06-15']\n",
    "datemap = {'vayuhdate': vayuhdates, 'salientdate': salientdates}\n",
    "datemap = pd.DataFrame(datemap)\n",
    "datemap"
   ]
  },
  {
   "cell_type": "code",
   "execution_count": null,
   "metadata": {},
   "outputs": [],
   "source": [
    "vayuhdates = ['2021-01-12', '2021-02-16', '2021-03-16', '2021-04-13', '2021-05-18', '2021-06-15']\n",
    "salientdates = ['2021-01-15', '2021-02-15', '2021-03-15', '2021-04-15', '2021-05-15', '2021-06-15']\n",
    "datemap = pd.DataFrame([vayuhdates, salientdates], columns=['vayuhdates','salientdates'])\n",
    "datemap\n",
    "\n",
    "def getsdate (vdate):\n",
    "    sdate = datemap[datemap['vayuhdate']==vdate]['salientdate']\n",
    "    return sdate\n",
    "\n",
    "vayuh_subset = df[df['start_date'].isin(vayuhdates)]\n",
    "vayuh_subset['salient_date'] = vayuh_subset['start_date']\n",
    "vayuh_subset['salient_date'].apply(getsdate, args=vayuh_subset['salient_date'])\n",
    "vayuh_subset\n"
   ]
  },
  {
   "cell_type": "code",
   "execution_count": 130,
   "metadata": {},
   "outputs": [
    {
     "data": {
      "text/html": [
       "<div><svg style=\"position: absolute; width: 0; height: 0; overflow: hidden\">\n",
       "<defs>\n",
       "<symbol id=\"icon-database\" viewBox=\"0 0 32 32\">\n",
       "<path d=\"M16 0c-8.837 0-16 2.239-16 5v4c0 2.761 7.163 5 16 5s16-2.239 16-5v-4c0-2.761-7.163-5-16-5z\"></path>\n",
       "<path d=\"M16 17c-8.837 0-16-2.239-16-5v6c0 2.761 7.163 5 16 5s16-2.239 16-5v-6c0 2.761-7.163 5-16 5z\"></path>\n",
       "<path d=\"M16 26c-8.837 0-16-2.239-16-5v6c0 2.761 7.163 5 16 5s16-2.239 16-5v-6c0 2.761-7.163 5-16 5z\"></path>\n",
       "</symbol>\n",
       "<symbol id=\"icon-file-text2\" viewBox=\"0 0 32 32\">\n",
       "<path d=\"M28.681 7.159c-0.694-0.947-1.662-2.053-2.724-3.116s-2.169-2.030-3.116-2.724c-1.612-1.182-2.393-1.319-2.841-1.319h-15.5c-1.378 0-2.5 1.121-2.5 2.5v27c0 1.378 1.122 2.5 2.5 2.5h23c1.378 0 2.5-1.122 2.5-2.5v-19.5c0-0.448-0.137-1.23-1.319-2.841zM24.543 5.457c0.959 0.959 1.712 1.825 2.268 2.543h-4.811v-4.811c0.718 0.556 1.584 1.309 2.543 2.268zM28 29.5c0 0.271-0.229 0.5-0.5 0.5h-23c-0.271 0-0.5-0.229-0.5-0.5v-27c0-0.271 0.229-0.5 0.5-0.5 0 0 15.499-0 15.5 0v7c0 0.552 0.448 1 1 1h7v19.5z\"></path>\n",
       "<path d=\"M23 26h-14c-0.552 0-1-0.448-1-1s0.448-1 1-1h14c0.552 0 1 0.448 1 1s-0.448 1-1 1z\"></path>\n",
       "<path d=\"M23 22h-14c-0.552 0-1-0.448-1-1s0.448-1 1-1h14c0.552 0 1 0.448 1 1s-0.448 1-1 1z\"></path>\n",
       "<path d=\"M23 18h-14c-0.552 0-1-0.448-1-1s0.448-1 1-1h14c0.552 0 1 0.448 1 1s-0.448 1-1 1z\"></path>\n",
       "</symbol>\n",
       "</defs>\n",
       "</svg>\n",
       "<style>/* CSS stylesheet for displaying xarray objects in jupyterlab.\n",
       " *\n",
       " */\n",
       "\n",
       ":root {\n",
       "  --xr-font-color0: var(--jp-content-font-color0, rgba(0, 0, 0, 1));\n",
       "  --xr-font-color2: var(--jp-content-font-color2, rgba(0, 0, 0, 0.54));\n",
       "  --xr-font-color3: var(--jp-content-font-color3, rgba(0, 0, 0, 0.38));\n",
       "  --xr-border-color: var(--jp-border-color2, #e0e0e0);\n",
       "  --xr-disabled-color: var(--jp-layout-color3, #bdbdbd);\n",
       "  --xr-background-color: var(--jp-layout-color0, white);\n",
       "  --xr-background-color-row-even: var(--jp-layout-color1, white);\n",
       "  --xr-background-color-row-odd: var(--jp-layout-color2, #eeeeee);\n",
       "}\n",
       "\n",
       "html[theme=dark],\n",
       "body.vscode-dark {\n",
       "  --xr-font-color0: rgba(255, 255, 255, 1);\n",
       "  --xr-font-color2: rgba(255, 255, 255, 0.54);\n",
       "  --xr-font-color3: rgba(255, 255, 255, 0.38);\n",
       "  --xr-border-color: #1F1F1F;\n",
       "  --xr-disabled-color: #515151;\n",
       "  --xr-background-color: #111111;\n",
       "  --xr-background-color-row-even: #111111;\n",
       "  --xr-background-color-row-odd: #313131;\n",
       "}\n",
       "\n",
       ".xr-wrap {\n",
       "  display: block;\n",
       "  min-width: 300px;\n",
       "  max-width: 700px;\n",
       "}\n",
       "\n",
       ".xr-text-repr-fallback {\n",
       "  /* fallback to plain text repr when CSS is not injected (untrusted notebook) */\n",
       "  display: none;\n",
       "}\n",
       "\n",
       ".xr-header {\n",
       "  padding-top: 6px;\n",
       "  padding-bottom: 6px;\n",
       "  margin-bottom: 4px;\n",
       "  border-bottom: solid 1px var(--xr-border-color);\n",
       "}\n",
       "\n",
       ".xr-header > div,\n",
       ".xr-header > ul {\n",
       "  display: inline;\n",
       "  margin-top: 0;\n",
       "  margin-bottom: 0;\n",
       "}\n",
       "\n",
       ".xr-obj-type,\n",
       ".xr-array-name {\n",
       "  margin-left: 2px;\n",
       "  margin-right: 10px;\n",
       "}\n",
       "\n",
       ".xr-obj-type {\n",
       "  color: var(--xr-font-color2);\n",
       "}\n",
       "\n",
       ".xr-sections {\n",
       "  padding-left: 0 !important;\n",
       "  display: grid;\n",
       "  grid-template-columns: 150px auto auto 1fr 20px 20px;\n",
       "}\n",
       "\n",
       ".xr-section-item {\n",
       "  display: contents;\n",
       "}\n",
       "\n",
       ".xr-section-item input {\n",
       "  display: none;\n",
       "}\n",
       "\n",
       ".xr-section-item input + label {\n",
       "  color: var(--xr-disabled-color);\n",
       "}\n",
       "\n",
       ".xr-section-item input:enabled + label {\n",
       "  cursor: pointer;\n",
       "  color: var(--xr-font-color2);\n",
       "}\n",
       "\n",
       ".xr-section-item input:enabled + label:hover {\n",
       "  color: var(--xr-font-color0);\n",
       "}\n",
       "\n",
       ".xr-section-summary {\n",
       "  grid-column: 1;\n",
       "  color: var(--xr-font-color2);\n",
       "  font-weight: 500;\n",
       "}\n",
       "\n",
       ".xr-section-summary > span {\n",
       "  display: inline-block;\n",
       "  padding-left: 0.5em;\n",
       "}\n",
       "\n",
       ".xr-section-summary-in:disabled + label {\n",
       "  color: var(--xr-font-color2);\n",
       "}\n",
       "\n",
       ".xr-section-summary-in + label:before {\n",
       "  display: inline-block;\n",
       "  content: '►';\n",
       "  font-size: 11px;\n",
       "  width: 15px;\n",
       "  text-align: center;\n",
       "}\n",
       "\n",
       ".xr-section-summary-in:disabled + label:before {\n",
       "  color: var(--xr-disabled-color);\n",
       "}\n",
       "\n",
       ".xr-section-summary-in:checked + label:before {\n",
       "  content: '▼';\n",
       "}\n",
       "\n",
       ".xr-section-summary-in:checked + label > span {\n",
       "  display: none;\n",
       "}\n",
       "\n",
       ".xr-section-summary,\n",
       ".xr-section-inline-details {\n",
       "  padding-top: 4px;\n",
       "  padding-bottom: 4px;\n",
       "}\n",
       "\n",
       ".xr-section-inline-details {\n",
       "  grid-column: 2 / -1;\n",
       "}\n",
       "\n",
       ".xr-section-details {\n",
       "  display: none;\n",
       "  grid-column: 1 / -1;\n",
       "  margin-bottom: 5px;\n",
       "}\n",
       "\n",
       ".xr-section-summary-in:checked ~ .xr-section-details {\n",
       "  display: contents;\n",
       "}\n",
       "\n",
       ".xr-array-wrap {\n",
       "  grid-column: 1 / -1;\n",
       "  display: grid;\n",
       "  grid-template-columns: 20px auto;\n",
       "}\n",
       "\n",
       ".xr-array-wrap > label {\n",
       "  grid-column: 1;\n",
       "  vertical-align: top;\n",
       "}\n",
       "\n",
       ".xr-preview {\n",
       "  color: var(--xr-font-color3);\n",
       "}\n",
       "\n",
       ".xr-array-preview,\n",
       ".xr-array-data {\n",
       "  padding: 0 5px !important;\n",
       "  grid-column: 2;\n",
       "}\n",
       "\n",
       ".xr-array-data,\n",
       ".xr-array-in:checked ~ .xr-array-preview {\n",
       "  display: none;\n",
       "}\n",
       "\n",
       ".xr-array-in:checked ~ .xr-array-data,\n",
       ".xr-array-preview {\n",
       "  display: inline-block;\n",
       "}\n",
       "\n",
       ".xr-dim-list {\n",
       "  display: inline-block !important;\n",
       "  list-style: none;\n",
       "  padding: 0 !important;\n",
       "  margin: 0;\n",
       "}\n",
       "\n",
       ".xr-dim-list li {\n",
       "  display: inline-block;\n",
       "  padding: 0;\n",
       "  margin: 0;\n",
       "}\n",
       "\n",
       ".xr-dim-list:before {\n",
       "  content: '(';\n",
       "}\n",
       "\n",
       ".xr-dim-list:after {\n",
       "  content: ')';\n",
       "}\n",
       "\n",
       ".xr-dim-list li:not(:last-child):after {\n",
       "  content: ',';\n",
       "  padding-right: 5px;\n",
       "}\n",
       "\n",
       ".xr-has-index {\n",
       "  font-weight: bold;\n",
       "}\n",
       "\n",
       ".xr-var-list,\n",
       ".xr-var-item {\n",
       "  display: contents;\n",
       "}\n",
       "\n",
       ".xr-var-item > div,\n",
       ".xr-var-item label,\n",
       ".xr-var-item > .xr-var-name span {\n",
       "  background-color: var(--xr-background-color-row-even);\n",
       "  margin-bottom: 0;\n",
       "}\n",
       "\n",
       ".xr-var-item > .xr-var-name:hover span {\n",
       "  padding-right: 5px;\n",
       "}\n",
       "\n",
       ".xr-var-list > li:nth-child(odd) > div,\n",
       ".xr-var-list > li:nth-child(odd) > label,\n",
       ".xr-var-list > li:nth-child(odd) > .xr-var-name span {\n",
       "  background-color: var(--xr-background-color-row-odd);\n",
       "}\n",
       "\n",
       ".xr-var-name {\n",
       "  grid-column: 1;\n",
       "}\n",
       "\n",
       ".xr-var-dims {\n",
       "  grid-column: 2;\n",
       "}\n",
       "\n",
       ".xr-var-dtype {\n",
       "  grid-column: 3;\n",
       "  text-align: right;\n",
       "  color: var(--xr-font-color2);\n",
       "}\n",
       "\n",
       ".xr-var-preview {\n",
       "  grid-column: 4;\n",
       "}\n",
       "\n",
       ".xr-var-name,\n",
       ".xr-var-dims,\n",
       ".xr-var-dtype,\n",
       ".xr-preview,\n",
       ".xr-attrs dt {\n",
       "  white-space: nowrap;\n",
       "  overflow: hidden;\n",
       "  text-overflow: ellipsis;\n",
       "  padding-right: 10px;\n",
       "}\n",
       "\n",
       ".xr-var-name:hover,\n",
       ".xr-var-dims:hover,\n",
       ".xr-var-dtype:hover,\n",
       ".xr-attrs dt:hover {\n",
       "  overflow: visible;\n",
       "  width: auto;\n",
       "  z-index: 1;\n",
       "}\n",
       "\n",
       ".xr-var-attrs,\n",
       ".xr-var-data {\n",
       "  display: none;\n",
       "  background-color: var(--xr-background-color) !important;\n",
       "  padding-bottom: 5px !important;\n",
       "}\n",
       "\n",
       ".xr-var-attrs-in:checked ~ .xr-var-attrs,\n",
       ".xr-var-data-in:checked ~ .xr-var-data {\n",
       "  display: block;\n",
       "}\n",
       "\n",
       ".xr-var-data > table {\n",
       "  float: right;\n",
       "}\n",
       "\n",
       ".xr-var-name span,\n",
       ".xr-var-data,\n",
       ".xr-attrs {\n",
       "  padding-left: 25px !important;\n",
       "}\n",
       "\n",
       ".xr-attrs,\n",
       ".xr-var-attrs,\n",
       ".xr-var-data {\n",
       "  grid-column: 1 / -1;\n",
       "}\n",
       "\n",
       "dl.xr-attrs {\n",
       "  padding: 0;\n",
       "  margin: 0;\n",
       "  display: grid;\n",
       "  grid-template-columns: 125px auto;\n",
       "}\n",
       "\n",
       ".xr-attrs dt,\n",
       ".xr-attrs dd {\n",
       "  padding: 0;\n",
       "  margin: 0;\n",
       "  float: left;\n",
       "  padding-right: 10px;\n",
       "  width: auto;\n",
       "}\n",
       "\n",
       ".xr-attrs dt {\n",
       "  font-weight: normal;\n",
       "  grid-column: 1;\n",
       "}\n",
       "\n",
       ".xr-attrs dt:hover span {\n",
       "  display: inline-block;\n",
       "  background: var(--xr-background-color);\n",
       "  padding-right: 10px;\n",
       "}\n",
       "\n",
       ".xr-attrs dd {\n",
       "  grid-column: 2;\n",
       "  white-space: pre-wrap;\n",
       "  word-break: break-all;\n",
       "}\n",
       "\n",
       ".xr-icon-database,\n",
       ".xr-icon-file-text2 {\n",
       "  display: inline-block;\n",
       "  vertical-align: middle;\n",
       "  width: 1em;\n",
       "  height: 1.5em !important;\n",
       "  stroke-width: 0;\n",
       "  stroke: currentColor;\n",
       "  fill: currentColor;\n",
       "}\n",
       "</style><pre class='xr-text-repr-fallback'>&lt;xarray.Dataset&gt;\n",
       "Dimensions:          (lead: 4, forecast_date: 1, lat: 65, lon: 120, ensemble: 50, nbnds: 2)\n",
       "Coordinates:\n",
       "  * lead             (lead) int64 1 4 7 10\n",
       "  * forecast_date    (forecast_date) datetime64[ns] 2021-01-15\n",
       "  * lat              (lat) float32 10.5 11.5 12.5 13.5 ... 71.5 72.5 73.5 74.5\n",
       "  * lon              (lon) float32 -169.5 -168.5 -167.5 ... -52.5 -51.5 -50.5\n",
       "Dimensions without coordinates: ensemble, nbnds\n",
       "Data variables:\n",
       "    vals_ens         (ensemble, forecast_date, lead, lat, lon) float32 ...\n",
       "    anom_ens         (ensemble, forecast_date, lead, lat, lon) float32 ...\n",
       "    anom             (forecast_date, lead, lat, lon) float32 nan nan ... nan nan\n",
       "    vals             (forecast_date, lead, lat, lon) float32 nan nan ... nan nan\n",
       "    forecast_period  (forecast_date, lead, nbnds) datetime64[ns] 2021-02-01 ....\n",
       "    lead_bnds        (lead, nbnds) int64 1 3 4 6 7 9 10 12\n",
       "    prob             (forecast_date, lead, lat, lon) float32 nan nan ... nan nan\n",
       "Attributes:\n",
       "    clim_period:  [&#x27;1990-01-01&#x27;, &#x27;2019-12-31&#x27;]</pre><div class='xr-wrap' hidden><div class='xr-header'><div class='xr-obj-type'>xarray.Dataset</div></div><ul class='xr-sections'><li class='xr-section-item'><input id='section-c15d17c3-ce3c-4dcd-b600-4a10e85631ca' class='xr-section-summary-in' type='checkbox' disabled ><label for='section-c15d17c3-ce3c-4dcd-b600-4a10e85631ca' class='xr-section-summary'  title='Expand/collapse section'>Dimensions:</label><div class='xr-section-inline-details'><ul class='xr-dim-list'><li><span class='xr-has-index'>lead</span>: 4</li><li><span class='xr-has-index'>forecast_date</span>: 1</li><li><span class='xr-has-index'>lat</span>: 65</li><li><span class='xr-has-index'>lon</span>: 120</li><li><span>ensemble</span>: 50</li><li><span>nbnds</span>: 2</li></ul></div><div class='xr-section-details'></div></li><li class='xr-section-item'><input id='section-ff390404-b082-436f-81ab-aab77a62ff10' class='xr-section-summary-in' type='checkbox'  checked><label for='section-ff390404-b082-436f-81ab-aab77a62ff10' class='xr-section-summary' >Coordinates: <span>(4)</span></label><div class='xr-section-inline-details'></div><div class='xr-section-details'><ul class='xr-var-list'><li class='xr-var-item'><div class='xr-var-name'><span class='xr-has-index'>lead</span></div><div class='xr-var-dims'>(lead)</div><div class='xr-var-dtype'>int64</div><div class='xr-var-preview xr-preview'>1 4 7 10</div><input id='attrs-56c8c2f3-fd8e-4e94-82e8-c0709891ddf9' class='xr-var-attrs-in' type='checkbox' ><label for='attrs-56c8c2f3-fd8e-4e94-82e8-c0709891ddf9' title='Show/Hide attributes'><svg class='icon xr-icon-file-text2'><use xlink:href='#icon-file-text2'></use></svg></label><input id='data-6ed00979-3fb4-4679-a034-e02ce59d8fac' class='xr-var-data-in' type='checkbox'><label for='data-6ed00979-3fb4-4679-a034-e02ce59d8fac' title='Show/Hide data repr'><svg class='icon xr-icon-database'><use xlink:href='#icon-database'></use></svg></label><div class='xr-var-attrs'><dl class='xr-attrs'><dt><span>long_name :</span></dt><dd>Forecast Lead</dd><dt><span>units :</span></dt><dd>months</dd><dt><span>bounds :</span></dt><dd>lead_bnds</dd></dl></div><div class='xr-var-data'><pre>array([ 1,  4,  7, 10])</pre></div></li><li class='xr-var-item'><div class='xr-var-name'><span class='xr-has-index'>forecast_date</span></div><div class='xr-var-dims'>(forecast_date)</div><div class='xr-var-dtype'>datetime64[ns]</div><div class='xr-var-preview xr-preview'>2021-01-15</div><input id='attrs-6a396d35-cf37-463f-bbbd-664e1ab2365b' class='xr-var-attrs-in' type='checkbox' ><label for='attrs-6a396d35-cf37-463f-bbbd-664e1ab2365b' title='Show/Hide attributes'><svg class='icon xr-icon-file-text2'><use xlink:href='#icon-file-text2'></use></svg></label><input id='data-722bd95d-b077-4ac8-92d8-541d619710f6' class='xr-var-data-in' type='checkbox'><label for='data-722bd95d-b077-4ac8-92d8-541d619710f6' title='Show/Hide data repr'><svg class='icon xr-icon-database'><use xlink:href='#icon-database'></use></svg></label><div class='xr-var-attrs'><dl class='xr-attrs'><dt><span>long_name :</span></dt><dd>Forecast Creation Date</dd></dl></div><div class='xr-var-data'><pre>array([&#x27;2021-01-15T00:00:00.000000000&#x27;], dtype=&#x27;datetime64[ns]&#x27;)</pre></div></li><li class='xr-var-item'><div class='xr-var-name'><span class='xr-has-index'>lat</span></div><div class='xr-var-dims'>(lat)</div><div class='xr-var-dtype'>float32</div><div class='xr-var-preview xr-preview'>10.5 11.5 12.5 ... 72.5 73.5 74.5</div><input id='attrs-6c828d4c-7abc-4cb8-b476-12c67c940476' class='xr-var-attrs-in' type='checkbox' ><label for='attrs-6c828d4c-7abc-4cb8-b476-12c67c940476' title='Show/Hide attributes'><svg class='icon xr-icon-file-text2'><use xlink:href='#icon-file-text2'></use></svg></label><input id='data-35fa4365-4171-4f53-83a6-dd13382e8fdb' class='xr-var-data-in' type='checkbox'><label for='data-35fa4365-4171-4f53-83a6-dd13382e8fdb' title='Show/Hide data repr'><svg class='icon xr-icon-database'><use xlink:href='#icon-database'></use></svg></label><div class='xr-var-attrs'><dl class='xr-attrs'><dt><span>long_name :</span></dt><dd>Latitude</dd></dl></div><div class='xr-var-data'><pre>array([10.5, 11.5, 12.5, 13.5, 14.5, 15.5, 16.5, 17.5, 18.5, 19.5, 20.5, 21.5,\n",
       "       22.5, 23.5, 24.5, 25.5, 26.5, 27.5, 28.5, 29.5, 30.5, 31.5, 32.5, 33.5,\n",
       "       34.5, 35.5, 36.5, 37.5, 38.5, 39.5, 40.5, 41.5, 42.5, 43.5, 44.5, 45.5,\n",
       "       46.5, 47.5, 48.5, 49.5, 50.5, 51.5, 52.5, 53.5, 54.5, 55.5, 56.5, 57.5,\n",
       "       58.5, 59.5, 60.5, 61.5, 62.5, 63.5, 64.5, 65.5, 66.5, 67.5, 68.5, 69.5,\n",
       "       70.5, 71.5, 72.5, 73.5, 74.5], dtype=float32)</pre></div></li><li class='xr-var-item'><div class='xr-var-name'><span class='xr-has-index'>lon</span></div><div class='xr-var-dims'>(lon)</div><div class='xr-var-dtype'>float32</div><div class='xr-var-preview xr-preview'>-169.5 -168.5 ... -51.5 -50.5</div><input id='attrs-b8a8ba96-3124-4e05-aa3d-dfbb0f318b76' class='xr-var-attrs-in' type='checkbox' ><label for='attrs-b8a8ba96-3124-4e05-aa3d-dfbb0f318b76' title='Show/Hide attributes'><svg class='icon xr-icon-file-text2'><use xlink:href='#icon-file-text2'></use></svg></label><input id='data-d1b9c21f-f5b5-42f4-bee0-c6f99ea9cc2e' class='xr-var-data-in' type='checkbox'><label for='data-d1b9c21f-f5b5-42f4-bee0-c6f99ea9cc2e' title='Show/Hide data repr'><svg class='icon xr-icon-database'><use xlink:href='#icon-database'></use></svg></label><div class='xr-var-attrs'><dl class='xr-attrs'><dt><span>long_name :</span></dt><dd>Longitude</dd></dl></div><div class='xr-var-data'><pre>array([-169.5, -168.5, -167.5, -166.5, -165.5, -164.5, -163.5, -162.5, -161.5,\n",
       "       -160.5, -159.5, -158.5, -157.5, -156.5, -155.5, -154.5, -153.5, -152.5,\n",
       "       -151.5, -150.5, -149.5, -148.5, -147.5, -146.5, -145.5, -144.5, -143.5,\n",
       "       -142.5, -141.5, -140.5, -139.5, -138.5, -137.5, -136.5, -135.5, -134.5,\n",
       "       -133.5, -132.5, -131.5, -130.5, -129.5, -128.5, -127.5, -126.5, -125.5,\n",
       "       -124.5, -123.5, -122.5, -121.5, -120.5, -119.5, -118.5, -117.5, -116.5,\n",
       "       -115.5, -114.5, -113.5, -112.5, -111.5, -110.5, -109.5, -108.5, -107.5,\n",
       "       -106.5, -105.5, -104.5, -103.5, -102.5, -101.5, -100.5,  -99.5,  -98.5,\n",
       "        -97.5,  -96.5,  -95.5,  -94.5,  -93.5,  -92.5,  -91.5,  -90.5,  -89.5,\n",
       "        -88.5,  -87.5,  -86.5,  -85.5,  -84.5,  -83.5,  -82.5,  -81.5,  -80.5,\n",
       "        -79.5,  -78.5,  -77.5,  -76.5,  -75.5,  -74.5,  -73.5,  -72.5,  -71.5,\n",
       "        -70.5,  -69.5,  -68.5,  -67.5,  -66.5,  -65.5,  -64.5,  -63.5,  -62.5,\n",
       "        -61.5,  -60.5,  -59.5,  -58.5,  -57.5,  -56.5,  -55.5,  -54.5,  -53.5,\n",
       "        -52.5,  -51.5,  -50.5], dtype=float32)</pre></div></li></ul></div></li><li class='xr-section-item'><input id='section-1beb8f03-d073-4579-bc48-a508a2e528bc' class='xr-section-summary-in' type='checkbox'  checked><label for='section-1beb8f03-d073-4579-bc48-a508a2e528bc' class='xr-section-summary' >Data variables: <span>(7)</span></label><div class='xr-section-inline-details'></div><div class='xr-section-details'><ul class='xr-var-list'><li class='xr-var-item'><div class='xr-var-name'><span>vals_ens</span></div><div class='xr-var-dims'>(ensemble, forecast_date, lead, lat, lon)</div><div class='xr-var-dtype'>float32</div><div class='xr-var-preview xr-preview'>...</div><input id='attrs-4993ac73-0c26-4da6-a880-5b54411039c3' class='xr-var-attrs-in' type='checkbox' ><label for='attrs-4993ac73-0c26-4da6-a880-5b54411039c3' title='Show/Hide attributes'><svg class='icon xr-icon-file-text2'><use xlink:href='#icon-file-text2'></use></svg></label><input id='data-696e538b-35b3-4b55-9d3c-cabd11c084f9' class='xr-var-data-in' type='checkbox'><label for='data-696e538b-35b3-4b55-9d3c-cabd11c084f9' title='Show/Hide data repr'><svg class='icon xr-icon-database'><use xlink:href='#icon-database'></use></svg></label><div class='xr-var-attrs'><dl class='xr-attrs'><dt><span>long_name :</span></dt><dd>Average Temperature (ensembles)</dd><dt><span>units :</span></dt><dd>degC</dd></dl></div><div class='xr-var-data'><pre>[1560000 values with dtype=float32]</pre></div></li><li class='xr-var-item'><div class='xr-var-name'><span>anom_ens</span></div><div class='xr-var-dims'>(ensemble, forecast_date, lead, lat, lon)</div><div class='xr-var-dtype'>float32</div><div class='xr-var-preview xr-preview'>...</div><input id='attrs-81cf888b-04aa-4b44-9a98-1cf529eaed9c' class='xr-var-attrs-in' type='checkbox' ><label for='attrs-81cf888b-04aa-4b44-9a98-1cf529eaed9c' title='Show/Hide attributes'><svg class='icon xr-icon-file-text2'><use xlink:href='#icon-file-text2'></use></svg></label><input id='data-1352de0e-39d6-45d3-9e3a-7694403b7700' class='xr-var-data-in' type='checkbox'><label for='data-1352de0e-39d6-45d3-9e3a-7694403b7700' title='Show/Hide data repr'><svg class='icon xr-icon-database'><use xlink:href='#icon-database'></use></svg></label><div class='xr-var-attrs'><dl class='xr-attrs'><dt><span>long_name :</span></dt><dd>Average Temperature Anomaly (ensembles)</dd><dt><span>units :</span></dt><dd>degC</dd></dl></div><div class='xr-var-data'><pre>[1560000 values with dtype=float32]</pre></div></li><li class='xr-var-item'><div class='xr-var-name'><span>anom</span></div><div class='xr-var-dims'>(forecast_date, lead, lat, lon)</div><div class='xr-var-dtype'>float32</div><div class='xr-var-preview xr-preview'>...</div><input id='attrs-18a49dad-b556-4f89-93f5-dfcd9ae880a8' class='xr-var-attrs-in' type='checkbox' ><label for='attrs-18a49dad-b556-4f89-93f5-dfcd9ae880a8' title='Show/Hide attributes'><svg class='icon xr-icon-file-text2'><use xlink:href='#icon-file-text2'></use></svg></label><input id='data-8591380b-9925-4411-b8b8-4b21e0e34e4e' class='xr-var-data-in' type='checkbox'><label for='data-8591380b-9925-4411-b8b8-4b21e0e34e4e' title='Show/Hide data repr'><svg class='icon xr-icon-database'><use xlink:href='#icon-database'></use></svg></label><div class='xr-var-attrs'><dl class='xr-attrs'><dt><span>long_name :</span></dt><dd>Average Temperature Anomaly</dd><dt><span>units :</span></dt><dd>degC</dd></dl></div><div class='xr-var-data'><pre>array([[[[nan, ..., nan],\n",
       "         ...,\n",
       "         [nan, ..., nan]],\n",
       "\n",
       "        ...,\n",
       "\n",
       "        [[nan, ..., nan],\n",
       "         ...,\n",
       "         [nan, ..., nan]]]], dtype=float32)</pre></div></li><li class='xr-var-item'><div class='xr-var-name'><span>vals</span></div><div class='xr-var-dims'>(forecast_date, lead, lat, lon)</div><div class='xr-var-dtype'>float32</div><div class='xr-var-preview xr-preview'>...</div><input id='attrs-ada89003-0768-46db-9a26-c2ad93ae9c3f' class='xr-var-attrs-in' type='checkbox' ><label for='attrs-ada89003-0768-46db-9a26-c2ad93ae9c3f' title='Show/Hide attributes'><svg class='icon xr-icon-file-text2'><use xlink:href='#icon-file-text2'></use></svg></label><input id='data-634c29a6-3e89-4e6f-93af-5a9391060e0b' class='xr-var-data-in' type='checkbox'><label for='data-634c29a6-3e89-4e6f-93af-5a9391060e0b' title='Show/Hide data repr'><svg class='icon xr-icon-database'><use xlink:href='#icon-database'></use></svg></label><div class='xr-var-attrs'><dl class='xr-attrs'><dt><span>long_name :</span></dt><dd>Average Temperature</dd><dt><span>units :</span></dt><dd>degC</dd></dl></div><div class='xr-var-data'><pre>array([[[[nan, ..., nan],\n",
       "         ...,\n",
       "         [nan, ..., nan]],\n",
       "\n",
       "        ...,\n",
       "\n",
       "        [[nan, ..., nan],\n",
       "         ...,\n",
       "         [nan, ..., nan]]]], dtype=float32)</pre></div></li><li class='xr-var-item'><div class='xr-var-name'><span>forecast_period</span></div><div class='xr-var-dims'>(forecast_date, lead, nbnds)</div><div class='xr-var-dtype'>datetime64[ns]</div><div class='xr-var-preview xr-preview'>...</div><input id='attrs-aa400755-046c-4af7-8b48-d571200cf5d4' class='xr-var-attrs-in' type='checkbox' ><label for='attrs-aa400755-046c-4af7-8b48-d571200cf5d4' title='Show/Hide attributes'><svg class='icon xr-icon-file-text2'><use xlink:href='#icon-file-text2'></use></svg></label><input id='data-9e8041e7-b663-457f-af9e-ad5492abe6fe' class='xr-var-data-in' type='checkbox'><label for='data-9e8041e7-b663-457f-af9e-ad5492abe6fe' title='Show/Hide data repr'><svg class='icon xr-icon-database'><use xlink:href='#icon-database'></use></svg></label><div class='xr-var-attrs'><dl class='xr-attrs'><dt><span>long_name :</span></dt><dd>Forecast Validity Period</dd></dl></div><div class='xr-var-data'><pre>array([[[&#x27;2021-02-01T00:00:00.000000000&#x27;, &#x27;2021-04-30T00:00:00.000000000&#x27;],\n",
       "        [&#x27;2021-05-01T00:00:00.000000000&#x27;, &#x27;2021-07-31T00:00:00.000000000&#x27;],\n",
       "        [&#x27;2021-08-01T00:00:00.000000000&#x27;, &#x27;2021-10-31T00:00:00.000000000&#x27;],\n",
       "        [&#x27;2021-11-01T00:00:00.000000000&#x27;, &#x27;2022-01-31T00:00:00.000000000&#x27;]]],\n",
       "      dtype=&#x27;datetime64[ns]&#x27;)</pre></div></li><li class='xr-var-item'><div class='xr-var-name'><span>lead_bnds</span></div><div class='xr-var-dims'>(lead, nbnds)</div><div class='xr-var-dtype'>int64</div><div class='xr-var-preview xr-preview'>...</div><input id='attrs-bb69f8e0-2395-4d15-9664-6449328524ae' class='xr-var-attrs-in' type='checkbox' ><label for='attrs-bb69f8e0-2395-4d15-9664-6449328524ae' title='Show/Hide attributes'><svg class='icon xr-icon-file-text2'><use xlink:href='#icon-file-text2'></use></svg></label><input id='data-876bcee9-80fe-4924-af76-d8f8259d518b' class='xr-var-data-in' type='checkbox'><label for='data-876bcee9-80fe-4924-af76-d8f8259d518b' title='Show/Hide data repr'><svg class='icon xr-icon-database'><use xlink:href='#icon-database'></use></svg></label><div class='xr-var-attrs'><dl class='xr-attrs'><dt><span>long_name :</span></dt><dd>Lead Bounds</dd></dl></div><div class='xr-var-data'><pre>array([[ 1,  3],\n",
       "       [ 4,  6],\n",
       "       [ 7,  9],\n",
       "       [10, 12]])</pre></div></li><li class='xr-var-item'><div class='xr-var-name'><span>prob</span></div><div class='xr-var-dims'>(forecast_date, lead, lat, lon)</div><div class='xr-var-dtype'>float32</div><div class='xr-var-preview xr-preview'>...</div><input id='attrs-36722050-c0df-4ce9-9ab2-65bf43e74c17' class='xr-var-attrs-in' type='checkbox' ><label for='attrs-36722050-c0df-4ce9-9ab2-65bf43e74c17' title='Show/Hide attributes'><svg class='icon xr-icon-file-text2'><use xlink:href='#icon-file-text2'></use></svg></label><input id='data-ef5bba1a-b158-4450-9c55-dd7d598d1420' class='xr-var-data-in' type='checkbox'><label for='data-ef5bba1a-b158-4450-9c55-dd7d598d1420' title='Show/Hide data repr'><svg class='icon xr-icon-database'><use xlink:href='#icon-database'></use></svg></label><div class='xr-var-attrs'><dl class='xr-attrs'><dt><span>long_name :</span></dt><dd>Probability of Above Normal</dd><dt><span>units :</span></dt><dd>%</dd></dl></div><div class='xr-var-data'><pre>array([[[[nan, ..., nan],\n",
       "         ...,\n",
       "         [nan, ..., nan]],\n",
       "\n",
       "        ...,\n",
       "\n",
       "        [[nan, ..., nan],\n",
       "         ...,\n",
       "         [nan, ..., nan]]]], dtype=float32)</pre></div></li></ul></div></li><li class='xr-section-item'><input id='section-dcc2f98e-f8fb-41a7-af16-437ce0f08dfc' class='xr-section-summary-in' type='checkbox'  checked><label for='section-dcc2f98e-f8fb-41a7-af16-437ce0f08dfc' class='xr-section-summary' >Attributes: <span>(1)</span></label><div class='xr-section-inline-details'></div><div class='xr-section-details'><dl class='xr-attrs'><dt><span>clim_period :</span></dt><dd>[&#x27;1990-01-01&#x27;, &#x27;2019-12-31&#x27;]</dd></dl></div></li></ul></div></div>"
      ],
      "text/plain": [
       "<xarray.Dataset>\n",
       "Dimensions:          (lead: 4, forecast_date: 1, lat: 65, lon: 120, ensemble: 50, nbnds: 2)\n",
       "Coordinates:\n",
       "  * lead             (lead) int64 1 4 7 10\n",
       "  * forecast_date    (forecast_date) datetime64[ns] 2021-01-15\n",
       "  * lat              (lat) float32 10.5 11.5 12.5 13.5 ... 71.5 72.5 73.5 74.5\n",
       "  * lon              (lon) float32 -169.5 -168.5 -167.5 ... -52.5 -51.5 -50.5\n",
       "Dimensions without coordinates: ensemble, nbnds\n",
       "Data variables:\n",
       "    vals_ens         (ensemble, forecast_date, lead, lat, lon) float32 ...\n",
       "    anom_ens         (ensemble, forecast_date, lead, lat, lon) float32 ...\n",
       "    anom             (forecast_date, lead, lat, lon) float32 ...\n",
       "    vals             (forecast_date, lead, lat, lon) float32 ...\n",
       "    forecast_period  (forecast_date, lead, nbnds) datetime64[ns] ...\n",
       "    lead_bnds        (lead, nbnds) int64 ...\n",
       "    prob             (forecast_date, lead, lat, lon) float32 ...\n",
       "Attributes:\n",
       "    clim_period:  ['1990-01-01', '2019-12-31']"
      ]
     },
     "execution_count": 130,
     "metadata": {},
     "output_type": "execute_result"
    }
   ],
   "source": [
    "import xarray as xr\n",
    "ds01 = xr.open_dataset('./salient/2021-01-15_ai.nc')\n",
    "ds01\n",
    "\n",
    "#ds02 = xr.open_dataset('./salient/2021-02-15_ai.nc')\n",
    "#ds03 = xr.open_dataset('./salient/2021-03-15_ai.nc')\n",
    "#ds04 = xr.open_dataset('./salient/2021-04-15_ai.nc')\n",
    "#ds05 = xr.open_dataset('./salient/2021-05-15_ai.nc')\n",
    "#ds06 = xr.open_dataset('./salient/2021-06-15_ai.nc')"
   ]
  },
  {
   "cell_type": "code",
   "execution_count": 123,
   "metadata": {},
   "outputs": [
    {
     "data": {
      "text/plain": [
       "\"\\nfor ind, row in vayuh_subset.iterrows():\\n    print(row['start_date'])\\n    sdate = datemap[datemap['vayuhdate']==row['start_date']]['salientdate']\\n    ds01 = xr.open_dataset('./salient/'+str(sdate)+'_ai.nc')\\n    ds01 = ds01['vals_ens']\\n    da = ds01.sel(lead=1, lat=row['lat'], lon=row['lon']-360, method='nearest')\\n    print(da.mean())\\n\""
      ]
     },
     "execution_count": 123,
     "metadata": {},
     "output_type": "execute_result"
    }
   ],
   "source": [
    "datemap = {'vayuhdate': vayuhdates,\n",
    "        'salientdate': salientdates}\n",
    "datemap = pd.DataFrame(datemap)\n",
    "\n",
    "for ind, row in vayuh_subset.iterrows():\n",
    "    sdate = datemap[datemap['vayuhdate']==row['start_date']]['salientdate']\n",
    "    ds01 = xr.open_dataset('./salient/'+str(sdate)+'_ai.nc')\n",
    "    ds01 = ds01['vals_ens']\n",
    "    da = ds01.sel(lead=1, lat=row['lat'], lon=row['lon']-360, method='nearest')\n",
    "    print(da.mean())\n",
    "'''          \n",
    "    "
   ]
  },
  {
   "cell_type": "code",
   "execution_count": null,
   "metadata": {},
   "outputs": [],
   "source": [
    "def getphys(filename, rowlat, rowlon):\n",
    "    ds = xr.open_dataset(filename) #time, lon, lat, height\n",
    "    da = ds['2t'] - 273.15\n",
    "    da = da.sel(lat=rowlat, lon=rowlon, method='nearest')\n",
    "    da = da[56:112]\n",
    "    phys = float(da.mean())\n",
    "    return phys"
   ]
  }
 ],
 "metadata": {
  "interpreter": {
   "hash": "db3e8d3b3e44c2786ba52806425ea2f213809a9c3fd96b4e04b3e372b3037363"
  },
  "kernelspec": {
   "display_name": "Python 3.8.11 64-bit ('newconda': conda)",
   "name": "python3"
  },
  "language_info": {
   "codemirror_mode": {
    "name": "ipython",
    "version": 3
   },
   "file_extension": ".py",
   "mimetype": "text/x-python",
   "name": "python",
   "nbconvert_exporter": "python",
   "pygments_lexer": "ipython3",
   "version": "3.8.11"
  },
  "orig_nbformat": 4
 },
 "nbformat": 4,
 "nbformat_minor": 2
}
